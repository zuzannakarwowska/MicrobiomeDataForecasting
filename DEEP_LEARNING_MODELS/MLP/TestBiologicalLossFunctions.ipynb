{
 "cells": [
  {
   "cell_type": "code",
   "execution_count": 1,
   "id": "d39cd247-d488-4478-afd2-8e928cdaa26e",
   "metadata": {},
   "outputs": [
    {
     "name": "stderr",
     "output_type": "stream",
     "text": [
      "In /home/MCB/zkarwowska/anaconda3/envs/basic_env/lib/python3.6/site-packages/matplotlib/mpl-data/stylelib/_classic_test.mplstyle: \n",
      "The text.latex.preview rcparam was deprecated in Matplotlib 3.3 and will be removed two minor releases later.\n",
      "In /home/MCB/zkarwowska/anaconda3/envs/basic_env/lib/python3.6/site-packages/matplotlib/mpl-data/stylelib/_classic_test.mplstyle: \n",
      "The mathtext.fallback_to_cm rcparam was deprecated in Matplotlib 3.3 and will be removed two minor releases later.\n",
      "In /home/MCB/zkarwowska/anaconda3/envs/basic_env/lib/python3.6/site-packages/matplotlib/mpl-data/stylelib/_classic_test.mplstyle: Support for setting the 'mathtext.fallback_to_cm' rcParam is deprecated since 3.3 and will be removed two minor releases later; use 'mathtext.fallback : 'cm' instead.\n",
      "In /home/MCB/zkarwowska/anaconda3/envs/basic_env/lib/python3.6/site-packages/matplotlib/mpl-data/stylelib/_classic_test.mplstyle: \n",
      "The validate_bool_maybe_none function was deprecated in Matplotlib 3.3 and will be removed two minor releases later.\n",
      "In /home/MCB/zkarwowska/anaconda3/envs/basic_env/lib/python3.6/site-packages/matplotlib/mpl-data/stylelib/_classic_test.mplstyle: \n",
      "The savefig.jpeg_quality rcparam was deprecated in Matplotlib 3.3 and will be removed two minor releases later.\n",
      "In /home/MCB/zkarwowska/anaconda3/envs/basic_env/lib/python3.6/site-packages/matplotlib/mpl-data/stylelib/_classic_test.mplstyle: \n",
      "The keymap.all_axes rcparam was deprecated in Matplotlib 3.3 and will be removed two minor releases later.\n",
      "In /home/MCB/zkarwowska/anaconda3/envs/basic_env/lib/python3.6/site-packages/matplotlib/mpl-data/stylelib/_classic_test.mplstyle: \n",
      "The animation.avconv_path rcparam was deprecated in Matplotlib 3.3 and will be removed two minor releases later.\n",
      "In /home/MCB/zkarwowska/anaconda3/envs/basic_env/lib/python3.6/site-packages/matplotlib/mpl-data/stylelib/_classic_test.mplstyle: \n",
      "The animation.avconv_args rcparam was deprecated in Matplotlib 3.3 and will be removed two minor releases later.\n"
     ]
    }
   ],
   "source": [
    "import matplotlib.pyplot as plt\n",
    "import pandas as pd\n",
    "import numpy as np\n",
    "import seaborn as sns\n",
    "\n",
    "#keras\n",
    "import keras.backend as K\n",
    "import tensorflow as tf \n",
    "    \n",
    "import os\n",
    "import sys\n",
    "\n",
    "sns.set_theme()"
   ]
  },
  {
   "cell_type": "code",
   "execution_count": 2,
   "id": "85385174-db12-4ac2-a4d5-2023f51e9a41",
   "metadata": {},
   "outputs": [],
   "source": [
    "MODULE_PATH = os.path.abspath('/storage/zkarwowska/SONATA_PROJECT/clean_code/data_preparation/') \n",
    "if MODULE_PATH not in sys.path:\n",
    "    sys.path.append(MODULE_PATH)\n",
    "\n",
    "from processing import MicrobiomeDataPreprocessing, CLRTransformer, MicrobiomeTraintestSplit\n",
    "\n",
    "MODULE_PATH = os.path.abspath('/storage/pszczerbiak/microbiome_interactions_project') # TODO load from CONFIG file\n",
    "if MODULE_PATH not in sys.path:\n",
    "    sys.path.append(MODULE_PATH)\n",
    "    \n",
    "from utils.measures import calculate_spearman, calculate_nrmse, inter_dissimilarity"
   ]
  },
  {
   "cell_type": "markdown",
   "id": "d294feaf-d16b-4bf1-b2c3-4bb442d8c94f",
   "metadata": {},
   "source": [
    "### 1. READ DATA"
   ]
  },
  {
   "cell_type": "code",
   "execution_count": 3,
   "id": "53b6938d-9ae2-491c-8998-886c57adb7b0",
   "metadata": {},
   "outputs": [],
   "source": [
    "FILE = '/storage/zkarwowska/microbiome-interactions/datasets/processed/ready_datasets/donorA_rarefied_interpolated_feces.csv'"
   ]
  },
  {
   "cell_type": "code",
   "execution_count": 4,
   "id": "5faff5a9-7766-4b2a-a767-ab0e3b37263e",
   "metadata": {},
   "outputs": [],
   "source": [
    "df = pd.read_csv(FILE, index_col = [0])\n",
    "df = df.sort_index()"
   ]
  },
  {
   "cell_type": "markdown",
   "id": "e2597d8e-b743-417c-8b64-b523734d39dc",
   "metadata": {},
   "source": [
    "### 2. PREPARE DATA"
   ]
  },
  {
   "cell_type": "code",
   "execution_count": 5,
   "id": "3b22b6a3-634f-4392-990d-f5fb7357c1f3",
   "metadata": {},
   "outputs": [],
   "source": [
    "#filter\n",
    "processing = MicrobiomeDataPreprocessing()\n",
    "df_filtered = processing.filter_rare_features(df, 0.8)\n",
    "\n",
    "#clr transform\n",
    "clr_transformer = CLRTransformer(is_pseudo_global=True, axis=1)\n",
    "df_filtered_clr = clr_transformer.fit_transform(df_filtered)\n",
    "\n",
    "#make supervised\n",
    "lag = 1\n",
    "#df_filtered_supervised = processing.make_supervised(df_filtered, lag)\n",
    "df_filtered_clr_supervised = processing.make_supervised(df_filtered_clr, lag)\n",
    "\n",
    "#df_filtered_clr_supervised[df_filtered_supervised.filter(like = 'lag0').columns] = df_filtered_supervised.filter(like = 'lag0')\n",
    "\n",
    "#split to train and test\n",
    "split = MicrobiomeTraintestSplit(0.15)\n",
    "train, test  = split.last_block_split(df_filtered_clr_supervised)\n",
    "\n",
    "y_train, X_train = train.filter(like = 'lag0'), train.drop(train.filter(regex='lag0').columns, axis=1)\n",
    "y_test, X_test = test.filter(like = 'lag0'), test.drop(test.filter(regex='lag0').columns, axis=1)"
   ]
  },
  {
   "cell_type": "code",
   "execution_count": 6,
   "id": "9a636261-f3bf-4991-af59-543226153fd3",
   "metadata": {},
   "outputs": [],
   "source": [
    "def inverse_clr(y_pred, x_test):\n",
    "    \n",
    "    y_pred_inv = np.exp(y_pred)*clr_transformer.gmean_[-x_test.shape[0]:].reshape(-1, 1)\n",
    "    \n",
    "    return y_pred_inv"
   ]
  },
  {
   "cell_type": "code",
   "execution_count": 7,
   "id": "da0b3bf5-0905-49a6-8099-f07638c7b28b",
   "metadata": {},
   "outputs": [],
   "source": [
    "y_test_true = inverse_clr(y_test, X_test)\n",
    "y_test_true.columns = df_filtered.columns\n",
    "\n",
    "naive = df_filtered.iloc[-(len(y_test_true)+lag):-lag]"
   ]
  },
  {
   "cell_type": "markdown",
   "id": "51ebdc38-4226-47f8-9fe0-4a04f30c2c3f",
   "metadata": {},
   "source": [
    "### 3. DEFINE MODEL"
   ]
  },
  {
   "cell_type": "code",
   "execution_count": 8,
   "id": "33661f58-9856-42d3-99f1-769d483f8b76",
   "metadata": {},
   "outputs": [],
   "source": [
    "def mlp(y_train, X_train, X_test, loss):\n",
    "    \n",
    "    l1 = 1e-4\n",
    "    l2 = 1e-4\n",
    "    \n",
    "    input_size = X_train.shape[1]\n",
    "    input_data = tf.keras.Input(shape=(input_size,))\n",
    "\n",
    "    layer_1 = tf.keras.layers.Dense(64, activation = 'relu', kernel_regularizer=tf.keras.regularizers.L1L2(l1=l1, l2=l2))\n",
    "    prediction = layer_1(input_data)\n",
    "    output = tf.keras.layers.Dense(y_train.shape[1])(prediction)\n",
    "    model = tf.keras.Model(input_data, output)\n",
    "    \n",
    "    model.compile(\n",
    "        loss = loss,\n",
    "        optimizer='Adam'\n",
    "    )\n",
    "    \n",
    "    model_result = model.fit(X_train, y_train,\n",
    "                                   epochs=150,\n",
    "                                   batch_size=4,\n",
    "                                   shuffle=False,\n",
    "                                   verbose = 0)                                           \n",
    "                                           \n",
    "    \n",
    "    pred = model.predict(X_test)\n",
    "    \n",
    "    return model_result, pred"
   ]
  },
  {
   "cell_type": "markdown",
   "id": "0c71bbdf-6ce2-442a-85f7-8fe47fefa160",
   "metadata": {},
   "source": [
    "### 4. TEST LOSS FUNCTIONS"
   ]
  },
  {
   "cell_type": "markdown",
   "id": "44339b61-ddfb-47d2-85f5-0c13f364a09c",
   "metadata": {},
   "source": [
    "#### 4.1 Mean Squared Error"
   ]
  },
  {
   "cell_type": "code",
   "execution_count": 9,
   "id": "2249881c-72f8-457a-9556-cc3d9b98cb26",
   "metadata": {},
   "outputs": [],
   "source": [
    "mse_history, mse_prediction = mlp(y_train, X_train, X_test, tf.keras.losses.MeanSquaredError())\n",
    "mse_prediction_inv = pd.DataFrame(inverse_clr(mse_prediction, X_test), columns = df_filtered.columns)"
   ]
  },
  {
   "cell_type": "markdown",
   "id": "06b998b2-ef29-4b89-9a97-2f0560f4873e",
   "metadata": {},
   "source": [
    "#### 4.2. Bray Curtis Loss"
   ]
  },
  {
   "cell_type": "code",
   "execution_count": 10,
   "id": "c0602303-c744-44f1-aaed-c40a2aa3a778",
   "metadata": {},
   "outputs": [],
   "source": [
    "def BrayCurtisLoss(y_true, y_pred):\n",
    "    \n",
    "    '''\n",
    "    \n",
    "    Bray Curtis distance between y_true and y_pred.\n",
    "    The Bray Curtis dissimilarity is used to quantify\n",
    "    the differences in species populations between two\n",
    "    different sites. \n",
    "    \n",
    "    '''\n",
    "\n",
    "    diff = tf.math.abs(y_true - y_pred)\n",
    "    sum = tf.math.abs(y_true + y_pred)\n",
    "    value = tf.reduce_sum(diff, axis=-1) / tf.reduce_sum(sum, axis=-1)\n",
    "\n",
    "    return value"
   ]
  },
  {
   "cell_type": "code",
   "execution_count": 11,
   "id": "0e17feb6-d851-4fbe-ad92-53211ce15b90",
   "metadata": {},
   "outputs": [],
   "source": [
    "bc_history, bc_prediction = mlp(y_train, X_train, X_test, BrayCurtisLoss)\n",
    "bc_prediction_inv = pd.DataFrame(inverse_clr(bc_prediction, X_test), columns = df_filtered.columns)"
   ]
  },
  {
   "cell_type": "markdown",
   "id": "d786f9e6-13c7-4ecf-93b7-f8f28864657f",
   "metadata": {},
   "source": [
    "#### 4.3 Aitchison Distance Loss"
   ]
  },
  {
   "cell_type": "code",
   "execution_count": 12,
   "id": "ff24f71f-a25d-448a-aa31-6542119419cf",
   "metadata": {},
   "outputs": [],
   "source": [
    "def AitchinsonDistanceLoss(y_true, y_pred):\n",
    "    \n",
    "    '''\n",
    "    \n",
    "    Euclidean distance between CLR transformed data\n",
    "    \n",
    "    '''\n",
    "\n",
    "    return K.sqrt(K.sum(K.square(y_pred - y_true), axis=-1))"
   ]
  },
  {
   "cell_type": "code",
   "execution_count": null,
   "id": "b623a7a9-663e-4357-9917-6296659de6bd",
   "metadata": {},
   "outputs": [],
   "source": [
    "aitchinson_history, aitchinson_prediction = mlp(y_train, X_train, X_test, AitchinsonDistanceLoss)\n",
    "aitchinson_prediction_inv = pd.DataFrame(inverse_clr(aitchinson_prediction, X_test), columns = df_filtered.columns)"
   ]
  },
  {
   "cell_type": "markdown",
   "id": "8b1bc8ac-b5f9-4088-99f8-f17997f99311",
   "metadata": {},
   "source": [
    "#### 5. VISUALISE RESULTS"
   ]
  },
  {
   "cell_type": "code",
   "execution_count": null,
   "id": "ffe6f199-1bb1-4f5b-afdc-d87624059089",
   "metadata": {},
   "outputs": [],
   "source": [
    "cols = df_filtered.iloc[:, 10:15]\n",
    "\n",
    "for col in cols:\n",
    "    \n",
    "\n",
    "    plt.figure(figsize = [15, 5])\n",
    "\n",
    "    idx = range(len(y_test_true.index))\n",
    "\n",
    "    sns.lineplot(x = idx, y = y_test_true[col].values, color = 'black')\n",
    "    sns.scatterplot(x = idx, y = y_test_true[col].values, color = 'black')\n",
    "\n",
    "    sns.lineplot(x = idx, y = aitchinson_prediction_inv[col].values, color = 'orange')\n",
    "    sns.scatterplot(x = idx, y = aitchinson_prediction_inv[col].values, color = 'orange')\n",
    "\n",
    "    sns.lineplot(x = idx, y = mse_prediction_inv[col].values, color = 'red')\n",
    "    sns.scatterplot(x = idx, y = mse_prediction_inv[col].values, color = 'red')\n",
    "\n",
    "    sns.lineplot(x = idx, y = bc_prediction_inv[col].values, color = 'blue')\n",
    "    sns.scatterplot(x = idx, y = bc_prediction_inv[col].values, color = 'blue')\n",
    "\n",
    "    sns.lineplot(x = idx, y = naive[col].values, color = 'green', linestyle = '-.')\n",
    "\n",
    "\n",
    "    plt.show()"
   ]
  },
  {
   "cell_type": "markdown",
   "id": "1968dc93-3a4f-4989-8b1a-9c0d2db3a815",
   "metadata": {},
   "source": [
    "#### 6. MEASURE FORECAST"
   ]
  },
  {
   "cell_type": "markdown",
   "id": "6ef2f95d-3df5-4c28-91cf-b64deb91b927",
   "metadata": {},
   "source": [
    "#### 6.1 BRAY CURTIS DISTANCE"
   ]
  },
  {
   "cell_type": "code",
   "execution_count": null,
   "id": "59c59341-1bec-444a-813e-c30f2813ed16",
   "metadata": {},
   "outputs": [],
   "source": [
    "y_test.index, naive.index = range(len(y_test)), range(len(naive))\n",
    "y_test.columns, naive.columns = df_filtered.columns, df_filtered.columns\n",
    "\n",
    "mse_bc = inter_dissimilarity(y_test, pd.DataFrame(mse_prediction, columns = df_filtered.columns), 'bc')\n",
    "mse_bc['loss'] = 'mse'\n",
    "\n",
    "bc_bc = inter_dissimilarity(y_test, pd.DataFrame(bc_prediction, columns = df_filtered.columns), 'bc')\n",
    "bc_bc['loss'] = 'bc'\n",
    "\n",
    "ai_bc = inter_dissimilarity(y_test, pd.DataFrame(aitchinson_prediction, columns = df_filtered.columns), 'bc')\n",
    "ai_bc['loss'] = 'aitchinson'\n",
    "\n",
    "\n",
    "BC_DF = mse_bc.append(bc_bc).append(ai_bc)"
   ]
  },
  {
   "cell_type": "code",
   "execution_count": null,
   "id": "bf004f17-615c-4495-a43b-285ba0ac40f8",
   "metadata": {},
   "outputs": [],
   "source": [
    "plt.figure(figsize = (10, 5))\n",
    "sns.boxplot(data = BC_DF, x = 'loss', y = 'bc', color = 'white', linewidth = .8)\n",
    "sns.swarmplot(data = BC_DF, x = 'loss', y = 'bc', s=4)\n",
    "\n",
    "plt.title('Bray Curtis between true and predicted timepoints - after CLR')"
   ]
  },
  {
   "cell_type": "code",
   "execution_count": null,
   "id": "2100ae4f-dd85-47ed-9f5a-14cace494bbb",
   "metadata": {},
   "outputs": [],
   "source": [
    "plt.figure(figsize = (15, 5))\n",
    "\n",
    "\n",
    "sns.lineplot(x = mse_bc.index, y = mse_bc['bc'].values, color = 'orange')\n",
    "sns.scatterplot(x = mse_bc.index, y = mse_bc['bc'].values, color = 'orange')\n",
    "\n",
    "\n",
    "sns.lineplot(x = bc_bc.index, y = bc_bc['bc'].values, color = 'blue')\n",
    "sns.scatterplot(x = bc_bc.index, y = bc_bc['bc'].values, color = 'blue')\n",
    "\n",
    "sns.lineplot(x = ai_bc.index, y = ai_bc['bc'].values, color='red')\n",
    "sns.scatterplot(x = ai_bc.index, y = ai_bc['bc'].values, color='red')\n",
    "\n",
    "plt.title('Bray Curtis between true and predicted timepoints - after CLR')"
   ]
  },
  {
   "cell_type": "markdown",
   "id": "948c9b84-7d4f-44dc-9f89-aebd1c36e4a0",
   "metadata": {},
   "source": [
    "#### 6.2. Spearman correlation"
   ]
  },
  {
   "cell_type": "code",
   "execution_count": null,
   "id": "f7da355b-ccf9-4d53-97e9-da817aa17d16",
   "metadata": {},
   "outputs": [],
   "source": [
    "y_test.index, naive.index = range(len(y_test)), range(len(naive))\n",
    "y_test.columns, naive.columns = df_filtered.columns, df_filtered.columns\n",
    "\n",
    "mse_rho = calculate_spearman(y_test, pd.DataFrame(mse_prediction, columns = df_filtered.columns), 'rho')\n",
    "mse_rho['loss'] = 'mse'\n",
    "\n",
    "bc_rho = calculate_spearman(y_test, pd.DataFrame(bc_prediction, columns = df_filtered.columns), 'rho')\n",
    "bc_rho['loss'] = 'bc'\n",
    "\n",
    "ai_rho = calculate_spearman(y_test, pd.DataFrame(aitchinson_prediction, columns = df_filtered.columns), 'rho')\n",
    "ai_rho['loss'] = 'aitchinson'\n",
    "\n",
    "\n",
    "RHO_DF = mse_rho.append(bc_rho).append(ai_rho)"
   ]
  },
  {
   "cell_type": "code",
   "execution_count": null,
   "id": "5f0d448e-4c0c-42c9-b950-b3310ff7c524",
   "metadata": {},
   "outputs": [],
   "source": [
    "plt.figure(figsize = (10, 5))\n",
    "\n",
    "sns.boxplot(data = RHO_DF, x = 'loss', y = 'rho', color = 'white', linewidth = .8)\n",
    "sns.swarmplot(data = RHO_DF, x = 'loss', y = 'rho',  s = 4)\n",
    "\n",
    "plt.title('Spearman correlation between true and predicted bacteria fluctuations - after CLR')"
   ]
  }
 ],
 "metadata": {
  "kernelspec": {
   "display_name": "basic_env",
   "language": "python",
   "name": "basic_env"
  },
  "language_info": {
   "codemirror_mode": {
    "name": "ipython",
    "version": 3
   },
   "file_extension": ".py",
   "mimetype": "text/x-python",
   "name": "python",
   "nbconvert_exporter": "python",
   "pygments_lexer": "ipython3",
   "version": "3.6.2"
  }
 },
 "nbformat": 4,
 "nbformat_minor": 5
}
