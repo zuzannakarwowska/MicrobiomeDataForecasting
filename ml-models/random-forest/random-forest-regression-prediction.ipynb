{
 "cells": [
  {
   "cell_type": "markdown",
   "id": "eaeebda6-bad6-44ce-8b79-64be1108105d",
   "metadata": {},
   "source": [
    "### PREDICTING MICROBIOME CHANGE IN TIME WITH RANDOM FOREST \n",
    "\n",
    "\n",
    "    1. interpolate df using PCHIP interpolation\n",
    "    2. add pseudocount and change ecah row to 100%\n",
    "    3. trasform using log transformations: CLR(y) and ALR(X)\n",
    "    4. filter rare bacteria\n",
    "    5. fit random forest model and predict bacteria in time: one model per target"
   ]
  },
  {
   "cell_type": "code",
   "execution_count": 14,
   "id": "93070042-15e0-45d9-a137-dcebb400ecb4",
   "metadata": {},
   "outputs": [],
   "source": [
    "#base\n",
    "import pandas as pd\n",
    "import numpy as np\n",
    "import matplotlib.pyplot as plt\n",
    "\n",
    "import os\n",
    "import sys\n",
    "\n",
    "import pickle\n",
    "\n",
    "from scipy.interpolate import pchip_interpolate\n",
    "from scipy import interpolate, stats\n",
    "\n",
    "import skbio\n",
    "from skbio.stats.composition import clr, alr, alr_inv, ilr, ilr_inv\n",
    "from sklearn.model_selection import RepeatedKFold, GridSearchCV\n",
    "from sklearn.ensemble import RandomForestRegressor\n",
    "\n",
    "MODULE_PATH = os.path.abspath('/storage/zkarwowska/predicting-microbiome-in-time/data-processing/data-preparation/') \n",
    "if MODULE_PATH not in sys.path:\n",
    "    sys.path.append(MODULE_PATH)\n",
    "    \n",
    "from processing import MicrobiomeDataPreprocessing, CLRTransformer, MicrobiomeTraintestSplit\n",
    "from interpolation import Interpolation"
   ]
  },
  {
   "cell_type": "code",
   "execution_count": 6,
   "id": "5001dc29-3f74-4722-ae63-0ed8e3eeaadf",
   "metadata": {},
   "outputs": [],
   "source": [
    "INPUT_FILE = '/storage/zkarwowska/microbiome-interactions/datasets/processed/ready_datasets_no_rarefaction/male_assigned_sample_names.csv'\n",
    "\n",
    "DF = pd.read_csv(INPUT_FILE, index_col = [0])\n",
    "DF.index  = DF.index.astype(int)\n",
    "\n",
    "#interpolate using pchip\n",
    "interpolator = Interpolation()\n",
    "INTERPOLATED_DF = interpolator.interpolate_pchip(DF) + 1e-9\n",
    "\n",
    "#change to PRC\n",
    "INTERPOLATED_PRC = INTERPOLATED_DF.div(INTERPOLATED_DF.sum(axis=1), axis=0) \n",
    "\n",
    "#change to ratio\n",
    "CLR_DF =  pd.DataFrame(clr(INTERPOLATED_PRC), columns = INTERPOLATED_PRC.columns)\n",
    "\n",
    "#filter rare bacteria \n",
    "processing = MicrobiomeDataPreprocessing()\n",
    "KEEP_COLUMNS = processing.filter_rare_features(INTERPOLATED_DF, treshold_perc=0.7).columns\n",
    "\n",
    "\n",
    "FILTERED_CLR_DF = CLR_DF[KEEP_COLUMNS]\n",
    "FILTERED_COUNT_DF = INTERPOLATED_PRC[KEEP_COLUMNS]"
   ]
  },
  {
   "cell_type": "code",
   "execution_count": 9,
   "id": "7a95150e-925b-4a6c-bc74-152ac90efa8a",
   "metadata": {},
   "outputs": [],
   "source": [
    "def compositional_random_forest(X, y):\n",
    "    \n",
    "    n_estimators = [100, 500, 1000]\n",
    "    max_features = ['sqrt']\n",
    "    max_depth = [3, 10, 20] #As you increase max depth you increase variance and decrease bias\n",
    "    random_state = [42] \n",
    "\n",
    "    param_grid = {'n_estimators': n_estimators, \n",
    "                 'max_features':max_features,\n",
    "                 'max_depth':max_depth}\n",
    "\n",
    "    cv = RepeatedKFold(n_repeats=3,\n",
    "                       n_splits=3,\n",
    "                       random_state=1)\n",
    "\n",
    "    rf_model = RandomForestRegressor(warm_start=True, criterion = 'mae')\n",
    "    \n",
    "    rf_grid = GridSearchCV(estimator = rf_model,\n",
    "                             param_grid = param_grid,\n",
    "                             cv = cv,\n",
    "                             verbose=1,\n",
    "                             n_jobs = -1,\n",
    "                             scoring = 'r2',\n",
    "                             refit=True\n",
    "                            )\n",
    "    rf_grid.fit(X, y)\n",
    "    return rf_grid"
   ]
  },
  {
   "cell_type": "code",
   "execution_count": 11,
   "id": "38062d2d-cf16-4451-a088-0d3d2fbc1521",
   "metadata": {},
   "outputs": [
    {
     "name": "stdout",
     "output_type": "stream",
     "text": [
      "Fitting 2 folds for each of 1 candidates, totalling 2 fits\n"
     ]
    }
   ],
   "source": [
    "lag=1\n",
    "\n",
    "PREDICTION_TEST = pd.DataFrame()\n",
    "PREDICTION_TRAIN = pd.DataFrame()\n",
    "\n",
    "for i in range(len(FILTERED_CLR_DF.columns)):\n",
    "    denom_idx = i\n",
    "    denom_name = FILTERED_COUNT_DF.iloc[:, denom_idx].name\n",
    "    COLS = FILTERED_COUNT_DF.drop(columns=denom_name, axis=1).columns\n",
    "\n",
    "    FILTERED_ALR_DF = pd.DataFrame(alr(FILTERED_COUNT_DF, denom_idx), columns = COLS)\n",
    "\n",
    "    processing = MicrobiomeDataPreprocessing()\n",
    "    CLR_SUPERVISED_DF = processing.make_supervised(FILTERED_CLR_DF, lag).filter(like='lag0')\n",
    "    ALR_SUPERVISED_DF = processing.make_supervised(FILTERED_ALR_DF, lag)\n",
    "    ALR_SUPERVISED_DF = ALR_SUPERVISED_DF.drop(columns = ALR_SUPERVISED_DF.filter(like='lag0').columns)\n",
    "\n",
    "    X_train = ALR_SUPERVISED_DF[:-40]\n",
    "    X_test = ALR_SUPERVISED_DF[-40:]\n",
    "\n",
    "    y_train = CLR_SUPERVISED_DF[:-40].iloc[:, denom_idx]\n",
    "    y_test = CLR_SUPERVISED_DF[-40:].iloc[:, denom_idx]\n",
    "\n",
    "    model = compositional_random_forest(X_train, y_train)\n",
    "\n",
    "    prediction_train = model.predict(X_train)\n",
    "    prediction_test  = model.predict(X_test)\n",
    "    denom_name = FILTERED_COUNT_DF.iloc[:, i].name\n",
    "\n",
    "\n",
    "    PREDICTION_TRAIN[denom_name] = prediction_train \n",
    "    PREDICTION_TEST[denom_name] = prediction_test"
   ]
  },
  {
   "cell_type": "code",
   "execution_count": 18,
   "id": "c4beec74-9419-4da2-a3f6-a0f69e9d1384",
   "metadata": {},
   "outputs": [
    {
     "data": {
      "text/plain": [
       "[<matplotlib.lines.Line2D at 0x7f538c36ea90>]"
      ]
     },
     "execution_count": 18,
     "metadata": {},
     "output_type": "execute_result"
    },
    {
     "data": {
      "image/png": "[encoded data removed]",
      "text/plain": [
       "<Figure size 1080x216 with 1 Axes>"
      ]
     },
     "metadata": {
      "needs_background": "light"
     },
     "output_type": "display_data"
    }
   ],
   "source": [
    "plt.figure(figsize = (15, 3))\n",
    "\n",
    "plt.plot(PREDICTION_TEST.values, 'r')\n",
    "plt.plot(y_test.values, 'k')"
   ]
  }
 ],
 "metadata": {
  "kernelspec": {
   "display_name": "basic_env",
   "language": "python",
   "name": "basic_env"
  },
  "language_info": {
   "codemirror_mode": {
    "name": "ipython",
    "version": 3
   },
   "file_extension": ".py",
   "mimetype": "text/x-python",
   "name": "python",
   "nbconvert_exporter": "python",
   "pygments_lexer": "ipython3",
   "version": "3.6.2"
  }
 },
 "nbformat": 4,
 "nbformat_minor": 5
}
