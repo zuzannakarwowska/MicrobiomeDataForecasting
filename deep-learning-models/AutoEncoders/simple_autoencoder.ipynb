{
 "cells": [
  {
   "cell_type": "code",
   "execution_count": 2,
   "id": "973bb3ef-bce5-4118-808c-ac1c90147890",
   "metadata": {},
   "outputs": [],
   "source": [
    "#base\n",
    "import matplotlib.pyplot as plt\n",
    "import pandas as pd\n",
    "import numpy as np\n",
    "import seaborn as sns\n",
    "import warnings\n",
    "import random\n",
    "#keras\n",
    "import keras.backend as K\n",
    "import tensorflow as tf \n",
    "#sklearn\n",
    "from sklearn.preprocessing import MinMaxScaler, StandardScaler\n",
    "from sklearn.model_selection import train_test_split\n",
    "#scipy\n",
    "from scipy.spatial import distance\n",
    "from scipy.stats import gmean\n",
    "from scipy import interpolate \n",
    "#biopython\n",
    "import skbio\n",
    "from io import StringIO"
   ]
  },
  {
   "cell_type": "code",
   "execution_count": 3,
   "id": "258e87f0-75d6-464c-9922-dcbb58b88570",
   "metadata": {},
   "outputs": [],
   "source": [
    "warnings.filterwarnings('ignore')\n",
    "sns.set_theme()"
   ]
  },
  {
   "cell_type": "markdown",
   "id": "1b735356-13ff-4b9e-8c67-8d945dce0567",
   "metadata": {},
   "source": [
    "# 1. READ AND PREPARE DATA"
   ]
  },
  {
   "cell_type": "code",
   "execution_count": 4,
   "id": "16a07df3-b751-44e5-ac78-70b16c8d601e",
   "metadata": {},
   "outputs": [],
   "source": [
    "df = pd.read_csv('rarefied_double_interpolated_feces_male_otu.csv', index_col = [0])"
   ]
  },
  {
   "cell_type": "code",
   "execution_count": null,
   "id": "5661fda2-969c-4a70-bc3b-03648d87e448",
   "metadata": {},
   "outputs": [],
   "source": [
    "def split_data(df):\n",
    "    \n",
    "    train_samples = int(df.shape[0] * .85) #use 15% of samples for test data\n",
    "    \n",
    "    X_train = df.sample(train_samples, random_state = 42)\n",
    "    X_test = df[~df.index.isin(X_train.index)]\n",
    "    \n",
    "    return X_train, X_test"
   ]
  },
  {
   "cell_type": "code",
   "execution_count": null,
   "id": "3f14fb9d-5df0-4359-ab85-42eaeb414113",
   "metadata": {},
   "outputs": [],
   "source": [
    "#split data to train and test\n",
    "x_train, x_test = split_data(df)"
   ]
  },
  {
   "cell_type": "code",
   "execution_count": null,
   "id": "da55498f-6cc6-4a5b-a734-cbee43f2dd79",
   "metadata": {},
   "outputs": [],
   "source": [
    "#normalize data using minmax\n",
    "scaler = MinMaxScaler()\n",
    "\n",
    "normalized_train = scaler.fit_transform(x_train)\n",
    "normalized_test = scaler.transform(x_test)"
   ]
  },
  {
   "cell_type": "code",
   "execution_count": null,
   "id": "8e6eaee9-2457-432f-9909-4d7e41d2624c",
   "metadata": {},
   "outputs": [],
   "source": [
    "plt.figure(figsize = [10,4])\n",
    "plt.subplot(1, 2, 1)\n",
    "sns.distplot(x_train)\n",
    "plt.subplot(1, 2, 2)\n",
    "sns.distplot(normalized_train)"
   ]
  },
  {
   "cell_type": "markdown",
   "id": "fa26b5cc-98af-439b-a7cd-01030f179959",
   "metadata": {},
   "source": [
    "# 2. TRAIN AND TEST AUTOENCODER"
   ]
  },
  {
   "cell_type": "code",
   "execution_count": null,
   "id": "8d48cc1c-cd49-4c58-a9bc-6cb2d1b3e6dc",
   "metadata": {},
   "outputs": [],
   "source": [
    "tree_file = 'tree.nwk'\n",
    "tree = skbio.tree.TreeNode.read(tree_file)\n",
    "\n",
    "class Metrics(tf.keras.callbacks.Callback):\n",
    "    \n",
    "    def __init__(self, validation_data, scaler, prefix = 'val'):\n",
    "        self.validation_data = validation_data #podpinamy validation data\n",
    "        self.scaler = scaler\n",
    "        self.prefix = prefix\n",
    "        \n",
    "        metrics_dict = {}\n",
    "\n",
    "    def on_epoch_end(self, batch, logs={}):\n",
    "        \n",
    "        predict = np.asarray(self.model.predict(self.validation_data[0]))\n",
    "        targ = self.validation_data[1]\n",
    "        \n",
    "        #predict_denorm = np.exp(scaler.inverse_transform(predict)) - 1\n",
    "        #target_denorm = np.exp(scaler.inverse_transform(targ)) - 1\n",
    "        \n",
    "        predict_denorm = scaler.inverse_transform(predict)\n",
    "        predict_denorm[predict_denorm<0] = 0\n",
    "        target_denorm = scaler.inverse_transform(targ)\n",
    "        target_denorm[target_denorm<0] = 0\n",
    "        \n",
    "        logs[f'{self.prefix}_cosine_distance'] = np.array([distance.cosine(target_denorm[i], predict_denorm[i]) for i in range(target_denorm.shape[0])]).mean()\n",
    "        logs[f'{self.prefix}_bray_curtis'] = np.array([distance.braycurtis(target_denorm[i], predict_denorm[i]) for i in range(target_denorm.shape[0])]).mean()\n",
    "        logs[f'{self.prefix}_weighted_unifrac'] = np.array([skbio.diversity.beta.weighted_unifrac(target_denorm[i], predict_denorm[i],otu_ids=df.columns, tree=tree) for i in range(target_denorm.shape[0])]).mean()\n",
    "        \n",
    "        return"
   ]
  },
  {
   "cell_type": "markdown",
   "id": "aa2f9e2d-c2fb-4c0a-8f22-a54769815a36",
   "metadata": {},
   "source": [
    "### model on test data"
   ]
  },
  {
   "cell_type": "code",
   "execution_count": null,
   "id": "793d385a-3e7a-406c-b8bf-b5398e2a04d0",
   "metadata": {},
   "outputs": [],
   "source": [
    "input_size = normalized_train.shape[1]\n",
    "input_data = tf.keras.Input(shape=(input_size,))\n",
    "\n",
    "encoded = tf.keras.layers.Dense(504, activation='relu')(input_data)\n",
    "\n",
    "encoded = tf.keras.layers.Dense(64)(encoded) ##latent, linear act\n",
    "\n",
    "decoded = tf.keras.layers.Dense(504, activation='relu')(encoded)\n",
    "#output layer\n",
    "decoded = tf.keras.layers.Dense(input_size, activation='linear')(decoded)\n",
    "\n",
    "# Compile model\n",
    "autoencoder = tf.keras.Model(input_data, decoded)\n",
    "\n",
    "autoencoder.compile(\n",
    "    loss = tf.keras.losses.MeanSquaredError(),   \n",
    "    optimizer='Adam'\n",
    ")\n",
    "\n",
    "metrics = Metrics(\n",
    "    validation_data = (normalized_test, normalized_test),\n",
    "    scaler=scaler,\n",
    "    prefix='val'\n",
    ")\n",
    "train_metrics = Metrics(\n",
    "    validation_data = (normalized_train, normalized_train),\n",
    "    scaler=scaler,\n",
    "    prefix = 'train'\n",
    ")\n",
    "\n",
    "ae_result = autoencoder.fit(\n",
    "    normalized_train, normalized_train,\n",
    "    epochs=60,\n",
    "    batch_size=16,\n",
    "    shuffle=False,\n",
    "    validation_data=(normalized_test, normalized_test),\n",
    "    callbacks = [metrics, train_metrics]\n",
    ")\n",
    "\n",
    "results_df = pd.DataFrame.from_dict(ae_result.history)\n",
    "results_df['epochs'] = results_df.index"
   ]
  },
  {
   "cell_type": "code",
   "execution_count": null,
   "id": "74800c42-6275-4b04-8893-faf2c8e2b68f",
   "metadata": {},
   "outputs": [],
   "source": [
    "results_df.to_csv('autoencoders/history/raw_ae_history.csv')"
   ]
  },
  {
   "cell_type": "markdown",
   "id": "262ecd2a-d626-4d52-b863-0a338f09e51d",
   "metadata": {},
   "source": [
    "# 3. PLOT METRICS AND LOSS"
   ]
  },
  {
   "cell_type": "code",
   "execution_count": null,
   "id": "8d3816a6-654c-4a7e-a972-63445ee39ace",
   "metadata": {},
   "outputs": [],
   "source": [
    "def plot_metric(df, metric):\n",
    "    \n",
    "    plt.figure(figsize=(10, 6))\n",
    "    if metric == 'loss':\n",
    "        \n",
    "        sns.lineplot(x = df['epochs'], y = df[metric], color = 'black')\n",
    "        sns.scatterplot(x = df['epochs'], y = df[metric], color = 'black')\n",
    "        \n",
    "    else:\n",
    "        sns.lineplot(x = df['epochs'], y = df['train_' + metric], color = 'black')\n",
    "        sns.scatterplot(x = df['epochs'], y = df['train_' + metric], color = 'black')\n",
    "    \n",
    "    sns.lineplot(x = df['epochs'], y = df['val_'+ metric], color = 'orange')\n",
    "    sns.scatterplot(x = df['epochs'], y = df['val_'+ metric], color = 'orange')\n",
    "    \n",
    "    plt.title('%s on train and test data' % (metric))\n",
    "    plt.savefig('plots/raw_data/raw_data_{}.png'.format(metric))"
   ]
  },
  {
   "cell_type": "code",
   "execution_count": null,
   "id": "0b483eeb-0097-4a30-832a-f9cffed3a318",
   "metadata": {},
   "outputs": [],
   "source": [
    "plot_metric(results_df, 'loss')\n",
    "plot_metric(results_df, 'bray_curtis')\n",
    "plot_metric(results_df, 'cosine_distance')\n",
    "plot_metric(results_df, 'weighted_unifrac')"
   ]
  },
  {
   "cell_type": "code",
   "execution_count": null,
   "id": "a713fb20-bffa-480a-a926-15e00da4ede9",
   "metadata": {},
   "outputs": [],
   "source": [
    "autoencoder.summary()"
   ]
  },
  {
   "cell_type": "code",
   "execution_count": null,
   "id": "fcf8ed56-6f6b-40b1-917d-95c34a1fbdd1",
   "metadata": {},
   "outputs": [],
   "source": [
    "autoencoder.save('autoencoders/raw_data_ae/raw_data_ae.hdf5')"
   ]
  },
  {
   "cell_type": "markdown",
   "id": "69a44ba6-5fa8-4555-9a25-8dc762667ad7",
   "metadata": {},
   "source": [
    "# 4. Extract latent layer"
   ]
  },
  {
   "cell_type": "code",
   "execution_count": null,
   "id": "556a51c5-768e-4bdb-a575-7951345351d2",
   "metadata": {},
   "outputs": [],
   "source": [
    "ae = tf.keras.models.load_model('autoencoders/raw_data_ae/raw_data_ae.hdf5')\n",
    "\n",
    "encoder_model = tf.keras.Model(ae.input, ae.layers[-3].output)\n",
    "\n",
    "encoded_array = encoder_model.predict(normalized_train)\n",
    "encoded_df = pd.DataFrame(encoded_array)\n",
    "\n",
    "encoded_df.to_csv('SVAR_DATA/encoded_data_for_prediction/raw_xtrain_encoded.csv', sep = '\\t')"
   ]
  },
  {
   "cell_type": "markdown",
   "id": "c1fc9037-fdd9-4679-9c45-7e712db61897",
   "metadata": {},
   "source": [
    "# 5. sVAR prediction"
   ]
  },
  {
   "cell_type": "markdown",
   "id": "0d52a393-60af-45a6-a54e-49156bce0a7d",
   "metadata": {},
   "source": [
    "# 6. DECODE EMBEDDED PREDICTION"
   ]
  },
  {
   "cell_type": "code",
   "execution_count": null,
   "id": "703131bd-9157-46b2-ad36-c459346ae209",
   "metadata": {},
   "outputs": [],
   "source": [
    "%pwd"
   ]
  },
  {
   "cell_type": "code",
   "execution_count": null,
   "id": "8d4fcc94-020a-413b-9a0e-94c0429ea9aa",
   "metadata": {},
   "outputs": [],
   "source": [
    "encoded_prediction_svar2 = pd.read_csv('SVAR_DATA/svar_predictions/raw_xtrain_data_ae_predictions_sVAR2.csv')\n",
    "#encoded_prediction_svar2 = pd.read_csv('svar_predictions/raw_data_ae_predictions_sVAR2.csv')\n",
    "\n",
    "#read model\n",
    "ae = tf.keras.models.load_model('autoencoders/raw_data_ae/raw_data_ae.hdf5')\n",
    "\n",
    "#read decoder\n",
    "encoding_dim = 64\n",
    "encoded_input = tf.keras.Input(shape=(encoding_dim,))\n",
    "\n",
    "decoder = ae.layers[-2](encoded_input)\n",
    "decoder = ae.layers[-1](decoder)\n",
    "decoder_model = tf.keras.Model(encoded_input, decoder)\n",
    "\n",
    "\n",
    "#predict \n",
    "#decoded_predicion_svar1 = pd.DataFrame(decoder_model.predict(encoded_prediction_svar1), columns = df.columns)\n",
    "#decoded_predicion_svar1[decoded_predicion_svar1<0] = 0\n",
    "\n",
    "decoded_predicion_svar2 = decoder_model.predict(encoded_prediction_svar2)\n",
    "decoded_prediction_denorm = scaler.inverse_transform(decoded_predicion_svar2)\n",
    "decoded_prediction_denorm[decoded_prediction_denorm<0] = 0\n",
    "\n",
    "decoded_prediction_denorm_df = pd.DataFrame(decoded_prediction_denorm, columns = df.columns)\n",
    "decoded_prediction_denorm_df.index = x_train.tail(18).index\n",
    "\n",
    "#decoded_predicion_svar1.to_csv('decoded_svar_predictions/raw_svar1_prediction_decoded.csv')\n",
    "#decoded_predicion_svar2.to_csv('decoded_svar_predictions/raw_svar2_prediction_decoded.csv')"
   ]
  },
  {
   "cell_type": "code",
   "execution_count": null,
   "id": "e38343f7-27f8-4039-b94a-f1d77aa70adf",
   "metadata": {},
   "outputs": [],
   "source": [
    "decoded_prediction_denorm_df"
   ]
  },
  {
   "cell_type": "code",
   "execution_count": null,
   "id": "ac0ecade-ac82-48fa-b537-6cda949bdab5",
   "metadata": {},
   "outputs": [],
   "source": [
    "col = 'TACGGAGGGTGCGAGCGTTAATCGGAATAACTGGGCGTAAAGGGCACGCAGGCGGTGACTTAAGTGAGGTGTGAAAGCCCCGGGCTTAACCTGGGAATTG'\n",
    "\n",
    "sns.lineplot("
   ]
  },
  {
   "cell_type": "markdown",
   "id": "669df190-b6fa-4538-9556-93406afe9923",
   "metadata": {},
   "source": [
    "# check prediction"
   ]
  },
  {
   "cell_type": "markdown",
   "id": "42f58391-5992-4128-b5f8-33401ef0c035",
   "metadata": {},
   "source": [
    "### normalized rmse"
   ]
  },
  {
   "cell_type": "code",
   "execution_count": null,
   "id": "577a5193-8e73-44f5-9fe5-9fe42449b3db",
   "metadata": {},
   "outputs": [],
   "source": [
    "from sklearn.metrics import mean_squared_error\n",
    "\n",
    "def calculate_nrmse(predicion, model):\n",
    "    \n",
    "    normalised_nRMSE = []\n",
    "    COL = []\n",
    "\n",
    "    for col in predicion.columns.tolist():\n",
    "\n",
    "        TRUE = history[col]    \n",
    "        FORECAST = predicion[col]\n",
    "\n",
    "        divider = TRUE.max() - TRUE.min() #+ 0.00001\n",
    "        RMSE = mean_squared_error(TRUE, FORECAST, squared=False)\n",
    "        nRMSE = RMSE/divider\n",
    "\n",
    "        normalised_nRMSE.append(nRMSE)\n",
    "        COL.append(col)\n",
    "\n",
    "    nRMSE_COL = pd.DataFrame(list(zip(COL, normalised_nRMSE)), columns = ['BACTERIA', 'NRMSE'])\n",
    "    nRMSE_COL['model'] = model\n",
    "    \n",
    "    return nRMSE_COL"
   ]
  },
  {
   "cell_type": "code",
   "execution_count": null,
   "id": "603f8971-724f-4e6e-9419-49b570ce8e6d",
   "metadata": {},
   "outputs": [],
   "source": [
    "nrmse_svar1 = calculate_nrmse(decoded_predicion_svar1, 'svar1')\n",
    "nrmse_svar2 = calculate_nrmse(decoded_predicion_svar2, 'svar2')\n",
    "\n",
    "NRMSE_DF = nrmse_svar1.append(nrmse_svar2)"
   ]
  },
  {
   "cell_type": "code",
   "execution_count": null,
   "id": "81eb77d6-6abf-4348-b99d-84a38eed7c89",
   "metadata": {},
   "outputs": [],
   "source": [
    "plt.figure(figsize = [10, 5])\n",
    "\n",
    "sns.boxplot(\n",
    "    y = NRMSE_DF['NRMSE'],\n",
    "    x = NRMSE_DF['model'],\n",
    "    orient = 'v',\n",
    "    width = .3,\n",
    "    color = 'White'\n",
    ")\n",
    "sns.swarmplot(\n",
    "    y = NRMSE_DF['NRMSE'],\n",
    "    x = NRMSE_DF['model'],\n",
    "    orient = 'v',\n",
    "    s = 5,\n",
    "    alpha = .6\n",
    ")\n",
    "\n",
    "#plt.title('{}_nrmse'.format(model))\n",
    "#plt.savefig('svar1_nrmse.png')"
   ]
  },
  {
   "cell_type": "markdown",
   "id": "c5bd5880-e282-4d29-b4d5-dc006dee7472",
   "metadata": {},
   "source": [
    "### spearman r"
   ]
  },
  {
   "cell_type": "code",
   "execution_count": null,
   "id": "25fe44d1-e474-4afb-8323-54af9a62ab17",
   "metadata": {},
   "outputs": [],
   "source": [
    "from scipy.stats import spearmanr\n",
    "\n",
    "def calculate_rho(predicion, model):\n",
    "    \n",
    "    RHO = []\n",
    "    COL = []\n",
    "\n",
    "    for col in predicion.columns.tolist():\n",
    "\n",
    "        TRUE = history[col]    \n",
    "        FORECAST = predicion[col]\n",
    "        \n",
    "        rho = spearmanr(TRUE, FORECAST)\n",
    "\n",
    "        RHO.append(rho[0])\n",
    "        COL.append(col)\n",
    "\n",
    "    RHO_DF = pd.DataFrame(list(zip(COL, np.abs(RHO))), columns = ['BACTERIA', 'RHO']).dropna()\n",
    "    RHO_DF['model'] = model\n",
    "    \n",
    "    return RHO_DF"
   ]
  },
  {
   "cell_type": "code",
   "execution_count": null,
   "id": "eca15bbc-1661-4549-842f-af9bc3043a4b",
   "metadata": {},
   "outputs": [],
   "source": [
    "rho_svar1 = calculate_rho(decoded_predicion_svar1, 'svar1')\n",
    "rho_svar2 = calculate_rho(decoded_predicion_svar2, 'svar2')\n",
    "\n",
    "RHO_DF = rho_svar1.append(rho_svar2)"
   ]
  },
  {
   "cell_type": "code",
   "execution_count": null,
   "id": "99b40f75-dfc5-43d1-90fa-55b14b7cf20e",
   "metadata": {},
   "outputs": [],
   "source": [
    "plt.figure(figsize = [10, 5])\n",
    "\n",
    "sns.boxplot(\n",
    "    y = RHO_DF['RHO'],\n",
    "    x = RHO_DF['model'],\n",
    "    orient = 'v',\n",
    "    width = .3,\n",
    "    color = 'White'\n",
    ")\n",
    "sns.swarmplot(\n",
    "    y = RHO_DF['RHO'],\n",
    "    x = RHO_DF['model'],\n",
    "    orient = 'v',\n",
    "    s = 5,\n",
    "    alpha = .6\n",
    ")"
   ]
  }
 ],
 "metadata": {
  "kernelspec": {
   "display_name": "deep_ae",
   "language": "python",
   "name": "deep_ae"
  },
  "language_info": {
   "codemirror_mode": {
    "name": "ipython",
    "version": 3
   },
   "file_extension": ".py",
   "mimetype": "text/x-python",
   "name": "python",
   "nbconvert_exporter": "python",
   "pygments_lexer": "ipython3",
   "version": "3.9.7"
  }
 },
 "nbformat": 4,
 "nbformat_minor": 5
}
