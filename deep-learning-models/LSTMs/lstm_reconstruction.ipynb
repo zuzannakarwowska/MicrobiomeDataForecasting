{
 "cells": [
  {
   "cell_type": "code",
   "execution_count": 10,
   "id": "7a12bf8b-e548-4e0e-86f7-3bf360905587",
   "metadata": {},
   "outputs": [],
   "source": [
    "#base\n",
    "import matplotlib.pyplot as plt\n",
    "import pandas as pd\n",
    "import numpy as np\n",
    "from numpy import array\n",
    "import seaborn as sns\n",
    "import warnings\n",
    "import random\n",
    "#sklearn\n",
    "from sklearn.preprocessing import MinMaxScaler, StandardScaler\n",
    "from sklearn.model_selection import train_test_split\n",
    "\n",
    "import tensorflow as tf\n",
    "from scipy.spatial import distance\n",
    "from scipy import stats\n",
    "from sklearn.metrics import mean_absolute_error\n",
    "from keras.wrappers.scikit_learn import KerasRegressor\n",
    "from sklearn.model_selection import KFold, RandomizedSearchCV"
   ]
  },
  {
   "cell_type": "code",
   "execution_count": null,
   "id": "2d0a06fd-c67f-452f-be42-89bdda441f79",
   "metadata": {},
   "outputs": [],
   "source": [
    "#input shape n_samples x timesteps x n_features\n",
    "#https://github.com/cerlymarco/MEDIUM_NoteBook/blob/master/VAE_TimeSeries/VAE_TimeSeries.ipynb\n",
    "#https://www.analyticsvidhya.com/blog/2020/10/multivariate-multi-step-time-series-forecasting-using-stacked-lstm-sequence-to-sequence-autoencoder-in-tensorflow-2-0-keras/"
   ]
  },
  {
   "cell_type": "code",
   "execution_count": 2,
   "id": "48770e1d-6d81-4f32-9776-3792985a6356",
   "metadata": {},
   "outputs": [],
   "source": [
    "warnings.filterwarnings('ignore')\n",
    "sns.set_theme()"
   ]
  },
  {
   "cell_type": "code",
   "execution_count": 3,
   "id": "ba651bee-2970-46c0-b3c6-f15cc1c134cc",
   "metadata": {},
   "outputs": [],
   "source": [
    "df = pd.read_csv('rarefied_double_interpolated_feces_male_otu.csv', index_col = [0])\n",
    "\n",
    "def filter_rare_bacteria(df):\n",
    "    \n",
    "    rare_bacteria_df = pd.DataFrame((df == 0).astype(int).sum(axis = 0))\n",
    "    rare_bacteria_col = rare_bacteria_df[rare_bacteria_df[0] > 250].index\n",
    "    df_filtered = df.drop(rare_bacteria_col, axis = 1)\n",
    "    \n",
    "    return df_filtered\n",
    "\n",
    "filtered_df = filter_rare_bacteria(df)\n",
    "filtered_df.index = pd.to_datetime(filtered_df.index)\n",
    "\n",
    "x_train, x_test = filtered_df.iloc[:220], filtered_df.iloc[221:]\n",
    "\n",
    "scaler = MinMaxScaler()\n",
    "normalized_train = scaler.fit_transform(x_train)\n",
    "normalized_test = scaler.transform(x_test)"
   ]
  },
  {
   "cell_type": "code",
   "execution_count": 5,
   "id": "5e0f16ea-5b25-4afe-b8e4-9b68b32372cd",
   "metadata": {},
   "outputs": [],
   "source": [
    "def temporalize(X, y, lookback):\n",
    "    output_X = []\n",
    "    #output_y = []\n",
    "    for i in range(len(X)-lookback-1):\n",
    "        t = []\n",
    "        for j in range(1,lookback+1):\n",
    "            # Gather past records upto the lookback period\n",
    "            t.append(X[[(i+j+1)], :])\n",
    "        output_X.append(t)\n",
    "        #output_y.append(y[i+lookback+1])\n",
    "        \n",
    "    return output_X #, output_y"
   ]
  },
  {
   "cell_type": "code",
   "execution_count": 6,
   "id": "cf326dd1-8115-45c5-bcd8-6f1d4f85d0ab",
   "metadata": {},
   "outputs": [],
   "source": [
    "timesteps = 14\n",
    "n_features = normalized_train.shape[1]\n",
    "\n",
    "X_temp = temporalize(X = normalized_train, y = np.zeros(len(normalized_train)), lookback = timesteps)\n",
    "y_temp = temporalize(X = normalized_test, y = np.zeros(len(normalized_test)), lookback = timesteps)\n",
    "\n",
    "n_features = normalized_train.shape[1]\n",
    "\n",
    "\n",
    "#scaled sequential x\n",
    "X_array = np.array(X_temp)\n",
    "X_array = X_array.reshape(X_array.shape[0], timesteps, n_features) \n",
    "\n",
    "#scaled sequential y\n",
    "y_array = np.array(y_temp)\n",
    "y_array = y_array.reshape(y_array.shape[0], timesteps, n_features) "
   ]
  },
  {
   "cell_type": "code",
   "execution_count": null,
   "id": "1453263e-17f4-4076-b584-b30121390b2f",
   "metadata": {},
   "outputs": [
    {
     "name": "stdout",
     "output_type": "stream",
     "text": [
      "Fitting 3 folds for each of 9 candidates, totalling 27 fits\n",
      "[CV 1/3; 1/9] START batch_size=8, dropout_rate=0.1, epochs=100..................\n",
      "[CV 1/3; 1/9] END batch_size=8, dropout_rate=0.1, epochs=100;, score=-0.082 total time= 1.0min\n",
      "[CV 2/3; 1/9] START batch_size=8, dropout_rate=0.1, epochs=100..................\n",
      "[CV 2/3; 1/9] END batch_size=8, dropout_rate=0.1, epochs=100;, score=-0.080 total time= 1.4min\n",
      "[CV 3/3; 1/9] START batch_size=8, dropout_rate=0.1, epochs=100..................\n",
      "[CV 3/3; 1/9] END batch_size=8, dropout_rate=0.1, epochs=100;, score=-0.097 total time= 1.4min\n",
      "[CV 1/3; 2/9] START batch_size=8, dropout_rate=0.2, epochs=100..................\n",
      "[CV 1/3; 2/9] END batch_size=8, dropout_rate=0.2, epochs=100;, score=-0.082 total time= 1.1min\n",
      "[CV 2/3; 2/9] START batch_size=8, dropout_rate=0.2, epochs=100..................\n",
      "[CV 2/3; 2/9] END batch_size=8, dropout_rate=0.2, epochs=100;, score=-0.081 total time= 1.4min\n",
      "[CV 3/3; 2/9] START batch_size=8, dropout_rate=0.2, epochs=100..................\n",
      "[CV 3/3; 2/9] END batch_size=8, dropout_rate=0.2, epochs=100;, score=-0.096 total time= 1.4min\n",
      "[CV 1/3; 3/9] START batch_size=8, dropout_rate=0.3, epochs=100..................\n",
      "[CV 1/3; 3/9] END batch_size=8, dropout_rate=0.3, epochs=100;, score=-0.082 total time= 1.1min\n",
      "[CV 2/3; 3/9] START batch_size=8, dropout_rate=0.3, epochs=100..................\n",
      "[CV 2/3; 3/9] END batch_size=8, dropout_rate=0.3, epochs=100;, score=-0.081 total time= 1.4min\n",
      "[CV 3/3; 3/9] START batch_size=8, dropout_rate=0.3, epochs=100..................\n"
     ]
    }
   ],
   "source": [
    "#randomized model\n",
    "def tune_model(dropout_rate):\n",
    "    \n",
    "    #SGD\n",
    "    learning_rate = 0.1\n",
    "    momentum = 0.8\n",
    "    \n",
    "    sgd = tf.keras.optimizers.SGD(lr=learning_rate, momentum=momentum, nesterov=True)\n",
    "\n",
    "    model = tf.keras.models.Sequential()\n",
    "\n",
    "    model.add(tf.keras.layers.LSTM(252, input_shape=(timesteps,n_features), return_sequences=True))\n",
    "    \n",
    "    model.add(tf.keras.layers.Dense(dropout_rate))\n",
    "\n",
    "    model.add(tf.keras.layers.LSTM(16, return_sequences=False))\n",
    "\n",
    "    model.add(tf.keras.layers.RepeatVector(timesteps)) #bridge between encoder and the decoder\n",
    "\n",
    "    model.add(tf.keras.layers.LSTM(16, return_sequences=True))\n",
    "              \n",
    "    model.add(tf.keras.layers.Dense(dropout_rate))\n",
    "\n",
    "    model.add(tf.keras.layers.LSTM(252, return_sequences=True))\n",
    "    \n",
    "    model.add(tf.keras.layers.TimeDistributed(tf.keras.layers.Dense(n_features)))\n",
    "\n",
    "    model.compile(loss='mae', optimizer=sgd)\n",
    "    \n",
    "    return model\n",
    "\n",
    "\n",
    "seed = 7\n",
    "np.random.seed(seed)\n",
    "\n",
    "#build model\n",
    "model = KerasRegressor(build_fn=tune_model, verbose=0)\n",
    "\n",
    "#params\n",
    "batch_size = [8, 16, 32]\n",
    "epochs = [100]\n",
    "#h_neurons = [64, 126, 252]\n",
    "#l_neurons = [16, 32, 64]\n",
    "dropout_rate = [0.1, 0.2, 0.3]\n",
    "\n",
    "#param grid\n",
    "param_grid = dict(\n",
    "    batch_size=batch_size,\n",
    "    epochs=epochs,\n",
    "    dropout_rate = dropout_rate\n",
    ")\n",
    "\n",
    "#validation\n",
    "kfld = KFold(n_splits=3,\n",
    "             shuffle=False)\n",
    "\n",
    "grid = RandomizedSearchCV(estimator=model,\n",
    "                          cv=kfld,\n",
    "                          param_distributions=param_grid, \n",
    "                          verbose=20,\n",
    "                          n_iter=10,\n",
    "                          n_jobs=1\n",
    "                         )\n",
    "\n",
    "#early_stopping = EarlyStopping(monitor='val_loss', patience=epochs_to_wait_for_improve)\n",
    "\n",
    "grid_result = grid.fit(X_array, X_array )"
   ]
  },
  {
   "cell_type": "code",
   "execution_count": null,
   "id": "b1d1dfe1-5f6d-4cb4-8d4e-34f0d88a01e6",
   "metadata": {},
   "outputs": [],
   "source": [
    "grid_result.best_params_"
   ]
  },
  {
   "cell_type": "code",
   "execution_count": null,
   "id": "8eb5a8a0-9115-476e-9c64-01d5f10161e0",
   "metadata": {},
   "outputs": [],
   "source": [
    "grid_result.best_params_"
   ]
  },
  {
   "cell_type": "code",
   "execution_count": 17,
   "id": "61ef9add-d4b8-4eae-8d65-8b8bf5e3cb41",
   "metadata": {},
   "outputs": [
    {
     "data": {
      "text/plain": [
       "-0.08704338471094768"
      ]
     },
     "execution_count": 17,
     "metadata": {},
     "output_type": "execute_result"
    }
   ],
   "source": [
    "grid_result.best_score_"
   ]
  },
  {
   "cell_type": "code",
   "execution_count": 18,
   "id": "87c1176a-781b-4281-b10a-0ac85fbfa4dd",
   "metadata": {},
   "outputs": [],
   "source": [
    "learning_rate = 0.1\n",
    "momentum = 0.8\n",
    "\n",
    "sgd = tf.keras.optimizers.SGD(lr=learning_rate, momentum=momentum, nesterov=True)\n",
    "\n",
    "    \n",
    "model = tf.keras.models.Sequential()\n",
    "\n",
    "model.add(tf.keras.layers.LSTM(252, input_shape=(timesteps,n_features), return_sequences=True))\n",
    "\n",
    "model.add(tf.keras.layers.LSTM(16, return_sequences=False))\n",
    "\n",
    "model.add(tf.keras.layers.RepeatVector(timesteps)) #bridge between encoder and the decoder\n",
    "\n",
    "model.add(tf.keras.layers.LSTM(16, return_sequences=True))\n",
    "\n",
    "model.add(tf.keras.layers.LSTM(252, return_sequences=True))\n",
    "\n",
    "\n",
    "model.add(tf.keras.layers.TimeDistributed(tf.keras.layers.Dense(n_features)))\n",
    "\n",
    "model.compile(optimizer=sgd,\n",
    "              loss='mae',\n",
    "              metrics=[tf.keras.metrics.MeanAbsolutePercentageError(), tf.keras.metrics.CosineSimilarity()]\n",
    "             )\n",
    "\n",
    "# fit model\n",
    "history = model.fit(X_array, X_array, \n",
    "                  epochs = 100,\n",
    "                  batch_size = 8,\n",
    "                  validation_data = (y_array, y_array),\n",
    "                  verbose = 0,\n",
    "                  shuffle = False)"
   ]
  },
  {
   "cell_type": "code",
   "execution_count": 23,
   "id": "1f79125d-6b33-44ba-babc-2ffd939ed997",
   "metadata": {},
   "outputs": [],
   "source": [
    "loss_df = make_loss_df(history)"
   ]
  },
  {
   "cell_type": "code",
   "execution_count": 28,
   "id": "7020e97d-2b79-4eed-9a67-da88bbe8a8b0",
   "metadata": {},
   "outputs": [],
   "source": [
    "model.save('LSTM_RECONSTRUCTION/model2_simple_best_params.h5')"
   ]
  },
  {
   "cell_type": "code",
   "execution_count": 26,
   "id": "2bad8732-00ce-4bbc-aec6-715b12826437",
   "metadata": {},
   "outputs": [],
   "source": [
    "def make_loss_df(history):\n",
    "    \n",
    "    df = pd.DataFrame(history.history)\n",
    "    df['epoch'] = df.index\n",
    "    df['cosine_distance'] = 1 - df['cosine_similarity']\n",
    "    df['val_cosine_distance'] = 1 - df['val_cosine_similarity']\n",
    "    \n",
    "    return df\n",
    "\n",
    "def plot_loss_df(loss_df):\n",
    "        \n",
    "    sns.lineplot(x = loss_df['epoch'], y = loss_df['loss'], color = 'black')\n",
    "    sns.scatterplot(x = loss_df['epoch'], y = loss_df['loss'], color = 'black')\n",
    "\n",
    "    sns.lineplot(x = loss_df['epoch'], y = loss_df['val_loss'], color = 'orange')\n",
    "    sns.scatterplot(x = loss_df['epoch'], y = loss_df['val_loss'], color = 'orange') \n",
    "    \n",
    "    #plt.title('no timesteps: {}'.format(n))\n",
    "    plt.show()\n",
    "    \n",
    "    sns.lineplot(x = loss_df['epoch'], y = loss_df['cosine_distance'], color = 'black')\n",
    "    sns.scatterplot(x = loss_df['epoch'], y = loss_df['cosine_distance'], color = 'black')\n",
    "\n",
    "    sns.lineplot(x = loss_df['epoch'], y = loss_df['val_cosine_distance'], color = 'orange')\n",
    "    sns.scatterplot(x = loss_df['epoch'], y = loss_df['val_cosine_distance'], color = 'orange')  \n",
    "    \n",
    "    #plt.title('no timesteps: {}'.format(n))\n",
    "    plt.show()"
   ]
  },
  {
   "cell_type": "code",
   "execution_count": 27,
   "id": "c2dcadf5-dc87-49cc-8ff2-1043a60d3e57",
   "metadata": {},
   "outputs": [
    {
     "data": {
      "image/png": "[encoded data removed]",
      "text/plain": [
       "<Figure size 432x288 with 1 Axes>"
      ]
     },
     "metadata": {},
     "output_type": "display_data"
    },
    {
     "data": {
      "image/png": "[encoded data removed]",
      "text/plain": [
       "<Figure size 432x288 with 1 Axes>"
      ]
     },
     "metadata": {},
     "output_type": "display_data"
    }
   ],
   "source": [
    "plot_loss_df(loss_df)"
   ]
  },
  {
   "cell_type": "code",
   "execution_count": null,
   "id": "ceda801e-e5ef-4039-9561-381ab1ff972b",
   "metadata": {},
   "outputs": [],
   "source": [
    "#history_n14['n'] = 14\n",
    "history_n7['n'] = 7\n",
    "history_n4['n'] = 4\n",
    "history_n2['n'] = 2\n",
    "history_n14['n'] = 14\n",
    "history_n28['n'] = 28\n",
    "\n",
    "h_df = history_n4.append(history_n2).append(history_n7).append(history_n14).append(history_n28)\n",
    "h_df = h_df.reset_index()"
   ]
  },
  {
   "cell_type": "code",
   "execution_count": null,
   "id": "f53ae3c0-be28-4c65-a683-f31b03ab39d9",
   "metadata": {},
   "outputs": [],
   "source": [
    "#sns.lineplot(x = h_df['epoch'], y = h_df['loss'], palette = 'Set2', hue = h_df['n'])\n",
    "#sns.lineplot(x = history_n28['epoch'], y = history_n28['loss'])\n",
    "sns.lineplot(x = history_n28['epoch'], y = history_n28['val_loss'])\n",
    "#plt.savefig('LSTM_RECONSTRUCTION/lstm_ae_train_loss_no_relu.png')"
   ]
  },
  {
   "cell_type": "code",
   "execution_count": null,
   "id": "bf14ac11-7d7a-4aff-b606-28faa4062151",
   "metadata": {},
   "outputs": [],
   "source": [
    "#sns.lineplot(x = h_df['epoch'], y = h_df['loss'], palette = 'Set2', hue = h_df['n'])\n",
    "sns.lineplot(x = history_n28['epoch'], y = history_n28['loss'])\n",
    "sns.lineplot(x = history_n28['epoch'], y = history_n28['val_loss'])\n",
    "#plt.savefig('LSTM_RECONSTRUCTION/lstm_ae_train_loss_no_relu.png')"
   ]
  },
  {
   "cell_type": "code",
   "execution_count": null,
   "id": "e7b37729-fff6-484c-b0f9-1264e66a2cbe",
   "metadata": {},
   "outputs": [],
   "source": [
    "sns.lineplot(x = history_n28['epoch'], y = history_n28['loss'])"
   ]
  },
  {
   "cell_type": "code",
   "execution_count": null,
   "id": "89b93d7f-e5a1-4f57-8d47-20e2fe5cac25",
   "metadata": {},
   "outputs": [],
   "source": [
    "sns.lineplot(x = h_df['epoch'], y = h_df['val_loss'], palette = 'Set2', hue = h_df['n'])\n",
    "#plt.savefig('LSTM_RECONSTRUCTION/lstm_ae_test_loss_no_relu.png')"
   ]
  },
  {
   "cell_type": "code",
   "execution_count": null,
   "id": "32e67941-dd5a-455e-81ff-8e31951ffc7c",
   "metadata": {},
   "outputs": [],
   "source": [
    "sns.lineplot(x = history_n28['epoch'], y = history_n28['cosine_distance'])\n",
    "sns.lineplot(x = history_n28['epoch'], y = history_n28['val_cosine_distance'])"
   ]
  },
  {
   "cell_type": "markdown",
   "id": "9f92ea56-619b-4811-8eb8-cd8a818f6ffb",
   "metadata": {},
   "source": [
    "## analyse weights"
   ]
  },
  {
   "cell_type": "code",
   "execution_count": null,
   "id": "cd967bd0-9940-4349-b239-75e739a70ff3",
   "metadata": {},
   "outputs": [],
   "source": [
    "units = int(int(model.layers[0].trainable_weights[0].shape[1])/4)\n",
    "print(\"No units: \", units)"
   ]
  },
  {
   "cell_type": "code",
   "execution_count": null,
   "id": "6ff4bbb8-bc4a-40ad-a91d-44fe5b02ec5a",
   "metadata": {},
   "outputs": [],
   "source": [
    "for i in range(len(model.layers)):\n",
    "    \n",
    "    try:\n",
    "        W = model.layers[i].get_weights()[0]\n",
    "\n",
    "        W_i = W[:, :units] #input gate\n",
    "        W_f = W[:, units: units * 2] #forget gate\n",
    "        W_c = W[:, units * 2: units * 3] #candidate memory\n",
    "        W_o = W[:, units * 3:] #output gate\n",
    "        \n",
    "        print(i, np.round(W_i.mean(), 2))\n",
    "    except:\n",
    "        print(i)"
   ]
  },
  {
   "cell_type": "markdown",
   "id": "281d0473-f1fc-4881-bcab-280894084124",
   "metadata": {},
   "source": [
    "## loss"
   ]
  },
  {
   "cell_type": "code",
   "execution_count": null,
   "id": "46a8a320-5b61-4099-99db-e2ea941e3b2c",
   "metadata": {},
   "outputs": [],
   "source": [
    "loss_df = pd.DataFrame(history.history)\n",
    "loss_df['epoch'] = loss_df.index\n",
    "\n",
    "loss_df['cosine_distance'] = 1 - loss_df['cosine_similarity']\n",
    "loss_df['val_cosine_distance'] = 1 - loss_df['val_cosine_similarity']"
   ]
  },
  {
   "cell_type": "code",
   "execution_count": null,
   "id": "49503a75-03b4-49db-9c06-af9980969e55",
   "metadata": {},
   "outputs": [],
   "source": [
    "#loss\n",
    "sns.lineplot(x = loss_df['epoch'], y = loss_df['loss'], color = 'black')\n",
    "sns.scatterplot(x = loss_df['epoch'], y = loss_df['loss'], color = 'black')\n",
    "\n",
    "sns.lineplot(x = loss_df['epoch'], y = loss_df['val_loss'], color = 'orange')\n",
    "sns.scatterplot(x = loss_df['epoch'], y = loss_df['val_loss'], color = 'orange')  "
   ]
  },
  {
   "cell_type": "code",
   "execution_count": null,
   "id": "84048a01-dbaf-42e3-ae7b-53d9428cdead",
   "metadata": {},
   "outputs": [],
   "source": [
    "#loss\n",
    "sns.lineplot(x = loss_df['epoch'], y = loss_df['mean_absolute_percentage_error'], color = 'black')\n",
    "sns.scatterplot(x = loss_df['epoch'], y = loss_df['mean_absolute_percentage_error'], color = 'black')\n",
    "\n",
    "sns.lineplot(x = loss_df['epoch'], y = loss_df['val_mean_absolute_percentage_error'], color = 'orange')\n",
    "sns.scatterplot(x = loss_df['epoch'], y = loss_df['val_mean_absolute_percentage_error'], color = 'orange')  "
   ]
  },
  {
   "cell_type": "code",
   "execution_count": null,
   "id": "d8190914-c4ce-40fa-83e1-6b90a03491d8",
   "metadata": {},
   "outputs": [],
   "source": [
    "yhat = model.predict(y, verbose=0)"
   ]
  },
  {
   "cell_type": "code",
   "execution_count": null,
   "id": "6eafc575-d78f-4dc9-99cf-65c14a5604c6",
   "metadata": {},
   "outputs": [],
   "source": [
    "def denorm_data(yhat, y):\n",
    "    \n",
    "    for i in range(0, 7):\n",
    "        yhat[:, i, :] = scaler.inverse_transform(yhat[:, i, :])\n",
    "        yhat[yhat<0] = 0\n",
    "\n",
    "        y[:, i, :] = scaler.inverse_transform(y[:, i, :])\n",
    "        y[y<0] = 0\n",
    "        \n",
    "    return yhat, y"
   ]
  },
  {
   "cell_type": "code",
   "execution_count": null,
   "id": "b1acfbea-2fcc-48fc-adfc-eed4d85a0d46",
   "metadata": {},
   "outputs": [],
   "source": [
    "yhat_denorm, y_denorm = denorm_data(yhat, y)"
   ]
  },
  {
   "cell_type": "code",
   "execution_count": null,
   "id": "73fbef6d-6474-4bc6-8d69-1794cd49a5bb",
   "metadata": {},
   "outputs": [],
   "source": [
    "sns.distplot(y_denorm)"
   ]
  },
  {
   "cell_type": "code",
   "execution_count": null,
   "id": "16410565-b9a2-4ec4-836c-5b4faf116e20",
   "metadata": {},
   "outputs": [],
   "source": [
    "sns.distplot(yhat_denorm[4, :, 11])"
   ]
  },
  {
   "cell_type": "code",
   "execution_count": null,
   "id": "652b72ef-b7e2-450b-8dae-b880b205cbbf",
   "metadata": {},
   "outputs": [],
   "source": [
    "for i in range(yhat_denorm.shape[0]):\n",
    "    \n",
    "    sns.lineplot(x = [i for i in range(7)], y = yhat_denorm[i, :, 11], color = 'orange')\n",
    "    sns.scatterplot(x = [i for i in range(7)], y = yhat_denorm[i, :, 11], color = 'orange')\n",
    "\n",
    "    sns.lineplot(x = [i for i in range(7)], y = y_denorm[i, :, 11], color = 'black')\n",
    "    sns.scatterplot(x = [i for i in range(7)], y = y_denorm[i, :, 11], color = 'black')\n",
    "    \n",
    "    plt.show()"
   ]
  },
  {
   "cell_type": "code",
   "execution_count": null,
   "id": "2d5cc11b-1bc3-4473-86ae-9616b3f64236",
   "metadata": {},
   "outputs": [],
   "source": [
    "#policzyc metryke dla kazdego batchu X.shape[0] i podzielic przez ilsoc batchy\n",
    "RHO = []\n",
    "COSINE_DISTANCE = []\n",
    "BC = []\n",
    "\n",
    "\n",
    "for batch in range(y.shape[0]):\n",
    "    \n",
    "    y_true = y_denorm[batch, :, :]\n",
    "    y_pred = yhat_denorm[batch, :, :]\n",
    "    \n",
    "    rho = np.array([stats.spearmanr(y_true[day, :], y_pred[day, :])[0] for day in range(y.shape[1])]).mean()\n",
    "    cosine_distance = np.array([distance.cosine(y_true[day, :], y_pred[day, :]) for day in range(y.shape[1])]).mean()\n",
    "    bc_distance = np.array([distance.braycurtis(y_true[day, :], y_pred[day, :]) for day in range(y.shape[1])]).mean()\n",
    "    \n",
    "    RHO.append(rho)\n",
    "    COSINE_DISTANCE.append(cosine_distance)\n",
    "    BC.append(bc_distance)"
   ]
  },
  {
   "cell_type": "code",
   "execution_count": null,
   "id": "72b5e66a-6cb3-490b-9976-7269b776a317",
   "metadata": {},
   "outputs": [],
   "source": [
    "error_df = pd.DataFrame(list(zip(RHO, COSINE_DISTANCE, BC)), columns = ['RHO', 'COSINE_DISTANCE', 'BC'])"
   ]
  },
  {
   "cell_type": "code",
   "execution_count": null,
   "id": "8cf5464b-e33e-4b2a-a89b-566526942986",
   "metadata": {},
   "outputs": [],
   "source": [
    "rho_df = pd.DataFrame(RHO, columns = ['value'])\n",
    "rho_df['distance'] = 'RHO'\n",
    "\n",
    "cosine_df = pd.DataFrame(COSINE_DISTANCE, columns = ['value'])\n",
    "cosine_df['distance'] = 'COSINE_DISTANCE'\n",
    "\n",
    "bc_df = pd.DataFrame(BC, columns = ['value'])\n",
    "bc_df['distance'] = 'BC'\n",
    "\n",
    "distance_df = rho_df.append(cosine_df).append(bc_df)"
   ]
  },
  {
   "cell_type": "code",
   "execution_count": null,
   "id": "f7067912-f74e-4143-9681-17c862778a6c",
   "metadata": {},
   "outputs": [],
   "source": [
    "sns.boxplot(y = distance_df['value'], x = distance_df['distance'], orient = 'v')"
   ]
  },
  {
   "cell_type": "code",
   "execution_count": null,
   "id": "f4892056-af54-431a-96d7-17a068fa23e7",
   "metadata": {},
   "outputs": [],
   "source": [
    "sns.regplot(x = error_df['RHO'], y = error_df['COSINE_DISTANCE'])"
   ]
  },
  {
   "cell_type": "code",
   "execution_count": null,
   "id": "4b36b5ed-421b-4702-b032-0346aaee8cb3",
   "metadata": {},
   "outputs": [],
   "source": [
    "sns.regplot(x = error_df['RHO'], y = error_df['BC'])"
   ]
  },
  {
   "cell_type": "code",
   "execution_count": null,
   "id": "cbb58c77-4521-4111-9545-fd6137532c51",
   "metadata": {},
   "outputs": [],
   "source": [
    "sns.regplot(x = error_df['COSINE_DISTANCE'], y = error_df['BC'])"
   ]
  }
 ],
 "metadata": {
  "kernelspec": {
   "display_name": "deep_ae",
   "language": "python",
   "name": "deep_ae"
  },
  "language_info": {
   "codemirror_mode": {
    "name": "ipython",
    "version": 3
   },
   "file_extension": ".py",
   "mimetype": "text/x-python",
   "name": "python",
   "nbconvert_exporter": "python",
   "pygments_lexer": "ipython3",
   "version": "3.9.7"
  }
 },
 "nbformat": 4,
 "nbformat_minor": 5
}
