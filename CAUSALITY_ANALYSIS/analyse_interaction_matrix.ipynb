{
 "cells": [
  {
   "cell_type": "code",
   "execution_count": null,
   "id": "0af93781-294b-4b16-ad60-084367c3352c",
   "metadata": {},
   "outputs": [],
   "source": [
    "import pandas as pd\n",
    "import seaborn as sns\n",
    "import matplotlib.pyplot as plt\n",
    "import numpy as np\n",
    "from scipy import stats\n",
    "import warnings\n",
    "import matplotlib.patches as mpatches"
   ]
  },
  {
   "cell_type": "code",
   "execution_count": null,
   "id": "d403317d-eafd-48d7-9ebd-c416adb1745b",
   "metadata": {},
   "outputs": [],
   "source": [
    "warnings.filterwarnings('ignore')\n",
    "sns.set_style('darkgrid')"
   ]
  },
  {
   "cell_type": "markdown",
   "id": "1c1524ef-91f8-4948-88c6-d8f3748d2b21",
   "metadata": {},
   "source": [
    "## 1. PREPARE INTERACTION MATRIX"
   ]
  },
  {
   "cell_type": "markdown",
   "id": "7b9b3ea3-8bba-4fd5-a8aa-14675f9a3f44",
   "metadata": {},
   "source": [
    "### 1.1. read matrix"
   ]
  },
  {
   "cell_type": "code",
   "execution_count": null,
   "id": "c261aad2-e5c8-4f81-8c66-c3f66ecf7332",
   "metadata": {},
   "outputs": [],
   "source": [
    "'''file_donorA = 'interaction_matrices/donorA_interaction_5lags_clr.csv'\n",
    "file_donorB = 'interaction_matrices/donorB_interaction_5lags_clr.csv'\n",
    "file_M = 'interaction_matrices/male_interaction_5lags_clr.csv'\n",
    "file_F = 'interaction_matrices/female_interaction_5lags_clr.csv'''\n",
    "\n",
    "file_donorA = 'interaction_matrices/donorA_interaction_lag2_clr.csv'\n",
    "file_donorB = 'interaction_matrices/donorB_interaction_lag2_clr.csv'\n",
    "file_M = 'interaction_matrices/male_interaction_lag2_clr.csv'\n",
    "file_F = 'interaction_matrices/female_interaction_lag2_clr.csv'"
   ]
  },
  {
   "cell_type": "code",
   "execution_count": null,
   "id": "a8382cf8-8084-49ef-8e92-d0f57c408438",
   "metadata": {},
   "outputs": [],
   "source": [
    "def read_interaction_matrix(file, lag=5):\n",
    "    \n",
    "    '''read interaction matrix created\n",
    "    by fitting a BigVAR model.'''\n",
    "    \n",
    "    interaction_matrix = pd.read_csv(file, index_col = [0])\n",
    "    interaction_matrix = interaction_matrix.set_index(['otu'])\n",
    "\n",
    "    #drop intercept\n",
    "    interaction_matrix = interaction_matrix.drop(['V1'], axis = 1)\n",
    "    #name columns\n",
    "    names = [col + \"_\" + str(i) for i in range(1,lag+1) for col in interaction_matrix.index]\n",
    "    interaction_matrix.columns = names\n",
    "    interaction_matrix = interaction_matrix.astype(float)\n",
    "    return interaction_matrix"
   ]
  },
  {
   "cell_type": "code",
   "execution_count": null,
   "id": "c38ecdc8-062d-4857-9918-7cb2e87e4994",
   "metadata": {},
   "outputs": [],
   "source": [
    "donorA_M = read_interaction_matrix(file_donorA, 2)\n",
    "donorB_M = read_interaction_matrix(file_donorB, 2)\n",
    "male_M = read_interaction_matrix(file_M, 2)\n",
    "female_M = read_interaction_matrix(file_F, 2)"
   ]
  },
  {
   "cell_type": "markdown",
   "id": "1c98a673-8d77-444b-9923-1e8759d61ede",
   "metadata": {},
   "source": [
    "### 1.2 change [n x n * lag] matrix into pairwise dataframe and drop interactions with coeff = 0"
   ]
  },
  {
   "cell_type": "code",
   "execution_count": null,
   "id": "e1547098-784f-4573-a276-6e880fbe6be7",
   "metadata": {},
   "outputs": [],
   "source": [
    "def make_pairwise_interactions(df, subject):\n",
    "    \n",
    "    '''create based on interactions matrix\n",
    "    a df whith columns: 'coeff', 'lag', \n",
    "    'interactor','target']'''\n",
    "    \n",
    "    interactions_df = []\n",
    "    for idx in df.index:\n",
    "        target_df = df.loc[idx]\n",
    "\n",
    "        try:\n",
    "        \n",
    "            interaction_lag_df = pd.DataFrame(target_df).reset_index()\n",
    "            interaction_lag_df['target'] = target_df.name\n",
    "            interaction_lag_df.columns = ['interactor', 'coeff', 'target']\n",
    "            interaction_lag_df[['interactor','lag']] = interaction_lag_df['interactor'].str.split('_',expand=True)\n",
    "            interactions_df.append(interaction_lag_df)\n",
    "        except:\n",
    "            pass\n",
    "    interactions_df=pd.concat(interactions_df)\n",
    "    #remove 0 coeffs\n",
    "    interactions_df = interactions_df[interactions_df['coeff'] !=0]\n",
    "    interactions_df['subject'] = subject\n",
    "    interactions_df= interactions_df.reset_index().drop(['index'], axis=1)\n",
    "    interactions_df['abs_coeff'] = np.abs(interactions_df['coeff'])\n",
    "    \n",
    "    return interactions_df"
   ]
  },
  {
   "cell_type": "code",
   "execution_count": null,
   "id": "8c5079a3-6ecb-41b9-b4c4-9ba498438c1d",
   "metadata": {},
   "outputs": [],
   "source": [
    "interaction_lag_df_donorA = make_pairwise_interactions(donorA_M, 'donorA')\n",
    "interaction_lag_df_donorB = make_pairwise_interactions(donorB_M, 'donorB')\n",
    "interaction_lag_df_male   = make_pairwise_interactions(male_M, 'male')\n",
    "interaction_lag_df_female = make_pairwise_interactions(female_M, 'female')"
   ]
  },
  {
   "cell_type": "markdown",
   "id": "074d4df9-4502-41e2-ac63-9ee0cd42743e",
   "metadata": {},
   "source": [
    "### 1.3 remove weak interactions - .25 quantile"
   ]
  },
  {
   "cell_type": "code",
   "execution_count": null,
   "id": "decb580d-ca23-4ad7-b8f1-fb8cdab8474e",
   "metadata": {},
   "outputs": [],
   "source": [
    "interactions_df = interaction_lag_df_donorA.append(interaction_lag_df_donorB).append(interaction_lag_df_male).append(interaction_lag_df_female)\n",
    "\n",
    "#treshold\n",
    "interactions_df['abs_coeff'] = np.abs(interactions_df['coeff'])\n",
    "treshold = (interactions_df['abs_coeff']).quantile(.1)"
   ]
  },
  {
   "cell_type": "code",
   "execution_count": null,
   "id": "f6a7ac1a-ca7c-41d7-a1fd-c695e108e805",
   "metadata": {},
   "outputs": [],
   "source": [
    "def filter_interactions_above_treshold(interaction_df):\n",
    "        \n",
    "    filtered_df = interaction_df[(interaction_df['abs_coeff'] > treshold)].reset_index().drop(['index'], axis=1)\n",
    "    filtered_df['n'] = filtered_df.index\n",
    "    \n",
    "    return filtered_df"
   ]
  },
  {
   "cell_type": "code",
   "execution_count": null,
   "id": "58070498-547a-4589-9167-06dfe49e5c59",
   "metadata": {},
   "outputs": [],
   "source": [
    "filtered_interaction_lag_df_donorA = filter_interactions_above_treshold(interaction_lag_df_donorA)\n",
    "filtered_interaction_lag_df_donorB = filter_interactions_above_treshold(interaction_lag_df_donorB)\n",
    "filtered_interaction_lag_df_male   = filter_interactions_above_treshold(interaction_lag_df_male)\n",
    "filtered_interaction_lag_df_female = filter_interactions_above_treshold(interaction_lag_df_female)"
   ]
  },
  {
   "cell_type": "markdown",
   "id": "ae2172b3-7620-4a49-9b25-178ff45b4182",
   "metadata": {},
   "source": [
    "# 2. ANALYSE INTERACTIONS"
   ]
  },
  {
   "cell_type": "code",
   "execution_count": null,
   "id": "284e0385-0a90-4a3f-8b25-85352f9bc322",
   "metadata": {},
   "outputs": [],
   "source": [
    "INTERACTIONS_DF = filtered_interaction_lag_df_donorA.append(filtered_interaction_lag_df_donorB).append(filtered_interaction_lag_df_male).append(filtered_interaction_lag_df_female)"
   ]
  },
  {
   "cell_type": "markdown",
   "id": "b7c5cf24-6325-4d6e-a167-65ff430b785a",
   "metadata": {},
   "source": [
    "### 2.1 count number of interactions per subject"
   ]
  },
  {
   "cell_type": "code",
   "execution_count": null,
   "id": "f87e8d56-457c-4c24-8e8f-1d52e8016f1d",
   "metadata": {},
   "outputs": [],
   "source": [
    "n_interactions_df = INTERACTIONS_DF.groupby(['subject']).size().reset_index()\n",
    "\n",
    "kwargs={'alpha':.7}\n",
    "\n",
    "plt.figure(figsize = [6, 3])\n",
    "sns.barplot(x = n_interactions_df['subject'],\n",
    "            y = n_interactions_df[0],\n",
    "            ci=None,\n",
    "            edgecolor = 'black',\n",
    "            linestyle = '-.',\n",
    "            palette = 'Set3',\n",
    "            **kwargs\n",
    "           )\n",
    "\n",
    "plt.title('number of interactions among 4 subjects')\n",
    "plt.tight_layout()\n",
    "plt.ylabel('number of interactions among otus')\n",
    "#plt.savefig('plots/number_of_interactions.png')"
   ]
  },
  {
   "cell_type": "markdown",
   "id": "0397f363-3b0c-40a9-9231-55b905132fcc",
   "metadata": {},
   "source": [
    "### 2.2 count number of interactions per subejct per lag"
   ]
  },
  {
   "cell_type": "code",
   "execution_count": null,
   "id": "07ccfa38-0846-42cc-8615-a5e38039d59b",
   "metadata": {},
   "outputs": [],
   "source": [
    "n_interactions_lag_df = INTERACTIONS_DF.groupby(['subject', 'lag']).size().reset_index()\n",
    "\n",
    "plt.figure(figsize = [8, 3])\n",
    "ax = sns.barplot(x = n_interactions_lag_df['subject'],\n",
    "                 y = n_interactions_lag_df[0],\n",
    "                hue = n_interactions_lag_df['lag'],\n",
    "                ci=None,\n",
    "                edgecolor = 'black',\n",
    "                linestyle = '-.',\n",
    "                palette = 'Set3',\n",
    "                **kwargs\n",
    "                )\n",
    "ax.legend(bbox_to_anchor=(1.05, 1.0))\n",
    "plt.title('number of interactions in each lag among 4 subjects')\n",
    "plt.tight_layout()\n",
    "plt.ylabel('number of interactions among otus')\n",
    "#plt.savefig('plots/number_of_interactions_per_lag_per_subject.png')"
   ]
  },
  {
   "cell_type": "markdown",
   "id": "524ba933-cee1-4430-a58d-4545dc3e1216",
   "metadata": {},
   "source": [
    "### 2.3 plot strength of interactions per subject per lag"
   ]
  },
  {
   "cell_type": "code",
   "execution_count": null,
   "id": "12fdef48-a660-4801-8bf8-fc6f69b7b112",
   "metadata": {},
   "outputs": [],
   "source": [
    "coeff_strength_df = pd.DataFrame(INTERACTIONS_DF.groupby(['subject', 'lag', 'abs_coeff']).size()).reset_index()#.unstack(fill_value=0)\n",
    "\n",
    "plt.figure(figsize = [8, 3])\n",
    "ax = sns.barplot(data = coeff_strength_df,\n",
    "            x = 'subject',\n",
    "            y = 'abs_coeff',\n",
    "            hue = 'lag',\n",
    "            palette=\"Set3\", \n",
    "            linewidth=.6,\n",
    "            edgecolor = 'black',\n",
    "            linestyle=\"-.\",\n",
    "            ci=None,\n",
    "            **kwargs)\n",
    "ax.legend(bbox_to_anchor=(1.15, 1.0))\n",
    "plt.title('strength of interactions in each lag among 4 subjects')\n",
    "plt.tight_layout()\n",
    "plt.ylabel('strength of interactions among otus')\n",
    "#plt.savefig('plots/strength_of_interactions_per_lag_per_subject.png')"
   ]
  },
  {
   "cell_type": "markdown",
   "id": "f9e1582a-c234-43f1-9c39-a62ab3a36871",
   "metadata": {},
   "source": [
    "### 2.4 plot direction of interactions "
   ]
  },
  {
   "cell_type": "code",
   "execution_count": null,
   "id": "9e110144-1bc2-428e-997f-554db373d219",
   "metadata": {},
   "outputs": [],
   "source": [
    "filtered_interaction_lag_df_donorA['coeff_sign'] = np.where(filtered_interaction_lag_df_donorA['coeff']<0, 'negative', 'positive')\n",
    "filtered_interaction_lag_df_donorB['coeff_sign'] = np.where(filtered_interaction_lag_df_donorB['coeff']<0, 'negative', 'positive')\n",
    "filtered_interaction_lag_df_male['coeff_sign'] = np.where(filtered_interaction_lag_df_male['coeff']<0, 'negative', 'positive')\n",
    "filtered_interaction_lag_df_female['coeff_sign'] = np.where(filtered_interaction_lag_df_female['coeff']<0, 'negative', 'positive')"
   ]
  },
  {
   "cell_type": "code",
   "execution_count": null,
   "id": "53d08501-258e-4e75-93ac-831d455657e2",
   "metadata": {},
   "outputs": [],
   "source": [
    "coefficient_direction_df=filtered_interaction_lag_df_donorA.append(filtered_interaction_lag_df_donorB).append(filtered_interaction_lag_df_male).append(filtered_interaction_lag_df_female)"
   ]
  },
  {
   "cell_type": "code",
   "execution_count": null,
   "id": "d0113f34-e134-448a-b576-18dc0b822df6",
   "metadata": {},
   "outputs": [],
   "source": [
    "coeff_dir_df = pd.DataFrame(coefficient_direction_df.groupby(['subject', 'lag', 'coeff_sign']).size()).reset_index()#.unstack(fill_value=0)\n",
    "\n",
    "plt.figure(figsize = [8, 3])\n",
    "ax = sns.boxplot(data = coeff_dir_df,\n",
    "                 x = 'subject',\n",
    "                 y = coeff_dir_df[0],\n",
    "                 hue = 'coeff_sign',\n",
    "                 palette=\"Set3\", \n",
    "                 linewidth=.8,\n",
    "                 width=.7)\n",
    "\n",
    "ax.legend(bbox_to_anchor=(1.2, 1.0))\n",
    "plt.title('interaction direction per subject')\n",
    "plt.tight_layout()\n",
    "plt.ylabel('number of interactions among otus')\n",
    "#plt.savefig('plots/interactions_direction.png')"
   ]
  },
  {
   "cell_type": "markdown",
   "id": "69b45e04-517b-4594-a0d6-4a24eb5f3eca",
   "metadata": {},
   "source": [
    "### 2.5 autocorrelation"
   ]
  },
  {
   "cell_type": "markdown",
   "id": "1de3adff-9c7e-40af-8b85-4a3f21595678",
   "metadata": {},
   "source": [
    "### 2.5.1 autocorrelation strength"
   ]
  },
  {
   "cell_type": "code",
   "execution_count": null,
   "id": "49c14095-ae43-4451-8dc4-1c716605a6fe",
   "metadata": {},
   "outputs": [],
   "source": [
    "def find_autocorr(df):\n",
    "    \n",
    "    autoregression_df =[]\n",
    "    for t in df['target'].unique():\n",
    "        autoreg = df[(df['interactor'] == t) & (df['target'] == t)]\n",
    "        autoregression_df.append(autoreg)\n",
    "    autoregression_df = pd.concat(autoregression_df)\n",
    "    \n",
    "    return autoregression_df"
   ]
  },
  {
   "cell_type": "code",
   "execution_count": null,
   "id": "50db0d51-fd7b-4b51-866d-6d8aa32adf40",
   "metadata": {},
   "outputs": [],
   "source": [
    "coefficient_direction_df['idx'] = coefficient_direction_df.index\n",
    "autoregression_df = find_autocorr(coefficient_direction_df)"
   ]
  },
  {
   "cell_type": "code",
   "execution_count": null,
   "id": "16dc39e2-cf88-4539-b0fd-1771b32aac69",
   "metadata": {},
   "outputs": [],
   "source": [
    "autoregression_df_grouped = pd.DataFrame(autoregression_df.groupby(['subject', 'lag', 'coeff']).size()).reset_index()\n",
    "\n",
    "\n",
    "plt.figure(figsize  = [10, 5])\n",
    "ax=sns.swarmplot(data  = autoregression_df_grouped,\n",
    "              x     = 'subject',\n",
    "              y     = 'coeff',\n",
    "              hue   = 'lag',\n",
    "              dodge = True,\n",
    "              alpha = .6,\n",
    "              s     = 5,\n",
    "              palette   = 'Set2',\n",
    "              edgecolor = 'black',\n",
    "              linewidth =.3\n",
    "             )\n",
    "plt.title('strength of autoregression in otus per subject index per lag')\n",
    "plt.tight_layout()\n",
    "plt.ylabel('autoregression coeff')\n",
    "ax.legend(bbox_to_anchor=(1.1, 1.0))\n",
    "plt.savefig('plots/autoregression_svar_lag2.png')"
   ]
  },
  {
   "cell_type": "code",
   "execution_count": null,
   "id": "00ff44ce-f1a1-4411-92aa-fb7dbd140b1c",
   "metadata": {},
   "outputs": [],
   "source": [
    "#find autoregressive interactions\n",
    "auto_idx = autoregression_df['idx']\n",
    "coefficient_direction_df['interaction'] = np.where(coefficient_direction_df['idx'].isin(auto_idx), 'autogressive', 'non-autogressive')"
   ]
  },
  {
   "cell_type": "markdown",
   "id": "7fc34d33-20f8-4a17-8105-2cfc736dcf21",
   "metadata": {},
   "source": [
    "### plot scatterplot of autoregression vs other"
   ]
  },
  {
   "cell_type": "code",
   "execution_count": null,
   "id": "64e9a1af-bcf8-43d1-a44b-c53914dcadf0",
   "metadata": {},
   "outputs": [],
   "source": [
    "df_autoreg = coefficient_direction_df[coefficient_direction_df['interaction'] == 'autogressive'].reset_index()\n",
    "df_nonautoreg = coefficient_direction_df[coefficient_direction_df['interaction'] == 'non-autogressive'].reset_index()"
   ]
  },
  {
   "cell_type": "code",
   "execution_count": null,
   "id": "7748eb85-d064-46be-9fd7-ed6cc709774b",
   "metadata": {},
   "outputs": [],
   "source": [
    "def plot_autocorr_dist(coeff_df, subject):\n",
    "    \n",
    "    subject_df  = coeff_df[coeff_df['subject'] == subject]\n",
    "    \n",
    "    otu = []\n",
    "    auto = []\n",
    "    nonauto = []\n",
    "    for t in subject_df['target'].unique():\n",
    "        nonauto_mean = subject_df[(subject_df['target'] == t) \n",
    "                                              & (subject_df['interaction'] == 'non-autogressive')]['abs_coeff'].mean()\n",
    "        auto_mean = subject_df[(subject_df['target'] == t) \n",
    "                                              & (subject_df['interaction'] == 'autogressive')]['abs_coeff'].mean()\n",
    "        otu.append(t)\n",
    "        auto.append(auto_mean)\n",
    "        nonauto.append(nonauto_mean)\n",
    "\n",
    "    df = pd.DataFrame(list(zip(otu, auto, nonauto)), columns = ['otu', 'auto', 'non-auto'])\n",
    "\n",
    "    #lineplot\n",
    "    plt.figure(figsize = [10, 3])\n",
    "    kwargs = {'s':50, 'alpha':.6, 'edgecolor':'black'}\n",
    "\n",
    "    sns.lineplot(x = df.index, y=df['auto'], color='black', linestyle='-.')\n",
    "    sns.scatterplot(x = df.index, y=df['auto'], color='black', **kwargs)\n",
    "    sns.lineplot(x = df.index, y=df['non-auto'], linewidth = .7)\n",
    "    sns.scatterplot(x = df.index, y=df['non-auto'], **kwargs)\n",
    "    \n",
    "    black_patch = mpatches.Patch(color='black', label='auto-causality coeff')\n",
    "    blue_patch = mpatches.Patch(color='lightblue', label='inter-causality coeff')\n",
    "    plt.legend(handles=[black_patch, blue_patch])\n",
    "    plt.title(subject)\n",
    "    plt.savefig('plots/auto_vs_nonauto_{}_lineplot.png'.format(subject))\n",
    "    plt.xlabel('otu')\n",
    "    plt.show()\n",
    "\n",
    "    #scatterplot\n",
    "    kwargs = {'s':120, 'alpha':.6, 'edgecolor':'black'}\n",
    "    plt.figure(figsize = [5, 5])\n",
    "\n",
    "    sns.scatterplot(data = df, y = 'auto', x = 'non-auto', **kwargs)\n",
    "    plt.xlim(0, 0.25)\n",
    "    plt.ylim(0, 0.25)\n",
    "    plt.title(subject)\n",
    "    plt.savefig('plots/auto_vs_nonauto_{}_scatterplot.png'.format(subject))\n",
    "    plt.show()\n"
   ]
  },
  {
   "cell_type": "code",
   "execution_count": null,
   "id": "754a1d86-dd44-4750-89fe-0ef9905f9089",
   "metadata": {},
   "outputs": [],
   "source": [
    "for subject in coefficient_direction_df['subject'].unique():\n",
    "    \n",
    "    plot_autocorr_dist(coefficient_direction_df, subject)"
   ]
  },
  {
   "cell_type": "code",
   "execution_count": null,
   "id": "94230199-5b25-4cdd-8df5-2af8f8638ca1",
   "metadata": {},
   "outputs": [],
   "source": [
    "for subject in df_autoreg['subject'].unique():\n",
    "    \n",
    "    plt.figure(figsize = [10, 3])\n",
    "\n",
    "    kwargs = {'s':120, 'alpha':.2, 'edgecolor':'white'}\n",
    "    sns.scatterplot(data = df_autoreg[df_autoreg['subject'] == subject], x ='lag',  y= 'abs_coeff',  **kwargs)\n",
    "    sns.scatterplot(data = df_nonautoreg[df_nonautoreg['subject'] == subject], x ='lag',  y= 'abs_coeff', color = 'orange', **kwargs)\n",
    "    plt.title('auto and inter causation coefficients {}'.format(subject))\n",
    "    plt.savefig('plots/lag1_auto_inter_causality_{}.png'.format(subject))\n",
    "    plt.show()"
   ]
  },
  {
   "cell_type": "markdown",
   "id": "871f6346-8c9e-4b35-97c1-b0a0e9fc9cb1",
   "metadata": {},
   "source": [
    "### 2.5.2 autocorrelation index"
   ]
  },
  {
   "cell_type": "code",
   "execution_count": null,
   "id": "083c42b4-a1b6-424e-aa38-9d1f6e842971",
   "metadata": {},
   "outputs": [],
   "source": [
    "def calculate_autoregressive_idx(df, subject):\n",
    "    \n",
    "    df = df[df['subject'] == subject]\n",
    "\n",
    "    AUTO_IDX=[]\n",
    "    COL = []\n",
    "    for target in df['target'].unique():\n",
    "\n",
    "        target_df = df[df['target'] == target]\n",
    "        divider = target_df['abs_coeff'].sum()\n",
    "        auto = target_df[target_df['interaction'] == 'autogressive']['abs_coeff'].sum()\n",
    "\n",
    "        autoregressive_idx = auto/divider\n",
    "        AUTO_IDX.append(autoregressive_idx)\n",
    "        COL.append(target)\n",
    "\n",
    "    autoreg_idx_df = pd.DataFrame(list(zip(COL, AUTO_IDX)), columns = ['target', 'autoregression_idx'])\n",
    "    autoreg_idx_df['subject'] = subject\n",
    "    \n",
    "    return autoreg_idx_df"
   ]
  },
  {
   "cell_type": "code",
   "execution_count": null,
   "id": "cdffa1b5-8d3e-4b38-ac8c-eda4a1b81d1f",
   "metadata": {},
   "outputs": [],
   "source": [
    "auto_idx_donorA = calculate_autoregressive_idx(coefficient_direction_df, 'donorA')\n",
    "auto_idx_donorB = calculate_autoregressive_idx(coefficient_direction_df, 'donorB')\n",
    "auto_idx_male   = calculate_autoregressive_idx(coefficient_direction_df, 'male')\n",
    "auto_idx_female = calculate_autoregressive_idx(coefficient_direction_df, 'female')\n",
    "\n",
    "auto_idx_df     = auto_idx_donorA.append(auto_idx_donorB).append(auto_idx_male).append(auto_idx_female)"
   ]
  },
  {
   "cell_type": "code",
   "execution_count": null,
   "id": "8f147554-246e-47fb-9790-3524e182a67a",
   "metadata": {},
   "outputs": [],
   "source": [
    "plt.figure(figsize = [10, 5])\n",
    "sns.swarmplot(data=auto_idx_df,\n",
    "              x= 'subject',\n",
    "              y='autoregression_idx',\n",
    "              dodge=True,\n",
    "              alpha = .6,\n",
    "              s = 7,\n",
    "              palette = 'Set2',\n",
    "              edgecolor = 'black',\n",
    "              linewidth=.3\n",
    "             )\n",
    "plt.title('autoregressive index per otu')\n",
    "plt.tight_layout()\n",
    "plt.savefig('plots/autoregression_per_otu_lag1.png')"
   ]
  },
  {
   "cell_type": "code",
   "execution_count": null,
   "id": "07d15129-bb1b-4937-aca4-4bf24eb55c56",
   "metadata": {},
   "outputs": [],
   "source": [
    "# autocorrelation on sVAR lag 1 i lag 2 jak nasz model rózni sie od zmodyfikowanego naiva (naiwna regresja). czy reszta mikrobiomu jest kluczowa czy jest dodatkiem."
   ]
  }
 ],
 "metadata": {
  "kernelspec": {
   "display_name": "basic_env",
   "language": "python",
   "name": "basic_env"
  },
  "language_info": {
   "codemirror_mode": {
    "name": "ipython",
    "version": 3
   },
   "file_extension": ".py",
   "mimetype": "text/x-python",
   "name": "python",
   "nbconvert_exporter": "python",
   "pygments_lexer": "ipython3",
   "version": "3.6.2"
  }
 },
 "nbformat": 4,
 "nbformat_minor": 5
}
