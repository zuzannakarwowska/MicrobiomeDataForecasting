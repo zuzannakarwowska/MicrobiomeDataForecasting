{
 "cells": [
  {
   "cell_type": "code",
   "execution_count": 3,
   "id": "5feef12c-f18b-4303-9cda-731ceca4f850",
   "metadata": {},
   "outputs": [],
   "source": [
    "import pandas as pd\n",
    "from sklearn import linear_model\n",
    "import numpy as np\n",
    "from scipy.stats import gmean\n",
    "import seaborn as sns\n",
    "import matplotlib.pyplot as plt\n",
    "from sklearn.linear_model import MultiTaskLassoCV\n",
    "from sklearn.model_selection import RepeatedKFold\n",
    "import warnings\n",
    "from scipy.stats import pearsonr\n"
   ]
  },
  {
   "cell_type": "code",
   "execution_count": 2,
   "id": "7e3b721f-d36d-4ad1-8b1c-6a81a2e799ee",
   "metadata": {},
   "outputs": [],
   "source": [
    "warnings.filterwarnings('ignore')\n",
    "sns.set_style('darkgrid')"
   ]
  },
  {
   "cell_type": "code",
   "execution_count": 4,
   "id": "e94e07ac-797d-4d00-ad58-fc30d94cd0bd",
   "metadata": {},
   "outputs": [],
   "source": [
    "file_donorA = '/storage/zkarwowska/microbiome-interactions/datasets/processed/ready_datasets_transformed/common/donorA.csv'"
   ]
  },
  {
   "cell_type": "code",
   "execution_count": 5,
   "id": "ee52134a-8924-4f0c-a4c9-0d7c548e610e",
   "metadata": {},
   "outputs": [],
   "source": [
    "df = pd.read_csv(file_donorA, index_col = [0])\n",
    "df = df.iloc[:, :30]"
   ]
  },
  {
   "cell_type": "code",
   "execution_count": 6,
   "id": "1eb7cf71-e893-4a78-aee2-3f4ddb2e9243",
   "metadata": {},
   "outputs": [],
   "source": [
    "# transform using CLR\n",
    "def clr_transform(x):\n",
    "    \n",
    "    x = x + 1e-10\n",
    "    g_mean = gmean(x)\n",
    "    clr = np.log(x) - np.log(g_mean)\n",
    "    \n",
    "    return clr"
   ]
  },
  {
   "cell_type": "code",
   "execution_count": 7,
   "id": "0e43c41c-82aa-4bb6-8d1a-8dff6aad1da5",
   "metadata": {},
   "outputs": [],
   "source": [
    "clr_df = df.apply(clr_transform)"
   ]
  },
  {
   "cell_type": "code",
   "execution_count": 8,
   "id": "e0114e1a-04df-45cc-b402-4f77852e1a56",
   "metadata": {},
   "outputs": [],
   "source": [
    "# differenciate\n",
    "clr_diff_df = clr_df.diff(periods=1)\n",
    "clr_diff_df = clr_diff_df.iloc[1:]"
   ]
  },
  {
   "cell_type": "code",
   "execution_count": 9,
   "id": "a840e21b-fbec-4efe-8114-b30b8cb54b09",
   "metadata": {},
   "outputs": [],
   "source": [
    "def make_lagged_df(df, maxlag):\n",
    "    \n",
    "    lagged_df = pd.DataFrame() \n",
    "\n",
    "    colnames = []\n",
    "    for i in range(1, maxlag):\n",
    "        a = df.shift(i)\n",
    "        lagged_df = pd.concat([lagged_df, a],axis=1) \n",
    "        columns = [col + '_lag{}'.format(i) for col in df.columns]\n",
    "        colnames.append(columns)\n",
    "\n",
    "    colnames = [item for sublist in colnames for item in sublist]\n",
    "    lagged_df.columns = colnames\n",
    "\n",
    "    lagged_df = lagged_df.iloc[maxlag:]\n",
    "    \n",
    "    return lagged_df"
   ]
  },
  {
   "cell_type": "markdown",
   "id": "f5cfb7e0-3823-4139-a5bb-bd07ca80d70e",
   "metadata": {},
   "source": [
    "## lasso regression"
   ]
  },
  {
   "cell_type": "code",
   "execution_count": 10,
   "id": "29774c5a-7e6f-411f-bbea-2cd63ebb2f9e",
   "metadata": {},
   "outputs": [],
   "source": [
    "def partial_granger_lasso(df_lag0, maxlag, lagged_df):\n",
    "\n",
    "    partial_causality_df = []    \n",
    "    for t in df_lag0.columns:\n",
    "\n",
    "        target = np.array(df_lag0[t]).reshape(-1,1)\n",
    "\n",
    "        interactor = []\n",
    "        causality_coeff = []\n",
    "        interactor_lag = []\n",
    "        for col in df_lag0.columns:\n",
    "\n",
    "            for lag in range(1, maxlag):\n",
    "\n",
    "                y_name = col  + '_lag{}'.format(lag)\n",
    "\n",
    "                confounders = np.array(lagged_df.drop([y_name], axis=1))\n",
    "                all_variables = np.array(lagged_df)\n",
    "\n",
    "                cv = RepeatedKFold(n_repeats=3, n_splits=5, random_state=1)\n",
    "                lasso_alphas = np.linspace(1e-1, 1, 10)\n",
    "\n",
    "                # x conditioned on confounders\n",
    "                reg1 = MultiTaskLassoCV(cv=cv, alphas=lasso_alphas, random_state=0).fit(confounders, target)\n",
    "                reg1_resid = reg1.score(confounders, target)\n",
    "\n",
    "                # x y conditioned on confounders\n",
    "                reg2 = MultiTaskLassoCV(cv=cv, alphas=lasso_alphas, random_state=0).fit(all_variables, target)\n",
    "                reg2_resid = reg2.score(all_variables, target)\n",
    "\n",
    "                #partial_granger = np.log(reg1_resid) - np.log(reg2_resid)\n",
    "                partial_granger = reg2_resid - reg1_resid\n",
    "                \n",
    "                interactor.append(col)\n",
    "                interactor_lag.append(lag)\n",
    "                causality_coeff.append(np.round(partial_granger, 3))\n",
    "                \n",
    "        df = pd.DataFrame(list(zip(interactor, interactor_lag, causality_coeff)), columns = ['otu', 'lag', 'partial_causality'])\n",
    "        df['target'] = t\n",
    "        partial_causality_df.append(df)\n",
    "\n",
    "    partial_causality_df = pd.concat(partial_causality_df)    \n",
    "    \n",
    "    return partial_causality_df"
   ]
  },
  {
   "cell_type": "code",
   "execution_count": 11,
   "id": "4acf3f08-be37-4662-8a22-6a1237fcaf55",
   "metadata": {},
   "outputs": [],
   "source": [
    "maxlag = 2\n",
    "lagged_df = make_lagged_df(clr_diff_df, maxlag)\n",
    "df_lag0 = clr_diff_df.iloc[maxlag:]\n",
    "\n",
    "partial_causality_df = partial_granger_lasso(df_lag0, maxlag, lagged_df)"
   ]
  },
  {
   "cell_type": "markdown",
   "id": "12b0722f-f0db-4367-817c-a970bee5dc17",
   "metadata": {},
   "source": [
    "# TESTS"
   ]
  },
  {
   "cell_type": "markdown",
   "id": "4b311704-8e4c-4a5b-a206-276676788664",
   "metadata": {},
   "source": [
    "### test on shuffled data"
   ]
  },
  {
   "cell_type": "code",
   "execution_count": 12,
   "id": "de0f8f05-e295-4e94-8d70-1472c1666be2",
   "metadata": {},
   "outputs": [],
   "source": [
    "def permutate_cols(x):\n",
    "    shuffled_x = np.random.permutation(x)\n",
    "    \n",
    "    return shuffled_x"
   ]
  },
  {
   "cell_type": "code",
   "execution_count": 13,
   "id": "60555b31-5f37-49cc-a7fd-15ea1bcfa40b",
   "metadata": {},
   "outputs": [],
   "source": [
    "shuffled_df = df.apply(permutate_cols)"
   ]
  },
  {
   "cell_type": "code",
   "execution_count": 14,
   "id": "b7132196-d919-4987-8c90-865874ea97dc",
   "metadata": {},
   "outputs": [],
   "source": [
    "shuffled_clr_df = shuffled_df.apply(clr_transform)\n",
    "shuffled_clr_diff_df = shuffled_clr_df.diff(periods=1)\n",
    "shuffled_clr_diff_df = shuffled_clr_diff_df.iloc[1:]"
   ]
  },
  {
   "cell_type": "code",
   "execution_count": 15,
   "id": "91e015b7-3a1d-4d74-bdba-400e2a4289e4",
   "metadata": {},
   "outputs": [],
   "source": [
    "maxlag = 2\n",
    "shuffled_lagged_df = make_lagged_df(shuffled_clr_diff_df, maxlag)\n",
    "shuffled_df_lag0 = shuffled_clr_diff_df.iloc[maxlag:]"
   ]
  },
  {
   "cell_type": "code",
   "execution_count": 16,
   "id": "5bbb387a-b8ca-41f7-b932-1f7a504cbc44",
   "metadata": {},
   "outputs": [],
   "source": [
    "shuffled_partial_df = partial_granger_lasso(shuffled_df_lag0, maxlag,shuffled_lagged_df)"
   ]
  },
  {
   "cell_type": "code",
   "execution_count": null,
   "id": "dd4115de-b1a8-406c-b84d-b453f15902f4",
   "metadata": {},
   "outputs": [],
   "source": [
    "#compare results on original and shuffled data\n",
    "\n",
    "from scipy.stats import pearsonr\n",
    "pearsonr(shuffled_partial_df['partial_causality'], partial_causality_df['partial_causality'])"
   ]
  },
  {
   "cell_type": "code",
   "execution_count": null,
   "id": "b7c29084-3dd5-4d30-843e-2a479daf561f",
   "metadata": {},
   "outputs": [],
   "source": [
    "df = pd.merge(partial_causality_df, shuffled_partial_df, on = ['target', 'otu', 'lag'])"
   ]
  },
  {
   "cell_type": "code",
   "execution_count": null,
   "id": "84b78621-00a4-4546-9bf0-ee39bd3df53c",
   "metadata": {},
   "outputs": [],
   "source": [
    "plt.figure(figsize = [8, 8])\n",
    "ax = sns.jointplot(data = df,\n",
    "              x = 'partial_causality_x',\n",
    "              y = 'partial_causality_y', \n",
    "              hue = 'lag',\n",
    "              s=200,\n",
    "              edgecolor = 'black',\n",
    "              alpha = .5,\n",
    "                   height = 8,\n",
    "             )\n",
    "x = 'causality coefficient on true data'\n",
    "y = 'causality coefficient on shuffled data'\n",
    "\n",
    "ax.set_axis_labels(x, y, fontsize=12)\n",
    "plt.tight_layout()\n",
    "plt.savefig('plots/partial_causality_shuffle2.png')"
   ]
  },
  {
   "cell_type": "code",
   "execution_count": null,
   "id": "6fae7d34-bc1c-4e45-add4-75b05ef54d2f",
   "metadata": {},
   "outputs": [],
   "source": [
    "import matplotlib.patches as mpatches\n",
    "\n",
    "plt.figure(figsize = [8, 8])\n",
    "sns.scatterplot(x=shuffled_partial_df['partial_causality'].index, y=shuffled_partial_df['partial_causality'], s = 100, edgecolor = 'black', alpha = .5)\n",
    "sns.scatterplot(x=partial_causality_df['partial_causality'].index, y=partial_causality_df['partial_causality'], s = 100, marker='o', edgecolor = 'black', alpha = .5, color = 'orange')\n",
    "\n",
    "blue = mpatches.Patch(color='lightblue', label='partial_causality on true data')\n",
    "orange = mpatches.Patch(color='orange', label='partial_causality on shuffled data')\n",
    "\n",
    "plt.legend(handles=[blue, orange], loc='center', bbox_to_anchor=(1.25, 1))\n",
    "\n",
    "plt.savefig('plots/partial_causality_shuffle.png')\n",
    "#plt.ylabel('shuffled')\n",
    "#plt.xlabel('original')\n",
    "#plt.xlim([-0.1, 0.5])\n",
    "#plt.ylim([-0.1, 0.5])\n"
   ]
  },
  {
   "cell_type": "markdown",
   "id": "ae8beff4-7126-4357-8cd0-50ffbd0c3c13",
   "metadata": {},
   "source": [
    "## test 2: partial causality vs PACF"
   ]
  },
  {
   "cell_type": "code",
   "execution_count": null,
   "id": "a9b65f05-8926-4d16-9f24-6a1181a8dc05",
   "metadata": {},
   "outputs": [],
   "source": [
    "from statsmodels.tsa.stattools import pacf"
   ]
  },
  {
   "cell_type": "code",
   "execution_count": null,
   "id": "34edcbb4-db30-4653-b21a-1245fe3425dc",
   "metadata": {},
   "outputs": [],
   "source": [
    "DF = []\n",
    "for col in df_lag0.columns:\n",
    "\n",
    "    partial_coeff = partial_causality_df[(partial_causality_df['otu'] == col) & (partial_causality_df['target'] == col)]\n",
    "    \n",
    "    DF.append(partial_coeff)\n",
    "    \n",
    "DF = pd.concat(DF)"
   ]
  },
  {
   "cell_type": "code",
   "execution_count": null,
   "id": "85d0cc39-19ce-400b-8158-8bf11a840b53",
   "metadata": {},
   "outputs": [],
   "source": [
    "pacfLag1 = []\n",
    "pacfLag2 = []\n",
    "pacfLag3 = []\n",
    "\n",
    "for col in df_lag0.columns:\n",
    "    pacf_coeff = pacf(df_lag0[col], nlags = maxlag , method='ols')\n",
    "    pacfLag1.append(pacf_coeff[1])\n",
    "    pacfLag2.append(pacf_coeff[2])\n",
    "    pacfLag3.append(pacf_coeff[3])\n"
   ]
  },
  {
   "cell_type": "code",
   "execution_count": null,
   "id": "2c53cb9d-9a5e-455b-835b-cc04e072b3a7",
   "metadata": {},
   "outputs": [],
   "source": [
    "DF_lag1 = DF[DF['lag'] == 1]\n",
    "DF_lag1['pacf'] = pacfLag1\n",
    "\n",
    "DF_lag2 = DF[DF['lag'] == 2]\n",
    "DF_lag2['pacf'] = pacfLag2\n",
    "\n",
    "DF_lag3 = DF[DF['lag'] == 3]\n",
    "DF_lag3['pacf'] = pacfLag3\n",
    "\n",
    "\n",
    "pacf_causality_df = DF_lag1.append(DF_lag2).append(DF_lag3)"
   ]
  },
  {
   "cell_type": "code",
   "execution_count": null,
   "id": "880dfcc8-58b8-49c9-989e-0a9abd69cbe5",
   "metadata": {},
   "outputs": [],
   "source": [
    "plt.figure(figsize = [6, 6])\n",
    "\n",
    "sns.scatterplot(data = pacf_causality_df,\n",
    "                x = 'partial_causality',\n",
    "                y = 'pacf',\n",
    "                s = 150,\n",
    "                alpha = 0.4)"
   ]
  },
  {
   "cell_type": "code",
   "execution_count": null,
   "id": "4cc039a5-dc4b-4eb9-8d4a-3da47ae0adda",
   "metadata": {},
   "outputs": [],
   "source": [
    "#linear regression\n",
    "def partial_granger(target, target_name):\n",
    "    \n",
    "    #target variable\n",
    "    x = np.array(df_lag0.iloc[:,target]).reshape(-1,1)\n",
    "\n",
    "    name = []\n",
    "    partial_granger_coeff = []\n",
    "\n",
    "    for i in range(0, len(lagged_df.columns)):\n",
    "        #confounder\n",
    "        z = np.array(lagged_df.drop(lagged_df.columns[i], axis=1))\n",
    "        #predictors\n",
    "        y = np.array(lagged_df)    \n",
    "\n",
    "        # X conditioned on confounders\n",
    "        r1_lm = linear_model.LinearRegression()\n",
    "        r1_model = r1_lm.fit(x, z)\n",
    "        r1_resid = r1_lm.score(x, z) #r2\n",
    "\n",
    "        # lm(X,Y) conditioned on confounders\n",
    "        r2_lm = linear_model.LinearRegression()\n",
    "        r2_model = r2_lm.fit(x, y)\n",
    "        r2_resid = r2_lm.score(x, y) #r2\n",
    "\n",
    "        #partial Granger's causality\n",
    "        \n",
    "        partial_granger = np.log(r1_resid) - np.log(r2_resid)\n",
    "\n",
    "        name.append(lagged_df.columns[i])\n",
    "        partial_granger_coeff.append(partial_granger)\n",
    "        \n",
    "    part_granger_df = pd.DataFrame(list(zip(name, partial_granger_coeff)), columns = ['predictor', 'partial_granger'])\n",
    "    part_granger_df['target'] = target_name\n",
    "    \n",
    "    return part_granger_df\n",
    "\n",
    "pgc = []\n",
    "for col_idx in range(0,len(df_lag0.columns)):\n",
    "    \n",
    "    c = partial_granger(col_idx, df_lag0.iloc[:,col_idx].name)\n",
    "    pgc.append(c)"
   ]
  }
 ],
 "metadata": {
  "kernelspec": {
   "display_name": "basic_env",
   "language": "python",
   "name": "basic_env"
  },
  "language_info": {
   "codemirror_mode": {
    "name": "ipython",
    "version": 3
   },
   "file_extension": ".py",
   "mimetype": "text/x-python",
   "name": "python",
   "nbconvert_exporter": "python",
   "pygments_lexer": "ipython3",
   "version": "3.6.2"
  }
 },
 "nbformat": 4,
 "nbformat_minor": 5
}
