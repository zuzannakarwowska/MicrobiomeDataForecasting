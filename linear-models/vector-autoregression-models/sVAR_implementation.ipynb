{
 "cells": [
  {
   "cell_type": "code",
   "execution_count": 2,
   "id": "28f1be52-52ae-44ed-95a3-376050110844",
   "metadata": {},
   "outputs": [],
   "source": [
    "library(data.table)\n",
    "library(dplyr)\n",
    "library(BigVAR)\n",
    "library(forecast)\n",
    "library(DescTools)"
   ]
  },
  {
   "cell_type": "code",
   "execution_count": 3,
   "id": "e680d1eb-e420-4f60-8514-3bb9f8c33dfe",
   "metadata": {},
   "outputs": [],
   "source": [
    "setwd('/home/MCB/zkarwowska/sVAR_mbimpute/')"
   ]
  },
  {
   "cell_type": "code",
   "execution_count": null,
   "id": "d723ddf5-6868-49a7-b76a-f5a7be3acf31",
   "metadata": {},
   "outputs": [],
   "source": [
    "df <- read.table('rarefied_interpolated_male_feces_OTU_112_391.csv')\n",
    "df_m <-  as.matrix(df)\n",
    "\n",
    "# create a differenced series\n",
    "difference <- function(dataset){\n",
    "diff = list()\n",
    "for (i in (2:nrow(dataset))){\n",
    " value <- dataset[i, ] - dataset[i - 1, ]\n",
    " diff <- rbind(diff, value)\n",
    "}\n",
    "return(diff)\n",
    "}\n",
    "\n",
    "#invert differenced value\n",
    "inverse_difference <- function(history, yhat){\n",
    "#value <- yhat + history[-1, ] #interval=1\n",
    "value <- yhat + tail(history, 1)\n",
    "return(value)\n",
    "}\n",
    "\n",
    "#split dataset into test and train\n",
    "train_X <- df[1:240, ]\n",
    "test_X <- df[241:280, ]\n",
    "\n",
    "#declare history (training set)\n",
    "history <- train_X\n",
    "#declare prediction matrix\n",
    "predictions <- matrix(nrow = 0, ncol = 200)\n",
    "\n",
    "\n",
    "#rolling forecast\n",
    "for (i in (2:42)){\n",
    " print(i)\n",
    "# difference data\n",
    "diff <- difference(train_X)\n",
    "diff_m <- as.matrix(diff)\n",
    "#predict \n",
    "model <- constructModel(diff_m,\n",
    "                       p=1,\n",
    "                      \"BasicEN\",\n",
    "                      gran=c(150,10),\n",
    "                      RVAR=FALSE,\n",
    "                      h=1,\n",
    "                      cv=\"Rolling\",\n",
    "                      MN=FALSE,\n",
    "                      verbose=FALSE,\n",
    "                      IC=TRUE)\n",
    "results=cv.BigVAR(model)\n",
    "yhat <- predict(results, n.ahead=1)\n",
    "yhat_t <- as.data.frame(t(c(yhat)))\n",
    "yhat_undiff <- inverse_difference(history, yhat_t)\n",
    "\n",
    "predictions <- Append(predictions, yhat_undiff, rows = 'TRUE')\n",
    "# observation\n",
    "obs <- test_X[i, ]\n",
    "history <- Append(as.matrix(history), obs, rows = 'TRUE')\n",
    "\n",
    "}\n",
    "\n",
    "write.csv(predictions, 'prediction.csv', row.names = FALSE)"
   ]
  }
 ],
 "metadata": {
  "kernelspec": {
   "display_name": "R",
   "language": "R",
   "name": "ir"
  },
  "language_info": {
   "codemirror_mode": "r",
   "file_extension": ".r",
   "mimetype": "text/x-r-source",
   "name": "R",
   "pygments_lexer": "r",
   "version": "4.1.1"
  },
  "toc-autonumbering": true
 },
 "nbformat": 4,
 "nbformat_minor": 5
}
