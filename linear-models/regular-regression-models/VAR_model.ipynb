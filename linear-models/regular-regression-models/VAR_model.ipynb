{
 "cells": [
  {
   "cell_type": "markdown",
   "id": "e07a66ce-08f1-4ecd-8ce7-14406ddde97f",
   "metadata": {},
   "source": [
    "# VAR MODEL\n",
    "\n",
    "1) read microbiome feature table (rows: timsteps, cols: OTUs)\n",
    "2) transform it with CLR (get data out of the simplex)\n",
    "3) filter dataframe removing rare OTU's\n",
    "4) VAR_predict_train_rolling()  :  fit VAR model on train set and predict on train set using rolling cross validation\n",
    "5) VAR_predict_test_rolling()   :  fit VAR model on train set and predict on test set using rolling cross validation\n",
    "6) VAR_predict_train_shuffled() :  fit VAR model on train set and predict on train set using shuffled cross validation\n",
    "7) VAR_predict_test_shuffled()  :  fit VAR model on train set and predict on test set using shuffled cross validation"
   ]
  },
  {
   "cell_type": "code",
   "execution_count": 1,
   "id": "c1a81b04-b5a3-42b2-b862-21db86b3d2aa",
   "metadata": {},
   "outputs": [],
   "source": [
    "import matplotlib.pyplot as plt\n",
    "import pandas as pd\n",
    "import statsmodels\n",
    "import warnings\n",
    "import numpy as np\n",
    "import seaborn as sns\n",
    "import random\n",
    "import os\n",
    "import sys\n",
    "\n",
    "\n",
    "from scipy.special import logsumexp\n",
    "from statsmodels.tsa.api import VAR, VECM\n",
    "import sklearn.metrics as skm\n",
    "import statsmodels.api as sm"
   ]
  },
  {
   "cell_type": "code",
   "execution_count": 2,
   "id": "f08e9cb7-c5c3-41aa-8fe3-51e44b45db14",
   "metadata": {},
   "outputs": [],
   "source": [
    "MODULE_PATH = os.path.abspath('/storage/pszczerbiak/microbiome_interactions_project') # TODO load from CONFIG file\n",
    "if MODULE_PATH not in sys.path:\n",
    "    sys.path.append(MODULE_PATH)\n",
    "\n",
    "from utils.measures import calculate_nrmse, calculate_spearman, inter_dissimilarity \n",
    "from utils.transformers import CLRTransformer"
   ]
  },
  {
   "cell_type": "code",
   "execution_count": 3,
   "id": "45f5a116-e66a-4cf5-b571-bc4552c6385d",
   "metadata": {},
   "outputs": [],
   "source": [
    "warnings.simplefilter(action='ignore', category=FutureWarning)"
   ]
  },
  {
   "cell_type": "markdown",
   "id": "0d4d5d1c-831b-48f9-983b-a1676c4d55b3",
   "metadata": {},
   "source": [
    "### 1. READ DATA"
   ]
  },
  {
   "cell_type": "code",
   "execution_count": 4,
   "id": "958cb7a3-3105-426b-9933-078c3c38bac5",
   "metadata": {},
   "outputs": [],
   "source": [
    "file_donorA = '/storage/zkarwowska/microbiome-interactions/datasets/processed/ready_datasets/donorA_rarefied_interpolated_feces.csv'"
   ]
  },
  {
   "cell_type": "code",
   "execution_count": 5,
   "id": "8d0f404e-90b9-461a-ba2e-431644d1210f",
   "metadata": {},
   "outputs": [],
   "source": [
    "df = pd.read_csv(file_donorA, index_col = 0)"
   ]
  },
  {
   "cell_type": "code",
   "execution_count": 6,
   "id": "d29c0378-f198-4240-8954-98bd44577f08",
   "metadata": {},
   "outputs": [
    {
     "data": {
      "text/plain": [
       "<AxesSubplot:ylabel='Density'>"
      ]
     },
     "execution_count": 6,
     "metadata": {},
     "output_type": "execute_result"
    },
    {
     "data": {
      "image/png": "[encoded data removed]",
      "text/plain": [
       "<Figure size 432x288 with 1 Axes>"
      ]
     },
     "metadata": {
      "needs_background": "light"
     },
     "output_type": "display_data"
    }
   ],
   "source": [
    "sns.distplot(df)"
   ]
  },
  {
   "cell_type": "markdown",
   "id": "16c57599-9914-4b16-a0bd-48921e4017a1",
   "metadata": {},
   "source": [
    "### 2. TRANSFORM DATA USING CLR"
   ]
  },
  {
   "cell_type": "code",
   "execution_count": 7,
   "id": "a123100c-9082-447e-b47c-e8773856e6c6",
   "metadata": {},
   "outputs": [],
   "source": [
    "clr_transformer = CLRTransformer(is_pseudo_global=True, axis=1)\n",
    "df_clr = clr_transformer.fit_transform(df)"
   ]
  },
  {
   "cell_type": "code",
   "execution_count": 8,
   "id": "2c547d7a-5ba4-4b18-ac08-064ab3abf045",
   "metadata": {},
   "outputs": [
    {
     "data": {
      "text/plain": [
       "<AxesSubplot:ylabel='Density'>"
      ]
     },
     "execution_count": 8,
     "metadata": {},
     "output_type": "execute_result"
    },
    {
     "data": {
      "image/png": "[encoded data removed]",
      "text/plain": [
       "<Figure size 432x288 with 1 Axes>"
      ]
     },
     "metadata": {
      "needs_background": "light"
     },
     "output_type": "display_data"
    }
   ],
   "source": [
    "sns.distplot(df_clr)"
   ]
  },
  {
   "cell_type": "markdown",
   "id": "bcab32f6-07ec-4b99-9558-521d630b0ac3",
   "metadata": {},
   "source": [
    "### 3. FILTER RARE BACTERIA"
   ]
  },
  {
   "cell_type": "code",
   "execution_count": 55,
   "id": "1b1aa2dd-5651-4629-acde-ea784dd60aeb",
   "metadata": {},
   "outputs": [],
   "source": [
    "def filter_out_rare_bacteria(df, n_bacteria=100):\n",
    "    \n",
    "    ''' \n",
    "    sort bacteria by their mean abundance and keep n \n",
    "    most common bacteria \n",
    "    '''\n",
    "    \n",
    "    n_bacteria = n_bacteria\n",
    "\n",
    "    rare_bacteria_df = pd.DataFrame(df.describe().iloc[1])\n",
    "    common_bacteria = rare_bacteria_df.sort_values(by = ['mean']).tail(n_bacteria).index\n",
    "    df_filtered = df[common_bacteria]\n",
    "    \n",
    "    return df_filtered"
   ]
  },
  {
   "cell_type": "code",
   "execution_count": 57,
   "id": "f1888bda-664e-4e7d-92a2-0f7bcb54191c",
   "metadata": {},
   "outputs": [],
   "source": [
    "df_clr_filtered = filter_out_rare_bacteria(df_clr)\n",
    "df_filter = df[df_clr_filtered.columns]"
   ]
  },
  {
   "cell_type": "code",
   "execution_count": 50,
   "id": "93cbd3d5-d960-40e4-a090-85d77716b504",
   "metadata": {},
   "outputs": [
    {
     "data": {
      "text/plain": [
       "<AxesSubplot:ylabel='Density'>"
      ]
     },
     "execution_count": 50,
     "metadata": {},
     "output_type": "execute_result"
    },
    {
     "data": {
      "image/png": "[encoded data removed]",
      "text/plain": [
       "<Figure size 432x288 with 1 Axes>"
      ]
     },
     "metadata": {
      "needs_background": "light"
     },
     "output_type": "display_data"
    }
   ],
   "source": [
    "sns.distplot(df_clr_filtered)"
   ]
  },
  {
   "cell_type": "markdown",
   "id": "8329402d-3e3d-46e7-b7b5-72ccc75203f7",
   "metadata": {},
   "source": [
    "### FIT VAR MODEL ON TRAIN MODEL"
   ]
  },
  {
   "cell_type": "code",
   "execution_count": 51,
   "id": "3997cfaa-4075-4140-a550-0e93fe720b88",
   "metadata": {},
   "outputs": [
    {
     "data": {
      "text/plain": [
       "((329, 1000), (36, 1000))"
      ]
     },
     "execution_count": 51,
     "metadata": {},
     "output_type": "execute_result"
    }
   ],
   "source": [
    "# define x_train and x_test\n",
    "split = int(df_clr_filtered.shape[0] * 0.1) #10% going to test set\n",
    "\n",
    "x_train = df_clr_filtered[:-split].values\n",
    "x_test = df_clr_filtered[-split:].values\n",
    "\n",
    "x_train.shape, x_test.shape"
   ]
  },
  {
   "cell_type": "code",
   "execution_count": 52,
   "id": "d6de9156-356a-4f64-9547-5d88d637cdb9",
   "metadata": {},
   "outputs": [],
   "source": [
    "def VAR_predict_train_rolling(x_train, lag=1, steps=1):\n",
    "    \n",
    "    ''' \n",
    "    fit VAR model on train set and predict \n",
    "    on train set using rolling cross validation\n",
    "    \n",
    "    Params\n",
    "    ---------\n",
    "    x_train    : np.array with train data\n",
    "    lag        : lag to use in VAR model\n",
    "    steps      : forecast horizon\n",
    "    \n",
    "    Returns\n",
    "    ---------\n",
    "    model_fit: fitted model object\n",
    "    predictions_array: array with predictions on \n",
    "                 train set\n",
    "    '''\n",
    "    \n",
    "    lag = lag\n",
    "\n",
    "    model = VAR(x_train)\n",
    "    model_fit = model.fit(lag) #fit model\n",
    "\n",
    "    history_train =  [x for x in x_train[:lag]]\n",
    "    predictions = list()\n",
    "\n",
    "    # rolling cross validation loop\n",
    "    for i in range(lag, len(x_train)):\n",
    "        #get last train timestep as input for the forecast\n",
    "\n",
    "        yhat = model_fit.forecast(y=x_train[-lag:], steps=steps) #forecast\n",
    "        predictions.append(yhat)\n",
    "\n",
    "        obs = x_train[i]\n",
    "        history_train.append(obs)\n",
    "        \n",
    "    predictions_array = [item for sublist in predictions for item in sublist]\n",
    "\n",
    "    return model_fit, predictions_array"
   ]
  },
  {
   "cell_type": "code",
   "execution_count": 53,
   "id": "120ed82a-d653-4a68-a2dc-5258bc49f37e",
   "metadata": {},
   "outputs": [],
   "source": [
    "fitted_model, train_predictions = VAR_predict_train_rolling(x_train, lag = 5)"
   ]
  },
  {
   "cell_type": "code",
   "execution_count": 54,
   "id": "31aad404-61ae-4d62-a8ed-e80b7b0e0dc6",
   "metadata": {},
   "outputs": [
    {
     "data": {
      "text/plain": [
       "324"
      ]
     },
     "execution_count": 54,
     "metadata": {},
     "output_type": "execute_result"
    }
   ],
   "source": [
    "len(train_predictions)"
   ]
  },
  {
   "cell_type": "markdown",
   "id": "9727b652-35ee-4657-b66d-b840d48db605",
   "metadata": {},
   "source": [
    "### FIT MODEL ON TEST DATA ROLLING CV"
   ]
  },
  {
   "cell_type": "code",
   "execution_count": 14,
   "id": "6ee90fe7-1970-4982-a61a-a49c2b3d9e49",
   "metadata": {},
   "outputs": [],
   "source": [
    "def VAR_predict_test_rolling(x_train, x_test, lag=1, steps=1):\n",
    "    \n",
    "    ''' \n",
    "    fit VAR model on train set and predict \n",
    "    on test set using rolling cross validation\n",
    "    \n",
    "    Params\n",
    "    ---------\n",
    "    x_train    : np.array with train data\n",
    "    x_test     : np.array with test data\n",
    "    lag        : lag to use in VAR model\n",
    "    steps      : forecast horizon\n",
    "    \n",
    "    Returns\n",
    "    ---------\n",
    "    model_fit        : fitted model object\n",
    "    predictions_array: array with predictions on the\n",
    "                 test set\n",
    "    '''\n",
    "        \n",
    "    \n",
    "    lag = lag\n",
    "\n",
    "    model = VAR(x_train)\n",
    "    model_fit = model.fit(lag)\n",
    "\n",
    "    history = [x for x in x_train]\n",
    "    predictions = list()\n",
    "    #get last train timestep as input for the forecast\n",
    "    forecast_input = x_train[-lag:]\n",
    "    #make 1st forecast\n",
    "    yhat = model_fit.forecast(y=forecast_input, steps=1)\n",
    "\n",
    "    #append to predictions\n",
    "    predictions.append(yhat)\n",
    "    #add first value from test to train \n",
    "    history.append(x_test[0]) \n",
    "\n",
    "    for i in range(1, len(x_test)):\n",
    "\n",
    "        #fit model\n",
    "        model = VAR(history)\n",
    "        model_fit = model.fit(lag)\n",
    "        \n",
    "        forecast_input = np.array(history[-lag:])\n",
    "        yhat = model_fit.forecast(y=forecast_input, steps=1)\n",
    "        predictions.append(yhat)\n",
    "\n",
    "        obs = x_test[i]\n",
    "        history.append(obs)\n",
    "        \n",
    "    predictions_array = [item for sublist in predictions for item in sublist]\n",
    "\n",
    "    return model_fit, predictions_array"
   ]
  },
  {
   "cell_type": "code",
   "execution_count": 30,
   "id": "02f3c3a0-2b10-4411-ad10-f8bdc8a02582",
   "metadata": {},
   "outputs": [],
   "source": [
    "fitted_model, predictions_test_rolling = VAR_predict_test_rolling(x_train, x_test)"
   ]
  },
  {
   "cell_type": "code",
   "execution_count": 19,
   "id": "539dfe09-54e1-4c63-8073-9c0919462cc5",
   "metadata": {},
   "outputs": [],
   "source": [
    "def VAR_predict_test_shuffled(x_train, x_test,lag=1, steps=1):\n",
    "\n",
    "    '''\n",
    "    Use fitted VAR model to make predictions\n",
    "    on test data in a shuffled manner (use random days,\n",
    "    do not care about order)\n",
    "\n",
    "    Params\n",
    "    ------\n",
    "    x_train: np.array\n",
    "    x_test : np.array\n",
    "    fitted_model: fitted VAR model\n",
    "    steps: forecast horizon\n",
    "\n",
    "    Returns\n",
    "    ------\n",
    "    predictions_df \n",
    "\n",
    "    '''\n",
    "    \n",
    "    lag = lag\n",
    "\n",
    "    model = VAR(x_train)\n",
    "    fitted_model = model.fit(lag)\n",
    "    \n",
    "    predictions = []\n",
    "\n",
    "    forecast_input = x_train[-1].reshape(steps, len(x_train[-1])) \n",
    "    yhat = fitted_model.forecast(y=forecast_input, steps=steps)\n",
    "    predictions.append(yhat)\n",
    "\n",
    "    random_idx = list(range(len(x_test) - 1)) \n",
    "    random.Random(10).shuffle(random_idx)\n",
    "\n",
    "    for i in random_idx:\n",
    "        forecast_input = x_test[i].reshape(steps, len(x_test[i]))\n",
    "        yhat = fitted_model.forecast(y=forecast_input, steps=steps)\n",
    "        predictions.append(yhat)\n",
    "\n",
    "    predictions_array = [item for sublist in predictions for item in sublist]\n",
    "    predictions_df = pd.DataFrame(predictions_array)\n",
    "\n",
    "    idx = [0] + [x+1 for x in random_idx]\n",
    "    predictions_df.index = idx \n",
    "    predictions_df = predictions_df.sort_index()\n",
    "\n",
    "    return predictions_df   "
   ]
  },
  {
   "cell_type": "code",
   "execution_count": 29,
   "id": "601a5131-d04b-446c-8b7f-3b9b2b7d37fa",
   "metadata": {},
   "outputs": [],
   "source": [
    "predictions_test_shuffled = VAR_predict_test_shuffled(x_train, x_test)\n",
    "predictions_test_shuffled.index = df_clr_filtered.iloc[-split:].index"
   ]
  },
  {
   "cell_type": "code",
   "execution_count": 20,
   "id": "12269fcf-deef-4e4e-8839-da133da4aeb0",
   "metadata": {},
   "outputs": [],
   "source": [
    "def VAR_predict_train_shuffled(x_train, lag=1, steps=1):\n",
    "\n",
    "    '''\n",
    "    Use fitted VAR model to make predictions\n",
    "    on test data in a shuffled manner (use random days,\n",
    "    do not care about order)\n",
    "\n",
    "    Params\n",
    "    ------\n",
    "    x_train: np.array\n",
    "    x_test : np.array\n",
    "    fitted_model: fitted VAR model\n",
    "    steps: forecast horizon\n",
    "\n",
    "    Returns\n",
    "    ------\n",
    "    predictions_df \n",
    "\n",
    "    '''\n",
    "    lag = lag\n",
    "\n",
    "    model = VAR(x_train)\n",
    "    fitted_model = model.fit(lag)\n",
    "    \n",
    "    \n",
    "    predictions = []\n",
    "\n",
    "    random_idx = list(range(len(x_train) - 1)) \n",
    "    random.Random(10).shuffle(random_idx)\n",
    "\n",
    "    for i in random_idx:\n",
    "        forecast_input = x_train[i].reshape(steps, len(x_train[i]))\n",
    "        yhat = fitted_model.forecast(y=forecast_input, steps=steps)\n",
    "        predictions.append(yhat)\n",
    "\n",
    "    predictions_array = [item for sublist in predictions for item in sublist]\n",
    "    predictions_df = pd.DataFrame(predictions_array)\n",
    "\n",
    "    idx = [x+1 for x in random_idx]\n",
    "    predictions_df.index = idx \n",
    "    predictions_df = predictions_df.sort_index()\n",
    "\n",
    "    return predictions_df   "
   ]
  },
  {
   "cell_type": "code",
   "execution_count": 28,
   "id": "f12f0e82-330f-4b27-bf84-30a15907c3cb",
   "metadata": {},
   "outputs": [],
   "source": [
    "predictions_train_shuffled = VAR_predict_train_shuffled(x_train)\n",
    "predictions_train_shuffled.index = df_clr_filtered.iloc[1:-split].index"
   ]
  },
  {
   "cell_type": "code",
   "execution_count": null,
   "id": "3ca384a0-b74a-4b17-bdfc-a942140024f3",
   "metadata": {},
   "outputs": [],
   "source": [
    "pred_inv = np.exp(predictions_df) * clr_transformer.gmean_[-split:, None]"
   ]
  },
  {
   "cell_type": "code",
   "execution_count": null,
   "id": "fc462360-3878-4a2a-960c-6f380c320334",
   "metadata": {},
   "outputs": [],
   "source": [
    "true_test = df_filtered[-split:]\n",
    "for i in range(1, 20):\n",
    "    sns.lineplot(x = range(len(true_test)), y = true_test.iloc[:, i], color = 'black')\n",
    "    sns.lineplot(x = range(len(pred_inv)), y = pred_inv.iloc[:, i], color = 'orange')\n",
    "    plt.ylabel('')\n",
    "    plt.show()"
   ]
  }
 ],
 "metadata": {
  "kernelspec": {
   "display_name": "var_env",
   "language": "python",
   "name": "var_env"
  },
  "language_info": {
   "codemirror_mode": {
    "name": "ipython",
    "version": 3
   },
   "file_extension": ".py",
   "mimetype": "text/x-python",
   "name": "python",
   "nbconvert_exporter": "python",
   "pygments_lexer": "ipython3",
   "version": "3.8.13"
  }
 },
 "nbformat": 4,
 "nbformat_minor": 5
}
