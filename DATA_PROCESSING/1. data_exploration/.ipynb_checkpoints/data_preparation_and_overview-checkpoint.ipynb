{
 "cells": [
  {
   "cell_type": "code",
   "execution_count": 1,
   "id": "dd3c24f0-3627-40f4-994a-4ae715862adb",
   "metadata": {},
   "outputs": [],
   "source": [
    "import pandas as pd\n",
    "from collections import Counter, defaultdict\n",
    "import matplotlib.pyplot as plt\n",
    "import seaborn as sns\n",
    "\n",
    "sns.set(style=\"ticks\", context=\"talk\")\n",
    "plt.style.use(\"dark_background\")\n",
    "\n",
    "import warnings\n",
    "warnings.filterwarnings('ignore')"
   ]
  },
  {
   "cell_type": "code",
   "execution_count": 50,
   "id": "0b098810-5bfd-467b-990d-6ddfccda59da",
   "metadata": {},
   "outputs": [],
   "source": [
    "#read feature table and metadata\n",
    "feature_table = pd.read_csv('Desktop/SONATA_VAR_MODEL/VAR_MODELS/DATA/raw_data/550_data/raw_data_from_qiita/550_reference.tsv',\n",
    "                sep = '\\t', skiprows = [0], index_col=[0])\n",
    "metadata = pd.read_csv('Desktop/SONATA_VAR_MODEL/VAR_MODELS/DATA/raw_data/550_data/raw_data_from_qiita/550_metadata.txt',\n",
    "                sep = '\\t')"
   ]
  },
  {
   "cell_type": "code",
   "execution_count": 51,
   "id": "f40df33e-de4b-448e-90ca-0b4a2c5a7493",
   "metadata": {},
   "outputs": [],
   "source": [
    "#remove mislabeled data and select only gut microbiome samples\n",
    "metadata =  metadata[(metadata['mislabeled'] == False) & (metadata['body_site'] == 'UBERON:feces')]\n",
    "#separate female from male samples\n",
    "male_samples = metadata[metadata['sex'] == 'male']['sample_name']\n",
    "female_samples = metadata[metadata['sex'] == 'female']['sample_name']\n",
    "#make dictionary with sample name and time step\n",
    "sample_to_day_dict = dict(zip(metadata['sample_name'], metadata['days_since_experiment_start']))"
   ]
  },
  {
   "cell_type": "code",
   "execution_count": 52,
   "id": "55d9ae59-a4c5-4e04-9f18-d2c7aa096755",
   "metadata": {},
   "outputs": [],
   "source": [
    "#filter male and female data\n",
    "male_df = feature_table[male_samples]\n",
    "female_df = feature_table[female_samples]"
   ]
  },
  {
   "cell_type": "code",
   "execution_count": 53,
   "id": "3e867b4b-219e-403b-a82b-0fc1189c8744",
   "metadata": {},
   "outputs": [],
   "source": [
    "#change column names into days_since_experiment_start\n",
    "male_df = male_df.rename(columns=sample_to_day_dict)\n",
    "female_df = female_df.rename(columns=sample_to_day_dict)"
   ]
  },
  {
   "cell_type": "code",
   "execution_count": null,
   "id": "94984875-3811-45e0-9c56-5e5bfade158b",
   "metadata": {},
   "outputs": [],
   "source": [
    "male_df.to_csv('raw_male_feces.csv')\n",
    "female_dfmale_df.to_csv('raw_female_feces.csv')"
   ]
  }
 ],
 "metadata": {
  "kernelspec": {
   "display_name": "skbio_env",
   "language": "python",
   "name": "skbio_env"
  },
  "language_info": {
   "codemirror_mode": {
    "name": "ipython",
    "version": 3
   },
   "file_extension": ".py",
   "mimetype": "text/x-python",
   "name": "python",
   "nbconvert_exporter": "python",
   "pygments_lexer": "ipython3",
   "version": "3.7.10"
  }
 },
 "nbformat": 4,
 "nbformat_minor": 5
}
