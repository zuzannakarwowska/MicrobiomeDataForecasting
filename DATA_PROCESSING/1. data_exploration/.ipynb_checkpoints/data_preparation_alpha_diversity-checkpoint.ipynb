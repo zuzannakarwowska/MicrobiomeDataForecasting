{
 "cells": [
  {
   "cell_type": "markdown",
   "metadata": {},
   "source": [
    "### This script:\n",
    "    - performs rarefaction\n",
    "    - calculates alpha diversity for each subject \n",
    "    - calculates correlation between alpha diversity and time\n",
    "    - creates rarefied feature table\n",
    "#### Needs to be runned in an envrionment with QIIME2"
   ]
  },
  {
   "cell_type": "code",
   "execution_count": 2,
   "metadata": {},
   "outputs": [],
   "source": [
    "import pandas as pd"
   ]
  },
  {
   "cell_type": "code",
   "execution_count": 8,
   "metadata": {},
   "outputs": [],
   "source": [
    "ftable_file = '550_feces.tsv'\n",
    "metadata_file = 'feces_metadata.tsv'"
   ]
  },
  {
   "cell_type": "code",
   "execution_count": 11,
   "metadata": {},
   "outputs": [],
   "source": [
    "#get dataframe only feces and no mislabeled\n",
    "df = pd.read_csv(ftable_file, sep = '\\t')\n",
    "#metadata only feces and no mislabeled\n",
    "metadata = pd.read_csv(metadata_file, sep = '\\t')"
   ]
  },
  {
   "cell_type": "code",
   "execution_count": 16,
   "metadata": {},
   "outputs": [],
   "source": [
    "#make qza from tsv\n",
    "!biom convert -i 550_feces.tsv -o converted_table.biom --to-hdf5\n",
    "\n",
    "qiime tools import \\\n",
    "  --input-path converted_table.biom \\\n",
    "  --type 'FeatureTable[Frequency]' \\\n",
    "  --input-format BIOMV210Format \\\n",
    "  --output-path 550_feces.qza"
   ]
  },
  {
   "cell_type": "code",
   "execution_count": 17,
   "metadata": {},
   "outputs": [
    {
     "name": "stdout",
     "output_type": "stream",
     "text": [
      "\u001b[32mSaved Visualization to: summary.qzv\u001b[0m\r\n"
     ]
    }
   ],
   "source": [
    "#summarize\n",
    "!qiime feature-table summarize \\\n",
    "  --i-table 550_feces.qza \\\n",
    "  --o-visualization summary.qzv \\\n",
    "  --m-sample-metadata-file feces_metadata.tsv"
   ]
  },
  {
   "cell_type": "code",
   "execution_count": 18,
   "metadata": {},
   "outputs": [
    {
     "name": "stdout",
     "output_type": "stream",
     "text": [
      "\u001b[32mSaved FeatureData[Sequence] to: feces_res_seqs.qza\u001b[0m\r\n"
     ]
    }
   ],
   "source": [
    "#filter rep sequences\n",
    "!qiime feature-table filter-seqs \\\n",
    "--i-data rep_seqs.qza \\\n",
    "--i-table 550_feces.qza \\\n",
    "--o-filtered-data feces_res_seqs.qza"
   ]
  },
  {
   "cell_type": "code",
   "execution_count": 19,
   "metadata": {},
   "outputs": [],
   "source": [
    "%mkdir phylogeny"
   ]
  },
  {
   "cell_type": "code",
   "execution_count": 21,
   "metadata": {},
   "outputs": [
    {
     "name": "stdout",
     "output_type": "stream",
     "text": [
      "\u001b[32mSaved FeatureData[AlignedSequence] to: phylogeny/aligned-rep-seqs.qza\u001b[0m\n",
      "\u001b[32mSaved FeatureData[AlignedSequence] to: phylogeny/masked-aligned-rep-seqs.qza\u001b[0m\n",
      "\u001b[32mSaved Phylogeny[Unrooted] to: phylogeny/unrooted-tree.qza\u001b[0m\n",
      "\u001b[32mSaved Phylogeny[Rooted] to: phylogeny/rooted-tree.qza\u001b[0m\n"
     ]
    }
   ],
   "source": [
    "#phylogeny\n",
    "!qiime phylogeny align-to-tree-mafft-fasttree \\\n",
    "--i-sequences feces_rep_seqs.qza \\\n",
    "--o-alignment phylogeny/aligned-rep-seqs.qza \\\n",
    "--o-masked-alignment phylogeny/masked-aligned-rep-seqs.qza \\\n",
    "--o-tree phylogeny/unrooted-tree.qza \\\n",
    "--o-rooted-tree phylogeny/rooted-tree.qza"
   ]
  },
  {
   "cell_type": "code",
   "execution_count": 38,
   "metadata": {},
   "outputs": [
    {
     "name": "stdout",
     "output_type": "stream",
     "text": [
      "\u001b[32mSaved Visualization to: alpha_rarefaction_curves.qzv\u001b[0m\r\n"
     ]
    }
   ],
   "source": [
    "#rarefaction curves\n",
    "!qiime diversity alpha-rarefaction \\\n",
    "  --i-table 550_feces.qza \\\n",
    "  --m-metadata-file feces_metadata.tsv \\\n",
    "  --o-visualization alpha_rarefaction_curves.qzv \\\n",
    "  --p-min-depth 10711 \\\n",
    "  --p-max-depth 41122"
   ]
  },
  {
   "cell_type": "code",
   "execution_count": 40,
   "metadata": {},
   "outputs": [
    {
     "name": "stdout",
     "output_type": "stream",
     "text": [
      "\u001b[32mSaved FeatureTable[Frequency] to: core-metrics-results/rarefied_table.qza\u001b[0m\n",
      "\u001b[32mSaved SampleData[AlphaDiversity] to: core-metrics-results/faith_pd_vector.qza\u001b[0m\n",
      "\u001b[32mSaved SampleData[AlphaDiversity] to: core-metrics-results/observed_features_vector.qza\u001b[0m\n",
      "\u001b[32mSaved SampleData[AlphaDiversity] to: core-metrics-results/shannon_vector.qza\u001b[0m\n",
      "\u001b[32mSaved SampleData[AlphaDiversity] to: core-metrics-results/evenness_vector.qza\u001b[0m\n",
      "\u001b[32mSaved DistanceMatrix to: core-metrics-results/unweighted_unifrac_distance_matrix.qza\u001b[0m\n",
      "\u001b[32mSaved DistanceMatrix to: core-metrics-results/weighted_unifrac_distance_matrix.qza\u001b[0m\n",
      "\u001b[32mSaved DistanceMatrix to: core-metrics-results/jaccard_distance_matrix.qza\u001b[0m\n",
      "\u001b[32mSaved DistanceMatrix to: core-metrics-results/bray_curtis_distance_matrix.qza\u001b[0m\n",
      "\u001b[32mSaved PCoAResults to: core-metrics-results/unweighted_unifrac_pcoa_results.qza\u001b[0m\n",
      "\u001b[32mSaved PCoAResults to: core-metrics-results/weighted_unifrac_pcoa_results.qza\u001b[0m\n",
      "\u001b[32mSaved PCoAResults to: core-metrics-results/jaccard_pcoa_results.qza\u001b[0m\n",
      "\u001b[32mSaved PCoAResults to: core-metrics-results/bray_curtis_pcoa_results.qza\u001b[0m\n",
      "\u001b[32mSaved Visualization to: core-metrics-results/unweighted_unifrac_emperor.qzv\u001b[0m\n",
      "\u001b[32mSaved Visualization to: core-metrics-results/weighted_unifrac_emperor.qzv\u001b[0m\n",
      "\u001b[32mSaved Visualization to: core-metrics-results/jaccard_emperor.qzv\u001b[0m\n",
      "\u001b[32mSaved Visualization to: core-metrics-results/bray_curtis_emperor.qzv\u001b[0m\n"
     ]
    }
   ],
   "source": [
    "#alpha diversity\n",
    "!qiime diversity core-metrics-phylogenetic \\\n",
    "  --i-phylogeny phylogeny/rooted-tree.qza \\\n",
    "  --i-table 550_feces.qza  \\\n",
    "  --p-sampling-depth 16000 \\\n",
    "  --m-metadata-file feces_metadata.tsv \\\n",
    "  --output-dir core-metrics-results"
   ]
  },
  {
   "cell_type": "code",
   "execution_count": 48,
   "metadata": {},
   "outputs": [],
   "source": [
    "%mkdir plots"
   ]
  },
  {
   "cell_type": "code",
   "execution_count": 49,
   "metadata": {},
   "outputs": [
    {
     "name": "stdout",
     "output_type": "stream",
     "text": [
      "\u001b[32mSaved Visualization to: plots/faith-pd-group-significance.qzv\u001b[0m\r\n"
     ]
    }
   ],
   "source": [
    "#alpha group significance between two subjects: faiths\n",
    "!qiime diversity alpha-group-significance \\\n",
    "  --i-alpha-diversity core-metrics-results/faith_pd_vector.qza \\\n",
    "  --m-metadata-file feces_metadata.tsv \\\n",
    "  --o-visualization plots/faith-pd-group-significance.qzv"
   ]
  },
  {
   "cell_type": "code",
   "execution_count": 50,
   "metadata": {},
   "outputs": [
    {
     "name": "stdout",
     "output_type": "stream",
     "text": [
      "\u001b[32mSaved Visualization to: plots/shannon-group-significance.qzv\u001b[0m\r\n"
     ]
    }
   ],
   "source": [
    "!qiime diversity alpha-group-significance \\\n",
    "  --i-alpha-diversity core-metrics-results/shannon_vector.qza \\\n",
    "  --m-metadata-file feces_metadata.tsv \\\n",
    "  --o-visualization plots/shannon-group-significance.qzv"
   ]
  },
  {
   "cell_type": "markdown",
   "metadata": {},
   "source": [
    "## alpha for separate subjects"
   ]
  },
  {
   "cell_type": "code",
   "execution_count": 79,
   "metadata": {},
   "outputs": [],
   "source": [
    "metadata[metadata['sex'] == 'female']['sample_name'].to_csv('female_to_keep.tsv', sep = '\\t', index = False)\n",
    "metadata[metadata['sex'] == 'male']['sample_name'].to_csv('male_to_keep.tsv', sep = '\\t', index = False)"
   ]
  },
  {
   "cell_type": "code",
   "execution_count": 81,
   "metadata": {},
   "outputs": [
    {
     "name": "stdout",
     "output_type": "stream",
     "text": [
      "\u001b[32mSaved FeatureTable[Frequency] to: female_filtered.qza\u001b[0m\r\n"
     ]
    }
   ],
   "source": [
    "!qiime feature-table filter-samples \\\n",
    "  --i-table 550_feces.qza \\\n",
    "  --m-metadata-file female_to_keep.tsv \\\n",
    "  --o-filtered-table female_filtered.qza"
   ]
  },
  {
   "cell_type": "code",
   "execution_count": 82,
   "metadata": {},
   "outputs": [
    {
     "name": "stdout",
     "output_type": "stream",
     "text": [
      "\u001b[32mSaved FeatureTable[Frequency] to: male_filtered.qza\u001b[0m\r\n"
     ]
    }
   ],
   "source": [
    "!qiime feature-table filter-samples \\\n",
    "  --i-table 550_feces.qza \\\n",
    "  --m-metadata-file male_to_keep.tsv \\\n",
    "  --o-filtered-table male_filtered.qza"
   ]
  },
  {
   "cell_type": "markdown",
   "metadata": {},
   "source": [
    "### this cell will create rarefied table rarefied_table.qza for male subject"
   ]
  },
  {
   "cell_type": "code",
   "execution_count": 86,
   "metadata": {},
   "outputs": [
    {
     "name": "stdout",
     "output_type": "stream",
     "text": [
      "\u001b[32mSaved FeatureTable[Frequency] to: male_metrics/core-metrics-results/rarefied_table.qza\u001b[0m\n",
      "\u001b[32mSaved SampleData[AlphaDiversity] to: male_metrics/core-metrics-results/faith_pd_vector.qza\u001b[0m\n",
      "\u001b[32mSaved SampleData[AlphaDiversity] to: male_metrics/core-metrics-results/observed_features_vector.qza\u001b[0m\n",
      "\u001b[32mSaved SampleData[AlphaDiversity] to: male_metrics/core-metrics-results/shannon_vector.qza\u001b[0m\n",
      "\u001b[32mSaved SampleData[AlphaDiversity] to: male_metrics/core-metrics-results/evenness_vector.qza\u001b[0m\n",
      "\u001b[32mSaved DistanceMatrix to: male_metrics/core-metrics-results/unweighted_unifrac_distance_matrix.qza\u001b[0m\n",
      "\u001b[32mSaved DistanceMatrix to: male_metrics/core-metrics-results/weighted_unifrac_distance_matrix.qza\u001b[0m\n",
      "\u001b[32mSaved DistanceMatrix to: male_metrics/core-metrics-results/jaccard_distance_matrix.qza\u001b[0m\n",
      "\u001b[32mSaved DistanceMatrix to: male_metrics/core-metrics-results/bray_curtis_distance_matrix.qza\u001b[0m\n",
      "\u001b[32mSaved PCoAResults to: male_metrics/core-metrics-results/unweighted_unifrac_pcoa_results.qza\u001b[0m\n",
      "\u001b[32mSaved PCoAResults to: male_metrics/core-metrics-results/weighted_unifrac_pcoa_results.qza\u001b[0m\n",
      "\u001b[32mSaved PCoAResults to: male_metrics/core-metrics-results/jaccard_pcoa_results.qza\u001b[0m\n",
      "\u001b[32mSaved PCoAResults to: male_metrics/core-metrics-results/bray_curtis_pcoa_results.qza\u001b[0m\n",
      "\u001b[32mSaved Visualization to: male_metrics/core-metrics-results/unweighted_unifrac_emperor.qzv\u001b[0m\n",
      "\u001b[32mSaved Visualization to: male_metrics/core-metrics-results/weighted_unifrac_emperor.qzv\u001b[0m\n",
      "\u001b[32mSaved Visualization to: male_metrics/core-metrics-results/jaccard_emperor.qzv\u001b[0m\n",
      "\u001b[32mSaved Visualization to: male_metrics/core-metrics-results/bray_curtis_emperor.qzv\u001b[0m\n"
     ]
    }
   ],
   "source": [
    "#core metrics - male\n",
    "!qiime diversity core-metrics-phylogenetic \\\n",
    "  --i-phylogeny phylogeny/rooted-tree.qza \\\n",
    "  --i-table male_metrics/male_filtered.qza  \\\n",
    "  --p-sampling-depth 16000 \\\n",
    "  --m-metadata-file feces_metadata.tsv \\\n",
    "  --output-dir male_metrics/core-metrics-results"
   ]
  },
  {
   "cell_type": "markdown",
   "metadata": {},
   "source": [
    "### this cell will create rarefied table rarefied_table.qza for female subject"
   ]
  },
  {
   "cell_type": "code",
   "execution_count": 87,
   "metadata": {},
   "outputs": [
    {
     "name": "stdout",
     "output_type": "stream",
     "text": [
      "\u001b[32mSaved FeatureTable[Frequency] to: female_metrics/core-metrics-results/rarefied_table.qza\u001b[0m\n",
      "\u001b[32mSaved SampleData[AlphaDiversity] to: female_metrics/core-metrics-results/faith_pd_vector.qza\u001b[0m\n",
      "\u001b[32mSaved SampleData[AlphaDiversity] to: female_metrics/core-metrics-results/observed_features_vector.qza\u001b[0m\n",
      "\u001b[32mSaved SampleData[AlphaDiversity] to: female_metrics/core-metrics-results/shannon_vector.qza\u001b[0m\n",
      "\u001b[32mSaved SampleData[AlphaDiversity] to: female_metrics/core-metrics-results/evenness_vector.qza\u001b[0m\n",
      "\u001b[32mSaved DistanceMatrix to: female_metrics/core-metrics-results/unweighted_unifrac_distance_matrix.qza\u001b[0m\n",
      "\u001b[32mSaved DistanceMatrix to: female_metrics/core-metrics-results/weighted_unifrac_distance_matrix.qza\u001b[0m\n",
      "\u001b[32mSaved DistanceMatrix to: female_metrics/core-metrics-results/jaccard_distance_matrix.qza\u001b[0m\n",
      "\u001b[32mSaved DistanceMatrix to: female_metrics/core-metrics-results/bray_curtis_distance_matrix.qza\u001b[0m\n",
      "\u001b[32mSaved PCoAResults to: female_metrics/core-metrics-results/unweighted_unifrac_pcoa_results.qza\u001b[0m\n",
      "\u001b[32mSaved PCoAResults to: female_metrics/core-metrics-results/weighted_unifrac_pcoa_results.qza\u001b[0m\n",
      "\u001b[32mSaved PCoAResults to: female_metrics/core-metrics-results/jaccard_pcoa_results.qza\u001b[0m\n",
      "\u001b[32mSaved PCoAResults to: female_metrics/core-metrics-results/bray_curtis_pcoa_results.qza\u001b[0m\n",
      "\u001b[32mSaved Visualization to: female_metrics/core-metrics-results/unweighted_unifrac_emperor.qzv\u001b[0m\n",
      "\u001b[32mSaved Visualization to: female_metrics/core-metrics-results/weighted_unifrac_emperor.qzv\u001b[0m\n",
      "\u001b[32mSaved Visualization to: female_metrics/core-metrics-results/jaccard_emperor.qzv\u001b[0m\n",
      "\u001b[32mSaved Visualization to: female_metrics/core-metrics-results/bray_curtis_emperor.qzv\u001b[0m\n"
     ]
    }
   ],
   "source": [
    "#core metrics - female\n",
    "!qiime diversity core-metrics-phylogenetic \\\n",
    "  --i-phylogeny phylogeny/rooted-tree.qza \\\n",
    "  --i-table female_metrics/female_filtered.qza  \\\n",
    "  --p-sampling-depth 16000 \\\n",
    "  --m-metadata-file feces_metadata.tsv \\\n",
    "  --output-dir female_metrics/core-metrics-results"
   ]
  },
  {
   "cell_type": "code",
   "execution_count": 88,
   "metadata": {},
   "outputs": [
    {
     "name": "stdout",
     "output_type": "stream",
     "text": [
      "\u001b[32mSaved Visualization to: male_metrics/shannon_cor.qzv\u001b[0m\r\n"
     ]
    }
   ],
   "source": [
    "!qiime diversity alpha-correlation \\\n",
    "--i-alpha-diversity male_metrics/core-metrics-results/shannon_vector.qza \\\n",
    "--m-metadata-file feces_metadata.tsv \\\n",
    "--o-visualization male_metrics/shannon_cor.qzv\n",
    "\n",
    "!qiime diversity alpha-correlation \\\n",
    "--i-alpha-diversity female_metrics/core-metrics-results/shannon_vector.qza \\\n",
    "--m-metadata-file feces_metadata.tsv \\\n",
    "--o-visualization female_metrics/shannon_cor.qzv"
   ]
  },
  {
   "cell_type": "code",
   "execution_count": null,
   "metadata": {},
   "outputs": [],
   "source": [
    "qiime diversity alpha-correlation \\\n",
    "--i-alpha-diversity core-metrics-results/observed_features_vector.qza \\\n",
    "--m-metadata-file 550_metadata.txt \\\n",
    "--o-visualization correlation_analysis/observed_features_corr.qzv"
   ]
  },
  {
   "cell_type": "code",
   "execution_count": 89,
   "metadata": {},
   "outputs": [
    {
     "name": "stdout",
     "output_type": "stream",
     "text": [
      "\u001b[32mSaved Visualization to: male_metrics/faith_cor.qzv\u001b[0m\r\n"
     ]
    }
   ],
   "source": [
    "!qiime diversity alpha-correlation \\\n",
    "--i-alpha-diversity male_metrics/core-metrics-results/faith_pd_vector.qza \\\n",
    "--m-metadata-file feces_metadata.tsv \\\n",
    "--o-visualization male_metrics/faith_cor.qzv\n",
    "\n",
    "\n",
    "!qiime diversity alpha-correlation \\\n",
    "--i-alpha-diversity female_metrics/core-metrics-results/faith_pd_vector.qza \\\n",
    "--m-metadata-file feces_metadata.tsv \\\n",
    "--o-visualization female_metrics/faith_cor.qzv"
   ]
  }
 ],
 "metadata": {
  "kernelspec": {
   "display_name": "Python 3",
   "language": "python",
   "name": "python3"
  },
  "language_info": {
   "codemirror_mode": {
    "name": "ipython",
    "version": 3
   },
   "file_extension": ".py",
   "mimetype": "text/x-python",
   "name": "python",
   "nbconvert_exporter": "python",
   "pygments_lexer": "ipython3",
   "version": "3.8.8"
  }
 },
 "nbformat": 4,
 "nbformat_minor": 4
}
