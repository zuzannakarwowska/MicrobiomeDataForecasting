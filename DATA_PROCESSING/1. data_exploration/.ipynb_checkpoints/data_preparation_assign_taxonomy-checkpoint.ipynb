{
 "cells": [
  {
   "cell_type": "code",
   "execution_count": 1,
   "id": "6b0003c1-2340-4f59-9c1b-d6b0d7cad54b",
   "metadata": {},
   "outputs": [],
   "source": [
    "import pandas as pd\n",
    "\n",
    "import qiime2\n",
    "from qiime2 import Artifact, Metadata\n",
    "from qiime2.plugins.feature_classifier.methods import classify_sklearn\n"
   ]
  },
  {
   "cell_type": "code",
   "execution_count": 19,
   "id": "5b9594fc-8892-4ea2-94a9-625d242de3b1",
   "metadata": {},
   "outputs": [
    {
     "name": "stdout",
     "output_type": "stream",
     "text": [
      "zsh:1: command not found: qiime\n"
     ]
    }
   ],
   "source": [
    "!qiime info"
   ]
  },
  {
   "cell_type": "code",
   "execution_count": 13,
   "id": "cb1be768-9fc7-4c25-9878-4a34b30b076b",
   "metadata": {},
   "outputs": [
    {
     "name": "stdout",
     "output_type": "stream",
     "text": [
      "/Users/zkarwowska\n"
     ]
    }
   ],
   "source": [
    "%cd"
   ]
  },
  {
   "cell_type": "markdown",
   "id": "5281cb48-6e83-4ca3-b1d6-bf833fb686c2",
   "metadata": {},
   "source": [
    "### 1. assign taxonomy to representative sequences"
   ]
  },
  {
   "cell_type": "code",
   "execution_count": null,
   "id": "ee501176-741e-4e2c-8937-769c4c5c35a4",
   "metadata": {},
   "outputs": [],
   "source": [
    "# CONVERT TSV FILE INTO BIOM\n",
    "file = 'Desktop/SONATA_VAR_MODEL/VAR_MODELS/DATA/raw_data/550_data/raw_data_from_qiita/550_reference.tsv'\n",
    "\n",
    "!biom convert -i $file -o male_feature_table.biom --table-type=\"OTU table\" --to-hdf5"
   ]
  },
  {
   "cell_type": "code",
   "execution_count": 14,
   "id": "c2acd902-84b8-40ed-a448-d4fb67af2e43",
   "metadata": {},
   "outputs": [],
   "source": [
    "# IMPORT FEATURE TABLE\n",
    "feature_table = Artifact.import_data(\"FeatureTable[Frequency]\", 'Desktop/microbiome_predicion/1.data_preparation/male_feature_table.biom')\n",
    "\n",
    "# IMPORT REPRESENTATIVE SEQUENCES\n",
    "rep_sequenes = Artifact.import_data('FeatureData[Sequence]', 'Desktop/microbiome_predicion/1.data_preparation/sequences.fa')\n",
    "\n",
    "# CLASSIFIER\n",
    "classifier = Artifact.load('Desktop/SONATA_VAR_MODEL/VAR_MODELS/DATA/sequence_data/gg-13-8-99-515-806-nb-classifier.qza')"
   ]
  },
  {
   "cell_type": "code",
   "execution_count": 15,
   "id": "71db25eb-57fa-4943-ab72-8824ba0b8ac1",
   "metadata": {},
   "outputs": [
    {
     "ename": "ValueError",
     "evalue": "The scikit-learn version (0.24.1) used to generate this artifact does not match the current version of scikit-learn installed (0.23.1). Please retrain your classifier for your current deployment to prevent data-corruption errors.",
     "output_type": "error",
     "traceback": [
      "\u001b[0;31m---------------------------------------------------------------------------\u001b[0m",
      "\u001b[0;31mValueError\u001b[0m                                Traceback (most recent call last)",
      "\u001b[0;32m<ipython-input-15-7bd218821039>\u001b[0m in \u001b[0;36m<module>\u001b[0;34m\u001b[0m\n\u001b[0;32m----> 1\u001b[0;31m \u001b[0mclassification\u001b[0m \u001b[0;34m=\u001b[0m \u001b[0mclassify_sklearn\u001b[0m\u001b[0;34m(\u001b[0m\u001b[0mrep_sequenes\u001b[0m\u001b[0;34m,\u001b[0m \u001b[0mclassifier\u001b[0m\u001b[0;34m)\u001b[0m\u001b[0;34m\u001b[0m\u001b[0;34m\u001b[0m\u001b[0m\n\u001b[0m",
      "\u001b[0;32m<decorator-gen-363>\u001b[0m in \u001b[0;36mclassify_sklearn\u001b[0;34m(reads, classifier, reads_per_batch, n_jobs, pre_dispatch, confidence, read_orientation)\u001b[0m\n",
      "\u001b[0;32m~/anaconda3/envs/qiime2/lib/python3.6/site-packages/qiime2/sdk/action.py\u001b[0m in \u001b[0;36mbound_callable\u001b[0;34m(*args, **kwargs)\u001b[0m\n\u001b[1;32m    232\u001b[0m                         \u001b[0;32melse\u001b[0m\u001b[0;34m:\u001b[0m\u001b[0;34m\u001b[0m\u001b[0;34m\u001b[0m\u001b[0m\n\u001b[1;32m    233\u001b[0m                             callable_args[name] = artifact._view(\n\u001b[0;32m--> 234\u001b[0;31m                                 spec.view_type, recorder)\n\u001b[0m\u001b[1;32m    235\u001b[0m                     \u001b[0;32melse\u001b[0m\u001b[0;34m:\u001b[0m\u001b[0;34m\u001b[0m\u001b[0;34m\u001b[0m\u001b[0m\n\u001b[1;32m    236\u001b[0m                         \u001b[0mcallable_args\u001b[0m\u001b[0;34m[\u001b[0m\u001b[0mname\u001b[0m\u001b[0;34m]\u001b[0m \u001b[0;34m=\u001b[0m \u001b[0martifact\u001b[0m\u001b[0;34m\u001b[0m\u001b[0;34m\u001b[0m\u001b[0m\n",
      "\u001b[0;32m~/anaconda3/envs/qiime2/lib/python3.6/site-packages/qiime2/sdk/result.py\u001b[0m in \u001b[0;36m_view\u001b[0;34m(self, view_type, recorder)\u001b[0m\n\u001b[1;32m    287\u001b[0m         transformation = from_type.make_transformation(to_type,\n\u001b[1;32m    288\u001b[0m                                                        recorder=recorder)\n\u001b[0;32m--> 289\u001b[0;31m         \u001b[0mresult\u001b[0m \u001b[0;34m=\u001b[0m \u001b[0mtransformation\u001b[0m\u001b[0;34m(\u001b[0m\u001b[0mself\u001b[0m\u001b[0;34m.\u001b[0m\u001b[0m_archiver\u001b[0m\u001b[0;34m.\u001b[0m\u001b[0mdata_dir\u001b[0m\u001b[0;34m)\u001b[0m\u001b[0;34m\u001b[0m\u001b[0;34m\u001b[0m\u001b[0m\n\u001b[0m\u001b[1;32m    290\u001b[0m \u001b[0;34m\u001b[0m\u001b[0m\n\u001b[1;32m    291\u001b[0m         \u001b[0;32mif\u001b[0m \u001b[0mview_type\u001b[0m \u001b[0;32mis\u001b[0m \u001b[0mqiime2\u001b[0m\u001b[0;34m.\u001b[0m\u001b[0mMetadata\u001b[0m\u001b[0;34m:\u001b[0m\u001b[0;34m\u001b[0m\u001b[0;34m\u001b[0m\u001b[0m\n",
      "\u001b[0;32m~/anaconda3/envs/qiime2/lib/python3.6/site-packages/qiime2/core/transform.py\u001b[0m in \u001b[0;36mtransformation\u001b[0;34m(view, validate_level)\u001b[0m\n\u001b[1;32m     68\u001b[0m             \u001b[0mself\u001b[0m\u001b[0;34m.\u001b[0m\u001b[0mvalidate\u001b[0m\u001b[0;34m(\u001b[0m\u001b[0mview\u001b[0m\u001b[0;34m,\u001b[0m \u001b[0mvalidate_level\u001b[0m\u001b[0;34m)\u001b[0m\u001b[0;34m\u001b[0m\u001b[0;34m\u001b[0m\u001b[0m\n\u001b[1;32m     69\u001b[0m \u001b[0;34m\u001b[0m\u001b[0m\n\u001b[0;32m---> 70\u001b[0;31m             \u001b[0mnew_view\u001b[0m \u001b[0;34m=\u001b[0m \u001b[0mtransformer\u001b[0m\u001b[0;34m(\u001b[0m\u001b[0mview\u001b[0m\u001b[0;34m)\u001b[0m\u001b[0;34m\u001b[0m\u001b[0;34m\u001b[0m\u001b[0m\n\u001b[0m\u001b[1;32m     71\u001b[0m \u001b[0;34m\u001b[0m\u001b[0m\n\u001b[1;32m     72\u001b[0m             \u001b[0mnew_view\u001b[0m \u001b[0;34m=\u001b[0m \u001b[0mother\u001b[0m\u001b[0;34m.\u001b[0m\u001b[0mcoerce_view\u001b[0m\u001b[0;34m(\u001b[0m\u001b[0mnew_view\u001b[0m\u001b[0;34m)\u001b[0m\u001b[0;34m\u001b[0m\u001b[0;34m\u001b[0m\u001b[0m\n",
      "\u001b[0;32m~/anaconda3/envs/qiime2/lib/python3.6/site-packages/q2_feature_classifier/_taxonomic_classifier.py\u001b[0m in \u001b[0;36m_1\u001b[0;34m(dirfmt)\u001b[0m\n\u001b[1;32m     62\u001b[0m                          \u001b[0;34m' classifier for your current deployment to prevent'\u001b[0m\u001b[0;34m\u001b[0m\u001b[0;34m\u001b[0m\u001b[0m\n\u001b[1;32m     63\u001b[0m                          \u001b[0;34m' data-corruption errors.'\u001b[0m\u001b[0;34m\u001b[0m\u001b[0;34m\u001b[0m\u001b[0m\n\u001b[0;32m---> 64\u001b[0;31m                          % (sklearn_version, sklearn.__version__))\n\u001b[0m\u001b[1;32m     65\u001b[0m \u001b[0;34m\u001b[0m\u001b[0m\n\u001b[1;32m     66\u001b[0m     \u001b[0msklearn_pipeline\u001b[0m \u001b[0;34m=\u001b[0m \u001b[0mdirfmt\u001b[0m\u001b[0;34m.\u001b[0m\u001b[0msklearn_pipeline\u001b[0m\u001b[0;34m.\u001b[0m\u001b[0mview\u001b[0m\u001b[0;34m(\u001b[0m\u001b[0mPickleFormat\u001b[0m\u001b[0;34m)\u001b[0m\u001b[0;34m\u001b[0m\u001b[0;34m\u001b[0m\u001b[0m\n",
      "\u001b[0;31mValueError\u001b[0m: The scikit-learn version (0.24.1) used to generate this artifact does not match the current version of scikit-learn installed (0.23.1). Please retrain your classifier for your current deployment to prevent data-corruption errors."
     ]
    }
   ],
   "source": [
    "classification = classify_sklearn(rep_sequenes, classifier)"
   ]
  },
  {
   "cell_type": "code",
   "execution_count": 9,
   "id": "015d8e47-3190-4ab1-816c-6e7373cc011e",
   "metadata": {},
   "outputs": [],
   "source": [
    "#read feature table and metadata\n",
    "feature_table = pd.read_csv('Desktop/SONATA_VAR_MODEL/VAR_MODELS/DATA/raw_data/550_data/raw_data_from_qiita/550_reference.tsv',\n",
    "                            sep = '\\t', \n",
    "                            skiprows = [0],\n",
    "                            index_col=[0]\n",
    "                           )\n",
    "\n",
    "taxonomy_df = pd.read_csv('Desktop/SONATA_VAR_MODEL/VAR_MODELS/DATA/taxonomy/taxonomy/taxonomy.tsv',\n",
    "                      sep = '\\t')"
   ]
  },
  {
   "cell_type": "code",
   "execution_count": 8,
   "id": "d9497d2c-5599-46ce-803c-9a11226192c3",
   "metadata": {},
   "outputs": [
    {
     "data": {
      "text/html": [
       "<div>\n",
       "<style scoped>\n",
       "    .dataframe tbody tr th:only-of-type {\n",
       "        vertical-align: middle;\n",
       "    }\n",
       "\n",
       "    .dataframe tbody tr th {\n",
       "        vertical-align: top;\n",
       "    }\n",
       "\n",
       "    .dataframe thead th {\n",
       "        text-align: right;\n",
       "    }\n",
       "</style>\n",
       "<table border=\"1\" class=\"dataframe\">\n",
       "  <thead>\n",
       "    <tr style=\"text-align: right;\">\n",
       "      <th></th>\n",
       "      <th>Feature ID</th>\n",
       "      <th>Taxon</th>\n",
       "      <th>Confidence</th>\n",
       "    </tr>\n",
       "  </thead>\n",
       "  <tbody>\n",
       "    <tr>\n",
       "      <th>0</th>\n",
       "      <td>TACGGAGGGTGCGAGCGTTAATCGGAATAACTGGGCGTAAAGGGCA...</td>\n",
       "      <td>k__Bacteria; p__Proteobacteria; c__Gammaproteo...</td>\n",
       "      <td>0.836383</td>\n",
       "    </tr>\n",
       "    <tr>\n",
       "      <th>1</th>\n",
       "      <td>TACGTAGGGTGCGAGCGTTAATCGGAATTACTGGGCGTAAAGCGAG...</td>\n",
       "      <td>k__Bacteria; p__Proteobacteria; c__Betaproteob...</td>\n",
       "      <td>0.866742</td>\n",
       "    </tr>\n",
       "    <tr>\n",
       "      <th>2</th>\n",
       "      <td>TACGTAGGTCCCGAGCGTTGTCCGGATTTATTGGGCGTAAAGCGAG...</td>\n",
       "      <td>k__Bacteria; p__Firmicutes; c__Bacilli; o__Lac...</td>\n",
       "      <td>0.730398</td>\n",
       "    </tr>\n",
       "    <tr>\n",
       "      <th>3</th>\n",
       "      <td>TACGTAGGTGGCAAGCGTTGTCCGGAATTATTGGGCGTAAAGCGCG...</td>\n",
       "      <td>k__Bacteria; p__Firmicutes; c__Clostridia; o__...</td>\n",
       "      <td>0.999983</td>\n",
       "    </tr>\n",
       "    <tr>\n",
       "      <th>4</th>\n",
       "      <td>TACGTAGGTGGCAAGCGTTGTCCGGAATTATTGGGCGTAAAGCGCG...</td>\n",
       "      <td>k__Bacteria; p__Firmicutes; c__Clostridia; o__...</td>\n",
       "      <td>0.791478</td>\n",
       "    </tr>\n",
       "    <tr>\n",
       "      <th>...</th>\n",
       "      <td>...</td>\n",
       "      <td>...</td>\n",
       "      <td>...</td>\n",
       "    </tr>\n",
       "    <tr>\n",
       "      <th>976</th>\n",
       "      <td>TACGTAGGGAGCGAGCGTTATCCGGATTTATTGGGTGTAAAGGGTG...</td>\n",
       "      <td>k__Bacteria; p__Firmicutes; c__Clostridia; o__...</td>\n",
       "      <td>0.944349</td>\n",
       "    </tr>\n",
       "    <tr>\n",
       "      <th>977</th>\n",
       "      <td>TACGTAGGGGGCGAGCGTTGTCCGGAATTACTGGGCGTAAAGGGCG...</td>\n",
       "      <td>k__Bacteria; p__Firmicutes; c__Clostridia; o__...</td>\n",
       "      <td>0.978674</td>\n",
       "    </tr>\n",
       "    <tr>\n",
       "      <th>978</th>\n",
       "      <td>TACAGAGGTCTCAAGCGTTGTTCGGAATCACTGGGCGTAAAGCGTG...</td>\n",
       "      <td>k__Bacteria; p__Verrucomicrobia; c__Verrucomic...</td>\n",
       "      <td>0.999999</td>\n",
       "    </tr>\n",
       "    <tr>\n",
       "      <th>979</th>\n",
       "      <td>TACGTATGGTGCAAGCGTTATCCGGATTTACTGGGTGTAAAGGGAG...</td>\n",
       "      <td>k__Bacteria; p__Firmicutes; c__Clostridia; o__...</td>\n",
       "      <td>0.800903</td>\n",
       "    </tr>\n",
       "    <tr>\n",
       "      <th>980</th>\n",
       "      <td>TACGTAGGTGACAAGCGTTGTCCGGATTTACTGGGTGTAAAGGGCG...</td>\n",
       "      <td>k__Bacteria; p__Firmicutes; c__Clostridia; o__...</td>\n",
       "      <td>0.896827</td>\n",
       "    </tr>\n",
       "  </tbody>\n",
       "</table>\n",
       "<p>981 rows × 3 columns</p>\n",
       "</div>"
      ],
      "text/plain": [
       "                                            Feature ID  \\\n",
       "0    TACGGAGGGTGCGAGCGTTAATCGGAATAACTGGGCGTAAAGGGCA...   \n",
       "1    TACGTAGGGTGCGAGCGTTAATCGGAATTACTGGGCGTAAAGCGAG...   \n",
       "2    TACGTAGGTCCCGAGCGTTGTCCGGATTTATTGGGCGTAAAGCGAG...   \n",
       "3    TACGTAGGTGGCAAGCGTTGTCCGGAATTATTGGGCGTAAAGCGCG...   \n",
       "4    TACGTAGGTGGCAAGCGTTGTCCGGAATTATTGGGCGTAAAGCGCG...   \n",
       "..                                                 ...   \n",
       "976  TACGTAGGGAGCGAGCGTTATCCGGATTTATTGGGTGTAAAGGGTG...   \n",
       "977  TACGTAGGGGGCGAGCGTTGTCCGGAATTACTGGGCGTAAAGGGCG...   \n",
       "978  TACAGAGGTCTCAAGCGTTGTTCGGAATCACTGGGCGTAAAGCGTG...   \n",
       "979  TACGTATGGTGCAAGCGTTATCCGGATTTACTGGGTGTAAAGGGAG...   \n",
       "980  TACGTAGGTGACAAGCGTTGTCCGGATTTACTGGGTGTAAAGGGCG...   \n",
       "\n",
       "                                                 Taxon  Confidence  \n",
       "0    k__Bacteria; p__Proteobacteria; c__Gammaproteo...    0.836383  \n",
       "1    k__Bacteria; p__Proteobacteria; c__Betaproteob...    0.866742  \n",
       "2    k__Bacteria; p__Firmicutes; c__Bacilli; o__Lac...    0.730398  \n",
       "3    k__Bacteria; p__Firmicutes; c__Clostridia; o__...    0.999983  \n",
       "4    k__Bacteria; p__Firmicutes; c__Clostridia; o__...    0.791478  \n",
       "..                                                 ...         ...  \n",
       "976  k__Bacteria; p__Firmicutes; c__Clostridia; o__...    0.944349  \n",
       "977  k__Bacteria; p__Firmicutes; c__Clostridia; o__...    0.978674  \n",
       "978  k__Bacteria; p__Verrucomicrobia; c__Verrucomic...    0.999999  \n",
       "979  k__Bacteria; p__Firmicutes; c__Clostridia; o__...    0.800903  \n",
       "980  k__Bacteria; p__Firmicutes; c__Clostridia; o__...    0.896827  \n",
       "\n",
       "[981 rows x 3 columns]"
      ]
     },
     "execution_count": 8,
     "metadata": {},
     "output_type": "execute_result"
    }
   ],
   "source": [
    "# reate dict with {sequence : taxonomy}\n",
    "\n",
    "dictionary = dict(zip(taxonomy_df['Feature ID'].tolist(), taxonomy_df['Taxon'].tolist()))\n"
   ]
  },
  {
   "cell_type": "code",
   "execution_count": 12,
   "id": "b69a9f8b-5f20-4abe-b59c-da9cb1ec68d8",
   "metadata": {},
   "outputs": [
    {
     "data": {
      "text/html": [
       "<div>\n",
       "<style scoped>\n",
       "    .dataframe tbody tr th:only-of-type {\n",
       "        vertical-align: middle;\n",
       "    }\n",
       "\n",
       "    .dataframe tbody tr th {\n",
       "        vertical-align: top;\n",
       "    }\n",
       "\n",
       "    .dataframe thead th {\n",
       "        text-align: right;\n",
       "    }\n",
       "</style>\n",
       "<table border=\"1\" class=\"dataframe\">\n",
       "  <thead>\n",
       "    <tr style=\"text-align: right;\">\n",
       "      <th></th>\n",
       "      <th>Feature ID</th>\n",
       "      <th>Taxon</th>\n",
       "      <th>Confidence</th>\n",
       "    </tr>\n",
       "  </thead>\n",
       "  <tbody>\n",
       "    <tr>\n",
       "      <th>0</th>\n",
       "      <td>TACGGAGGGTGCGAGCGTTAATCGGAATAACTGGGCGTAAAGGGCA...</td>\n",
       "      <td>k__Bacteria; p__Proteobacteria; c__Gammaproteo...</td>\n",
       "      <td>0.836383</td>\n",
       "    </tr>\n",
       "    <tr>\n",
       "      <th>1</th>\n",
       "      <td>TACGTAGGGTGCGAGCGTTAATCGGAATTACTGGGCGTAAAGCGAG...</td>\n",
       "      <td>k__Bacteria; p__Proteobacteria; c__Betaproteob...</td>\n",
       "      <td>0.866742</td>\n",
       "    </tr>\n",
       "    <tr>\n",
       "      <th>2</th>\n",
       "      <td>TACGTAGGTCCCGAGCGTTGTCCGGATTTATTGGGCGTAAAGCGAG...</td>\n",
       "      <td>k__Bacteria; p__Firmicutes; c__Bacilli; o__Lac...</td>\n",
       "      <td>0.730398</td>\n",
       "    </tr>\n",
       "    <tr>\n",
       "      <th>3</th>\n",
       "      <td>TACGTAGGTGGCAAGCGTTGTCCGGAATTATTGGGCGTAAAGCGCG...</td>\n",
       "      <td>k__Bacteria; p__Firmicutes; c__Clostridia; o__...</td>\n",
       "      <td>0.999983</td>\n",
       "    </tr>\n",
       "    <tr>\n",
       "      <th>4</th>\n",
       "      <td>TACGTAGGTGGCAAGCGTTGTCCGGAATTATTGGGCGTAAAGCGCG...</td>\n",
       "      <td>k__Bacteria; p__Firmicutes; c__Clostridia; o__...</td>\n",
       "      <td>0.791478</td>\n",
       "    </tr>\n",
       "    <tr>\n",
       "      <th>...</th>\n",
       "      <td>...</td>\n",
       "      <td>...</td>\n",
       "      <td>...</td>\n",
       "    </tr>\n",
       "    <tr>\n",
       "      <th>745</th>\n",
       "      <td>TACGTAGGTGGCAAGCGTTGTCCGGAATTACTGGGTGTAAAGGGAG...</td>\n",
       "      <td>k__Bacteria; p__Firmicutes; c__Clostridia; o__...</td>\n",
       "      <td>0.732305</td>\n",
       "    </tr>\n",
       "    <tr>\n",
       "      <th>840</th>\n",
       "      <td>TACGTATGTCGCAAGCGTTATCCGGATTTATTGGGCGTAAAGCGCG...</td>\n",
       "      <td>k__Bacteria; p__Fusobacteria; c__Fusobacteriia...</td>\n",
       "      <td>0.915474</td>\n",
       "    </tr>\n",
       "    <tr>\n",
       "      <th>877</th>\n",
       "      <td>TACGTAGGGGGCAAGCGTTATCCGGATTTATTGGGCGTAAAGCGCG...</td>\n",
       "      <td>k__Bacteria; p__Fusobacteria; c__Fusobacteriia...</td>\n",
       "      <td>0.999491</td>\n",
       "    </tr>\n",
       "    <tr>\n",
       "      <th>886</th>\n",
       "      <td>TACGGAGGATCCGAGCGTTATCCGGATTTATTGGGTTTAAAGGGAG...</td>\n",
       "      <td>k__Bacteria; p__Bacteroidetes; c__Sphingobacte...</td>\n",
       "      <td>0.797561</td>\n",
       "    </tr>\n",
       "    <tr>\n",
       "      <th>927</th>\n",
       "      <td>TACGTAGGGGGCTAGCGTTATCCGGATTTACTGGGCGTAAAGGGTG...</td>\n",
       "      <td>k__Bacteria; p__Firmicutes; c__Clostridia; o__...</td>\n",
       "      <td>0.759046</td>\n",
       "    </tr>\n",
       "  </tbody>\n",
       "</table>\n",
       "<p>205 rows × 3 columns</p>\n",
       "</div>"
      ],
      "text/plain": [
       "                                            Feature ID  \\\n",
       "0    TACGGAGGGTGCGAGCGTTAATCGGAATAACTGGGCGTAAAGGGCA...   \n",
       "1    TACGTAGGGTGCGAGCGTTAATCGGAATTACTGGGCGTAAAGCGAG...   \n",
       "2    TACGTAGGTCCCGAGCGTTGTCCGGATTTATTGGGCGTAAAGCGAG...   \n",
       "3    TACGTAGGTGGCAAGCGTTGTCCGGAATTATTGGGCGTAAAGCGCG...   \n",
       "4    TACGTAGGTGGCAAGCGTTGTCCGGAATTATTGGGCGTAAAGCGCG...   \n",
       "..                                                 ...   \n",
       "745  TACGTAGGTGGCAAGCGTTGTCCGGAATTACTGGGTGTAAAGGGAG...   \n",
       "840  TACGTATGTCGCAAGCGTTATCCGGATTTATTGGGCGTAAAGCGCG...   \n",
       "877  TACGTAGGGGGCAAGCGTTATCCGGATTTATTGGGCGTAAAGCGCG...   \n",
       "886  TACGGAGGATCCGAGCGTTATCCGGATTTATTGGGTTTAAAGGGAG...   \n",
       "927  TACGTAGGGGGCTAGCGTTATCCGGATTTACTGGGCGTAAAGGGTG...   \n",
       "\n",
       "                                                 Taxon  Confidence  \n",
       "0    k__Bacteria; p__Proteobacteria; c__Gammaproteo...    0.836383  \n",
       "1    k__Bacteria; p__Proteobacteria; c__Betaproteob...    0.866742  \n",
       "2    k__Bacteria; p__Firmicutes; c__Bacilli; o__Lac...    0.730398  \n",
       "3    k__Bacteria; p__Firmicutes; c__Clostridia; o__...    0.999983  \n",
       "4    k__Bacteria; p__Firmicutes; c__Clostridia; o__...    0.791478  \n",
       "..                                                 ...         ...  \n",
       "745  k__Bacteria; p__Firmicutes; c__Clostridia; o__...    0.732305  \n",
       "840  k__Bacteria; p__Fusobacteria; c__Fusobacteriia...    0.915474  \n",
       "877  k__Bacteria; p__Fusobacteria; c__Fusobacteriia...    0.999491  \n",
       "886  k__Bacteria; p__Bacteroidetes; c__Sphingobacte...    0.797561  \n",
       "927  k__Bacteria; p__Firmicutes; c__Clostridia; o__...    0.759046  \n",
       "\n",
       "[205 rows x 3 columns]"
      ]
     },
     "execution_count": 12,
     "metadata": {},
     "output_type": "execute_result"
    }
   ],
   "source": [
    "taxonomy_df.drop_duplicates(subset = ['Taxon'], keep = 'first')"
   ]
  }
 ],
 "metadata": {
  "kernelspec": {
   "display_name": "qiime2_env",
   "language": "python",
   "name": "qiime2_env"
  },
  "language_info": {
   "codemirror_mode": {
    "name": "ipython",
    "version": 3
   },
   "file_extension": ".py",
   "mimetype": "text/x-python",
   "name": "python",
   "nbconvert_exporter": "python",
   "pygments_lexer": "ipython3",
   "version": "3.6.11"
  }
 },
 "nbformat": 4,
 "nbformat_minor": 5
}
