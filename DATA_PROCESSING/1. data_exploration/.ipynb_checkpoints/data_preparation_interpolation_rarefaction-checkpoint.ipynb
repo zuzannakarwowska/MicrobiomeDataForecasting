{
 "cells": [
  {
   "cell_type": "code",
   "execution_count": 2,
   "id": "e170c0fc-a01c-4fae-a3a0-a636f908e1a9",
   "metadata": {},
   "outputs": [],
   "source": [
    "import pandas as pd\n",
    "\n",
    "import qiime2\n",
    "from qiime2 import Artifact, Metadata\n",
    "from qiime2.plugins.feature_table.methods import rarefy\n",
    "from qiime2.plugins.feature_table.visualizers import summarize\n",
    "from qiime2.plugins.diversity.pipelines import beta\n",
    "\n",
    "from scipy import interpolate "
   ]
  },
  {
   "cell_type": "code",
   "execution_count": 4,
   "id": "f96288be-89ae-4f5d-9993-74ca8be12c83",
   "metadata": {},
   "outputs": [
    {
     "name": "stdout",
     "output_type": "stream",
     "text": [
      "/Users/zkarwowska\n"
     ]
    }
   ],
   "source": [
    "%cd"
   ]
  },
  {
   "cell_type": "code",
   "execution_count": 5,
   "id": "f47edd0d-59a3-44c6-97d6-7cc935286301",
   "metadata": {},
   "outputs": [],
   "source": [
    "#read feature table and metadata\n",
    "feature_table = pd.read_csv('Desktop/SONATA_VAR_MODEL/VAR_MODELS/DATA/raw_data/550_data/raw_data_from_qiita/550_reference.tsv',\n",
    "                            sep = '\\t', \n",
    "                            skiprows = [0],\n",
    "                            index_col=[0]\n",
    "                           )\n",
    "\n",
    "metadata = pd.read_csv('Desktop/SONATA_VAR_MODEL/VAR_MODELS/DATA/raw_data/550_data/raw_data_from_qiita/550_metadata.txt',\n",
    "                       sep = '\\t'\n",
    "                      )"
   ]
  },
  {
   "cell_type": "code",
   "execution_count": 6,
   "id": "a8b61b3a-c900-4ba1-a6d2-0d5a59f8e6fe",
   "metadata": {},
   "outputs": [],
   "source": [
    "#remove mislabeled data and select only gut microbiome samples\n",
    "metadata =  metadata[(metadata['mislabeled'] == False) & (metadata['body_site'] == 'UBERON:feces')]\n",
    "\n",
    "#separate female from male samples\n",
    "male_samples = metadata[metadata['sex'] == 'male']['sample_name']\n",
    "female_samples = metadata[metadata['sex'] == 'female']['sample_name']\n",
    "\n",
    "#make dictionary with sample name and time step\n",
    "sample_to_day_dict = dict(zip(metadata['sample_name'], metadata['days_since_experiment_start']))\n",
    "\n",
    "#filter male and female data\n",
    "male_df = feature_table[male_samples]\n",
    "female_df = feature_table[female_samples]\n",
    "\n",
    "#change column names into days_since_experiment_start\n",
    "male_df = male_df.rename(columns=sample_to_day_dict)\n",
    "female_df = female_df.rename(columns=sample_to_day_dict)\n",
    "\n",
    "#save\n",
    "#male_df.to_csv('Desktop/microbiome_predicion/1.data_overview/raw_male_feces.csv', sep = '\\t')\n",
    "#female_df.to_csv('Desktop/microbiome_predicion/1.data_overview/raw_female_feces.csv', sep = '\\t')"
   ]
  },
  {
   "cell_type": "markdown",
   "id": "2402a01f-9557-4786-af44-295881c73b7f",
   "metadata": {},
   "source": [
    "### interpolate using nearest interpolation\n",
    "\n"
   ]
  },
  {
   "cell_type": "code",
   "execution_count": 7,
   "id": "9df66aaf-e74a-43c6-a745-ae50a23ebd88",
   "metadata": {},
   "outputs": [],
   "source": [
    "#read table - male data\n",
    "df = male_df\n",
    "df = df.T"
   ]
  },
  {
   "cell_type": "code",
   "execution_count": 8,
   "id": "5f300199-e420-487d-b4d7-e84a6d4dc8b7",
   "metadata": {},
   "outputs": [],
   "source": [
    "def nearest_interp(col, masked_df):\n",
    "    \n",
    "    #masked_df = masked_df.index.astype(int)\n",
    "    \n",
    "    df_interpolated = pd.DataFrame(index = masked_df.index)\n",
    "\n",
    "    tmp = masked_df[col]\n",
    "    base_nodes =  tmp.dropna().index #nodes\n",
    "    interpolated_nodes = tmp[tmp.isna()].index.tolist() #this is being interpolated\n",
    "    \n",
    "    f = interpolate.interp1d(base_nodes,\n",
    "                             tmp.dropna().values,\n",
    "                             kind='nearest')\n",
    "    new_y = f(interpolated_nodes)\n",
    "\n",
    "    name = str(col)\n",
    "    df_interpolated.loc[base_nodes, name] = tmp.dropna().values\n",
    "    df_interpolated.loc[interpolated_nodes, name] = new_y\n",
    "    \n",
    "    return df_interpolated"
   ]
  },
  {
   "cell_type": "code",
   "execution_count": 9,
   "id": "d2f549f0-3521-4e9d-82bc-2d14c463f365",
   "metadata": {},
   "outputs": [
    {
     "data": {
      "text/plain": [
       "91"
      ]
     },
     "execution_count": 9,
     "metadata": {},
     "output_type": "execute_result"
    }
   ],
   "source": [
    "#define subject specific variables\n",
    "df.index = df.index.astype(int)\n",
    "df = df.loc[0:418] # we cut the end of time series as it contains too many missing timepoints\n",
    "full_df = list(range(0, 419))\n",
    "missing_tpoints = list(set(full_df) - set(df.index.astype(int)))\n",
    "\n",
    "#add missing rows to out dataframe\n",
    "df_with_missing_tpoints = df.reindex(df.index.union(missing_tpoints))\n",
    "\n",
    "#dataframe with only missing timepoints\n",
    "masked_df = df_with_missing_tpoints.loc[missing_tpoints]\n",
    "\n",
    "#missing timepoints \n",
    "df_with_missing_tpoints.isna().sum()[0] "
   ]
  },
  {
   "cell_type": "code",
   "execution_count": null,
   "id": "40c6df8a-7bad-426b-964e-5b7e3abb175d",
   "metadata": {},
   "outputs": [],
   "source": [
    "#interpolate\n",
    "interpolated_timepoints = []\n",
    "for col in df_with_missing_tpoints.columns:\n",
    "    y = nearest_interp(col, df_with_missing_tpoints)\n",
    "    interpolated_timepoints.append(y)\n",
    "nearest_df = pd.concat(interpolated_timepoints, axis=1)\n",
    "\n",
    "#drop columns that are 0 in all timepoints\n",
    "nearest_df = nearest_df.loc[:, (nearest_df != 0).any(axis=0)]"
   ]
  },
  {
   "cell_type": "code",
   "execution_count": null,
   "id": "7f897e67-6450-491e-989a-a3bffda91f4f",
   "metadata": {},
   "outputs": [],
   "source": [
    "nearest_df.shape"
   ]
  },
  {
   "cell_type": "code",
   "execution_count": null,
   "id": "b3a86adf-5b55-4cc3-9bf6-483db16e4d5c",
   "metadata": {},
   "outputs": [],
   "source": [
    "#save interpolated data\n",
    "nearest_df.T.to_csv('male_feces_raw_interpolated.csv', sep = '\\t')"
   ]
  },
  {
   "cell_type": "markdown",
   "id": "da04723a-84c3-4ecd-ba08-0ecfbf7edb0a",
   "metadata": {},
   "source": [
    "### rarefy"
   ]
  },
  {
   "cell_type": "code",
   "execution_count": null,
   "id": "2157502c-224f-46b8-9b9e-913a7dd9f5bc",
   "metadata": {},
   "outputs": [],
   "source": [
    "!biom convert -i male_feces_raw_interpolated.csv -o male_feces_raw_interpolated.biom --table-type=\"OTU table\" --to-hdf5"
   ]
  },
  {
   "cell_type": "code",
   "execution_count": null,
   "id": "a9b9141f-8d22-4ac6-87b2-0711f557a7b2",
   "metadata": {},
   "outputs": [],
   "source": [
    "unrarefied_table = Artifact.import_data(\"FeatureTable[Frequency]\", 'male_feces_raw_interpolated.biom')"
   ]
  },
  {
   "cell_type": "code",
   "execution_count": null,
   "id": "5675719e-f7e4-4048-af09-62a413974ec0",
   "metadata": {},
   "outputs": [],
   "source": [
    "SUMMARY = summarize(unrarefied_table)\n",
    "SUMMARY.visualization"
   ]
  },
  {
   "cell_type": "code",
   "execution_count": null,
   "id": "a2a76ae2-33b2-443e-8f14-824a5690dc30",
   "metadata": {},
   "outputs": [],
   "source": [
    "#rarefy\n",
    "rarefy_result = rarefy(table=unrarefied_table, sampling_depth=16000)\n",
    "rarefied_table = rarefy_result.rarefied_table\n",
    "rarefied_table_df = rarefied_table.view(pd.DataFrame)"
   ]
  },
  {
   "cell_type": "markdown",
   "id": "dd98934d-a467-4a1e-93dd-1ff12df16ac7",
   "metadata": {},
   "source": [
    "### reinterpolate missing timepoints that were lost after rarefaction"
   ]
  },
  {
   "cell_type": "code",
   "execution_count": null,
   "id": "7680e2a5-5f5b-4e39-a262-0ea5c5d38aa1",
   "metadata": {},
   "outputs": [],
   "source": [
    "#create a dataframe to interpolate\n",
    "rarefied_table_df.index = rarefied_table_df.index.astype(int)\n",
    "missing_timepoints_after_rarefaction = list(set([i for i in range(0, 419)]) - set(rarefied_table_df.index))\n",
    "rarefied_df_with_missing_tpoints = rarefied_table_df.reindex(rarefied_table_df.index.union(missing_timepoints_after_rarefaction))\n",
    "\n",
    "#interpolate rarefied table\n",
    "interpolated_timepoints = []\n",
    "for col in rarefied_df_with_missing_tpoints.columns:\n",
    "    y = nearest_interp(col, rarefied_df_with_missing_tpoints)\n",
    "    interpolated_timepoints.append(y)\n",
    "    \n",
    "nearest_rarefied_interpolated_df = pd.concat(interpolated_timepoints, axis=1)\n",
    "nearest_rarefied_interpolated_df.index = nearest_rarefied_interpolated_df.index.astype(int)\n",
    "\n",
    "#slice dataframe, other parts are of low quality\n",
    "nearest_rarefied_interpolated_df = nearest_rarefied_interpolated_df.loc[112:391].T\n",
    "nearest_rarefied_interpolated_df.index.name = '#OTU ID'"
   ]
  },
  {
   "cell_type": "code",
   "execution_count": null,
   "id": "b27f7a48-8bc4-4068-9c0e-c836a3ca1906",
   "metadata": {},
   "outputs": [],
   "source": [
    "nearest_rarefied_interpolated_df.shape"
   ]
  },
  {
   "cell_type": "code",
   "execution_count": 1,
   "id": "c8caf494-6d85-4b00-bc9c-d30b00a4a58d",
   "metadata": {},
   "outputs": [
    {
     "ename": "NameError",
     "evalue": "name 'nearest_rarefied_interpolated_df' is not defined",
     "output_type": "error",
     "traceback": [
      "\u001b[0;31m---------------------------------------------------------------------------\u001b[0m",
      "\u001b[0;31mNameError\u001b[0m                                 Traceback (most recent call last)",
      "\u001b[0;32m<ipython-input-1-71b5c1dcbfac>\u001b[0m in \u001b[0;36m<module>\u001b[0;34m\u001b[0m\n\u001b[0;32m----> 1\u001b[0;31m \u001b[0mnearest_rarefied_interpolated_df\u001b[0m\u001b[0;34m.\u001b[0m\u001b[0mto_csv\u001b[0m\u001b[0;34m(\u001b[0m\u001b[0;34m'male_feces_rarefied_double_interpolated.csv'\u001b[0m\u001b[0;34m)\u001b[0m\u001b[0;34m\u001b[0m\u001b[0;34m\u001b[0m\u001b[0m\n\u001b[0m",
      "\u001b[0;31mNameError\u001b[0m: name 'nearest_rarefied_interpolated_df' is not defined"
     ]
    }
   ],
   "source": [
    "nearest_rarefied_interpolated_df.to_csv('male_feces_rarefied_double_interpolated.csv')"
   ]
  }
 ],
 "metadata": {
  "kernelspec": {
   "display_name": "qiime2_env",
   "language": "python",
   "name": "qiime2_env"
  },
  "language_info": {
   "codemirror_mode": {
    "name": "ipython",
    "version": 3
   },
   "file_extension": ".py",
   "mimetype": "text/x-python",
   "name": "python",
   "nbconvert_exporter": "python",
   "pygments_lexer": "ipython3",
   "version": "3.6.11"
  }
 },
 "nbformat": 4,
 "nbformat_minor": 5
}
