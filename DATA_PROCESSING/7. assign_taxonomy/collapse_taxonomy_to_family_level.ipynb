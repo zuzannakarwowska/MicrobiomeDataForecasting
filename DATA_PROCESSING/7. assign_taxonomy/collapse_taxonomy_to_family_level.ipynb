{
 "cells": [
  {
   "cell_type": "code",
   "execution_count": null,
   "id": "deadly-advancement",
   "metadata": {},
   "outputs": [],
   "source": [
    "#basic packages\n",
    "import pandas as pd\n",
    "import numpy as np\n",
    "import warnings\n",
    "import matplotlib.pyplot as plt\n",
    "import seaborn as sns\n",
    "\n",
    "#interpolation\n",
    "from scipy import interpolate \n",
    "#model\n",
    "from statsmodels.tsa.api import VAR\n",
    "#classifcation metrics\n",
    "from sklearn.metrics import f1_score, roc_auc_score\n",
    "#beta diversity\n",
    "from scipy.spatial import distance\n",
    "#alpha diveristy metrics\n",
    "from skbio.diversity.alpha import shannon\n",
    "#ordination\n",
    "import skbio\n",
    "from scipy.spatial import procrustes\n",
    "\n",
    "sns.set_style(\"whitegrid\")"
   ]
  },
  {
   "cell_type": "code",
   "execution_count": null,
   "id": "careful-correction",
   "metadata": {},
   "outputs": [],
   "source": [
    "warnings.filterwarnings('ignore')"
   ]
  },
  {
   "cell_type": "code",
   "execution_count": null,
   "id": "inclusive-estate",
   "metadata": {},
   "outputs": [],
   "source": [
    "%cd"
   ]
  },
  {
   "cell_type": "markdown",
   "id": "assigned-prague",
   "metadata": {},
   "source": [
    "# 1. READ FEATURE TABLE AND METADATA FILES"
   ]
  },
  {
   "cell_type": "code",
   "execution_count": null,
   "id": "informative-fetish",
   "metadata": {},
   "outputs": [],
   "source": [
    "df = pd.read_csv('raw_data/550_male_feces.tsv',\n",
    "                 sep = '\\t',\n",
    "                 index_col = [0])\n",
    "metadata = pd.read_csv('raw_data/550_metadata.txt',\n",
    "                       sep = '\\t')"
   ]
  },
  {
   "cell_type": "markdown",
   "id": "rental-incentive",
   "metadata": {},
   "source": [
    "# 3. RAREFY, ASSIGN TAXONOMY AND COLLAPSE TO FAMILY LEVEL\n",
    "    1. export to biom\n",
    "    2. import to QIIME2 artifact\n",
    "    3. rarefy sequnce feature table\n",
    "    4. assign taxonomy\n",
    "    5. collapse to family level"
   ]
  },
  {
   "cell_type": "code",
   "execution_count": null,
   "id": "matched-audit",
   "metadata": {},
   "outputs": [],
   "source": [
    "# we need a dataframe with sequences in rows and samples as columns\n",
    "rarefy_df = nearest_df.T\n",
    "rarefy_df.index.name = '#OTU ID'\n",
    "rarefy_df.to_csv('interpolated_data/interpolated_male_feces.tsv', sep = '\\t')"
   ]
  },
  {
   "cell_type": "code",
   "execution_count": null,
   "id": "weird-testimony",
   "metadata": {},
   "outputs": [],
   "source": [
    "#convert to biom\n",
    "biom convert \\\n",
    "-i interpolated_data/interpolated_male_feces.tsv \\\n",
    "-o interpolated_data/interpolated_male_feces.biom \\\n",
    "--to-hdf5\n",
    "\n",
    "#import to qiime artifact\n",
    "qiime tools import \\\n",
    "--input-path interpolated_data/interpolated_male_feces.biom \\\n",
    "--type 'FeatureTable[Frequency]' \\\n",
    "--input-format BIOMV210Format \\\n",
    "--output-path interpolated_data/interpolated_male_feces.qza \n",
    "\n",
    "#rarefy data\n",
    "qiime feature-table rarefy \\\n",
    "--i-table interpolated_data/interpolated_male_feces.qza \\\n",
    "--p-sampling-depth 16000 \\\n",
    "--o-rarefied-table rarefied_and_interpolated_data/rarefied_interpolated_male_feces.qza \n",
    "\n",
    "# ASSIGN TAXONOMY\n",
    "## import fasta file with sequences to qza\n",
    "xxxxxx\n",
    "\n",
    "## filter repsequences by sequences that are male (in our featrue table)\n",
    "qiime feature-table filter-seqs \\\n",
    "--i-data sequence_data/sequences.qza \\\n",
    "--i-table rarefied_and_interpolated_data/rarefied_interpolated_male_feces.qza \\\n",
    "--o-filtered-data sequence_data/rarefied_interpolated_male_feces_sequences.qza \n",
    "\n",
    "#assign taxonomy\n",
    "qiime feature-classifier classify-sklearn \\\n",
    "  --i-classifier sequence_data/gg-13-8-99-515-806-nb-classifier.qza \\\n",
    "  --i-reads sequence_data/rarefied_interpolated_male_feces_sequences.qza \\\n",
    "  --o-classification taxonomy/rarefied_interpolated_male_feces_taxonomy.qza\n",
    "\n",
    "#collapse\n",
    "qiime taxa collapse \\\n",
    "--i-table rarefied_and_interpolated_data/rarefied_interpolated_male_feces.qza \\\n",
    "--i-taxonomy taxonomy/rarefied_interpolated_male_feces_taxonomy.qza \\\n",
    "--p-level 5 \\\n",
    "--o-collapsed-table taxonomy/rarefied_interpolated_male_feces_family.qza\n",
    "\n",
    "#export to biom \n",
    "qiime tools export \\\n",
    "--input-path taxonomy/rarefied_interpolated_male_feces_family.qza \\\n",
    "--output-path taxonomy/output\n",
    "\n",
    "#export to tsv\n",
    "biom convert \\\n",
    "-i taxonomy/output/feature-table.biom \\\n",
    "-o taxonomy/rarefied_interpolated_male_feces_family.tsv \\\n",
    "--to-tsv"
   ]
  },
  {
   "cell_type": "markdown",
   "id": "composite-administrator",
   "metadata": {},
   "source": [
    "### 3.1 read feature table assigned to taxonomy level"
   ]
  },
  {
   "cell_type": "code",
   "execution_count": null,
   "id": "graphic-inspection",
   "metadata": {},
   "outputs": [],
   "source": [
    "family_df = pd.read_csv('taxonomy/rarefied_interpolated_male_feces_family.tsv',\n",
    "                        sep = '\\t', skiprows = [0], index_col = [0])\n",
    "\n",
    "#remove bacteria that have abundance below 0.0001 of the highest value\n",
    "mean_family = pd.DataFrame(family_df.T.describe().loc['mean']).sort_values(by = ['mean'])\n",
    "keep_families = mean_family[mean_family['mean'] > 0.848].index\n",
    "family_df = family_df.loc[keep_families]"
   ]
  },
  {
   "cell_type": "code",
   "execution_count": null,
   "id": "neural-render",
   "metadata": {},
   "outputs": [],
   "source": [
    "#make dataframe to interpolate\n",
    "interpolate_family = family_df.T\n",
    "interpolate_family.index = interpolate_family.index.astype(int)\n",
    "#define missing datapoints\n",
    "missing_timepoints = list(set([i for i in range(0, 419)]) - set(interpolate_family.index))\n",
    "#add these points into family dataframe\n",
    "family_with_missing_tpoints = interpolate_family.reindex(interpolate_family.index.union(missing_timepoints))\n",
    "\n",
    "#interpolate using nearest interpolation method\n",
    "interpolated_timepoints = []\n",
    "for col in family_with_missing_tpoints.columns:\n",
    "    y = nearest_interp(col, family_with_missing_tpoints)\n",
    "    interpolated_timepoints.append(y)\n",
    "    \n",
    "nearest_family_df = pd.concat(interpolated_timepoints, axis=1)\n",
    "\n",
    "#slice dataframe, other parts are of low quality\n",
    "nearest_family_df = nearest_family_df.loc[112:391].T\n",
    "nearest_family_df.index.name = '#OTU ID'"
   ]
  },
  {
   "cell_type": "markdown",
   "id": "obvious-board",
   "metadata": {},
   "source": [
    "# 4. NAIVE FORECAST - lag0"
   ]
  },
  {
   "cell_type": "code",
   "execution_count": null,
   "id": "dressed-virus",
   "metadata": {},
   "outputs": [],
   "source": [
    "data = nearest_family_df.T\n",
    "naive_predictions = data.apply(lambda x: x.shift(1), axis = 0)[-40:]\n",
    "true = data[-40:]"
   ]
  },
  {
   "cell_type": "markdown",
   "id": "lesbian-politics",
   "metadata": {},
   "source": [
    "# 5. VAR MODEL"
   ]
  },
  {
   "cell_type": "markdown",
   "id": "excess-dallas",
   "metadata": {},
   "source": [
    "### 5.1. split to train and test"
   ]
  },
  {
   "cell_type": "code",
   "execution_count": null,
   "id": "executive-bonus",
   "metadata": {},
   "outputs": [],
   "source": [
    "df_train = data.head(240)\n",
    "df_test = data.tail(40)"
   ]
  },
  {
   "cell_type": "code",
   "execution_count": null,
   "id": "civil-greek",
   "metadata": {},
   "outputs": [],
   "source": [
    "def var_model(lag_order, n):\n",
    "\n",
    "    lag_order = lag_order\n",
    "    nobs = n\n",
    "\n",
    "    X = df_train.values\n",
    "    y = df_test.values\n",
    "\n",
    "    history = [x for x in X]\n",
    "\n",
    "    #model\n",
    "    VAR_model = VAR(X)\n",
    "    VAR_model_fit = VAR_model.fit(lag_order)\n",
    "\n",
    "    # make first prediction\n",
    "    predictions = list()\n",
    "    forecast_input = X[-lag_order:]\n",
    "\n",
    "    yhat = VAR_model_fit.forecast(y=forecast_input, steps=nobs)\n",
    "\n",
    "    predictions.append(yhat)\n",
    "    history.append(y[0])\n",
    "\n",
    "    for i in range(1, len(y)):\n",
    "\n",
    "        # predict\n",
    "        VAR_model = VAR(history)\n",
    "        VAR_model_fitted = VAR_model.fit(lag_order)\n",
    "\n",
    "        forecast_idx = i + lag_order - 1\n",
    "        yhat = VAR_model_fitted.forecast(y=y[:forecast_idx], steps=nobs)\n",
    "        #yhat = VAR_model_fitted.forecast(y=history[-lag_order:], steps=nobs)\n",
    "        \n",
    "        predictions.append(yhat)\n",
    "        obs = y[i]\n",
    "        history.append(obs)\n",
    "        \n",
    "    return history, predictions, VAR_model_fitted"
   ]
  },
  {
   "cell_type": "code",
   "execution_count": null,
   "id": "green-cassette",
   "metadata": {},
   "outputs": [],
   "source": [
    "def forecast_to_datafarme(history, predictions):\n",
    "    \n",
    "    history = pd.DataFrame(history)\n",
    "    history.columns, history.index = df_train.columns, data.index\n",
    "\n",
    "    PREDICTIONS = []\n",
    "    for i in predictions:\n",
    "        d = pd.DataFrame(i)\n",
    "        PREDICTIONS.append(d)\n",
    "\n",
    "    PREDICTIONS = pd.concat(PREDICTIONS)\n",
    "    PREDICTIONS.columns, PREDICTIONS.index = df_train.columns, df_test.index\n",
    "    PREDICTIONS[PREDICTIONS < 0] = 0\n",
    "    \n",
    "    return history, PREDICTIONS"
   ]
  },
  {
   "cell_type": "code",
   "execution_count": null,
   "id": "bronze-murder",
   "metadata": {},
   "outputs": [],
   "source": [
    "HISTORY_1, PREDICTIONS_1 = forecast_to_datafarme(var_model(1, 1)[0], var_model(1, 1)[1])\n",
    "HISTORY_2, PREDICTIONS_2 = forecast_to_datafarme(var_model(2, 1)[0], var_model(2, 1)[1])\n",
    "HISTORY_3, PREDICTIONS_3 = forecast_to_datafarme(var_model(3, 1)[0], var_model(3, 1)[1])\n",
    "HISTORY_4, PREDICTIONS_4 = forecast_to_datafarme(var_model(4, 1)[0], var_model(4, 1)[1])\n",
    "HISTORY_5, PREDICTIONS_5 = forecast_to_datafarme(var_model(5, 1)[0], var_model(5, 1)[1])\n",
    "HISTORY_6, PREDICTIONS_6 = forecast_to_datafarme(var_model(6, 1)[0], var_model(6, 1)[1])\n",
    "HISTORY_7, PREDICTIONS_7 = forecast_to_datafarme(var_model(7, 1)[0], var_model(7, 1)[1])\n",
    "HISTORY_8, PREDICTIONS_8 = forecast_to_datafarme(var_model(8, 1)[0], var_model(8, 1)[1])\n",
    "HISTORY_9, PREDICTIONS_9 = forecast_to_datafarme(var_model(9, 1)[0], var_model(9, 1)[1])\n",
    "HISTORY_10, PREDICTIONS_10 = forecast_to_datafarme(var_model(10, 1)[0], var_model(10, 1)[1])"
   ]
  },
  {
   "cell_type": "code",
   "execution_count": null,
   "id": "unable-venezuela",
   "metadata": {},
   "outputs": [],
   "source": [
    "PREDICTIONS = [naive_predictions, PREDICTIONS_1, PREDICTIONS_2, PREDICTIONS_3, PREDICTIONS_4,\n",
    "               PREDICTIONS_5, PREDICTIONS_6, PREDICTIONS_7, PREDICTIONS_8, \n",
    "               PREDICTIONS_9, PREDICTIONS_10]\n",
    "\n",
    "LAGS = [i for i in range(1, 11)]\n",
    "LAGS = ['naive_forecast'] + LAGS "
   ]
  }
 ],
 "metadata": {
  "kernelspec": {
   "display_name": "deep_ae",
   "language": "python",
   "name": "deep_ae"
  },
  "language_info": {
   "codemirror_mode": {
    "name": "ipython",
    "version": 3
   },
   "file_extension": ".py",
   "mimetype": "text/x-python",
   "name": "python",
   "nbconvert_exporter": "python",
   "pygments_lexer": "ipython3",
   "version": "3.9.7"
  }
 },
 "nbformat": 4,
 "nbformat_minor": 5
}
