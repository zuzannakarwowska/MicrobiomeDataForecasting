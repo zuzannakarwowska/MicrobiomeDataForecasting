{
 "cells": [
  {
   "cell_type": "markdown",
   "id": "eaf21d6a-5143-4d2b-8dfb-2f1ed1a8477b",
   "metadata": {},
   "source": [
    "## ANALYSE IF TRAIN AND TEST SETS ARE DIFFERENT AND WHICH SPLIT METHOD IS BETTER\n",
    "\n",
    "#### 1. read data, filter rare bacteria and split to train and test using two methods:\n",
    "\n",
    "    a. Last Block - where we take n last timepoints as test set\n",
    " \n",
    "    b. Shuffled - where we take random timepoints from time series as test set \n",
    "    \n",
    "#### 2. calculate Shannon diversity in each timepoint and compare if its distribution in test and train set are different\n",
    "\n",
    "#### 3. transform data using CLR and calculate Bray Curtis diversity between train set points, between test set points and between train and test points to see differences\n"
   ]
  },
  {
   "cell_type": "code",
   "execution_count": null,
   "id": "b9becce1-7439-440d-9599-60e31b165bc4",
   "metadata": {},
   "outputs": [],
   "source": [
    "import pandas as pd\n",
    "import random\n",
    "import numpy as np\n",
    "import seaborn as sns\n",
    "import statsmodels.api as sm\n",
    "import matplotlib.pyplot as plt\n",
    "import matplotlib.patches as mpatches\n",
    "\n",
    "\n",
    "import os\n",
    "import sys\n",
    "import warnings\n",
    "\n",
    "import skbio\n",
    "from scipy.spatial import distance\n",
    "from scipy.stats import ks_2samp"
   ]
  },
  {
   "cell_type": "code",
   "execution_count": 2,
   "id": "9742faa9-62fc-45ce-b580-b5e63b40fc9c",
   "metadata": {},
   "outputs": [],
   "source": [
    "warnings.filterwarnings(\"ignore\")"
   ]
  },
  {
   "cell_type": "code",
   "execution_count": 3,
   "id": "e66833d7-7728-4920-81f5-41482de4fb36",
   "metadata": {},
   "outputs": [],
   "source": [
    "MODULE_PATH = os.path.abspath('/storage/pszczerbiak/microbiome_interactions_project') # TODO load from CONFIG file\n",
    "if MODULE_PATH not in sys.path:\n",
    "    sys.path.append(MODULE_PATH)\n",
    "    \n",
    "from utils.measures import calculate_spearman, calculate_nrmse, inter_dissimilarity\n",
    "\n",
    "MODULE_PATH = os.path.abspath('/storage/zkarwowska/clean_code/data_preparation/') \n",
    "if MODULE_PATH not in sys.path:\n",
    "    sys.path.append(MODULE_PATH)\n",
    "\n",
    "from processing import MicrobiomeDataPreprocessing, CLRTransformer, MicrobiomeTraintestSplit"
   ]
  },
  {
   "cell_type": "code",
   "execution_count": 4,
   "id": "3a2dd069-5865-4bfd-ac9d-c36c644c1a30",
   "metadata": {},
   "outputs": [],
   "source": [
    "donor = 'donorA'"
   ]
  },
  {
   "cell_type": "markdown",
   "id": "1e6c91bd-8672-4ff0-848f-b63af1fba6d5",
   "metadata": {},
   "source": [
    "### 1. read data"
   ]
  },
  {
   "cell_type": "code",
   "execution_count": 5,
   "id": "a7ca4aeb-b3bf-4610-b94c-7dcd347c855e",
   "metadata": {},
   "outputs": [
    {
     "data": {
      "text/plain": [
       "(365, 1531)"
      ]
     },
     "execution_count": 5,
     "metadata": {},
     "output_type": "execute_result"
    }
   ],
   "source": [
    "FILE = '/storage/zkarwowska/microbiome-interactions/datasets/processed/ready_datasets/{}_rarefied_interpolated_feces.csv'.format(donor)\n",
    "\n",
    "df = pd.read_csv(FILE, index_col = [0])\n",
    "df.shape"
   ]
  },
  {
   "cell_type": "markdown",
   "id": "343fa76f-5621-4b94-85f2-0eeb5fb8ba9c",
   "metadata": {},
   "source": [
    "### 2. FILTER RARE BACTERIA\n"
   ]
  },
  {
   "cell_type": "code",
   "execution_count": 6,
   "id": "25ca4d05-143f-4707-ab32-729c77738550",
   "metadata": {},
   "outputs": [
    {
     "data": {
      "text/plain": [
       "(365, 149)"
      ]
     },
     "execution_count": 6,
     "metadata": {},
     "output_type": "execute_result"
    }
   ],
   "source": [
    "processing = MicrobiomeDataPreprocessing()\n",
    "df_filtered = processing.filter_rare_features(df, treshold_perc = .8)\n",
    "df_filtered.shape"
   ]
  },
  {
   "cell_type": "markdown",
   "id": "00d1de57-8320-4137-a210-0f316546873b",
   "metadata": {},
   "source": [
    "#### 3. TRANSFORM USING CLR"
   ]
  },
  {
   "cell_type": "code",
   "execution_count": 7,
   "id": "685f39c4-d705-45e5-85b5-9ba9f37de9d8",
   "metadata": {},
   "outputs": [],
   "source": [
    "transformer = CLRTransformer()\n",
    "df_filtered_clr = transformer.fit_transform(df_filtered)"
   ]
  },
  {
   "cell_type": "markdown",
   "id": "0c79da78-7131-4ab8-8b87-378ff14b9f3a",
   "metadata": {},
   "source": [
    "#### 4. SPLIT TO TRAIN AND TEST"
   ]
  },
  {
   "cell_type": "code",
   "execution_count": 8,
   "id": "16c467ac-50bd-42bd-a8a1-bfae504da640",
   "metadata": {},
   "outputs": [],
   "source": [
    "split = MicrobiomeTraintestSplit()\n",
    "\n",
    "train_last_block, test_last_block = split.last_block_split(df_filtered)\n",
    "train_shuffled, test_shuffled= split.blocked_split(df_filtered)"
   ]
  },
  {
   "cell_type": "markdown",
   "id": "b1772d14-976f-4c72-950f-957554a025d8",
   "metadata": {},
   "source": [
    "#### 5. CALCULATE ALPHA DIVERSITY\n",
    "##### A. SHANNON"
   ]
  },
  {
   "cell_type": "code",
   "execution_count": 9,
   "id": "7529f882-386d-43ba-9715-0f09c1703fd3",
   "metadata": {},
   "outputs": [],
   "source": [
    "def calculate_shannon(df, data):\n",
    "    \n",
    "    SHANNON_IDX = []\n",
    "    for i in range(len(df.index)):\n",
    "        x = df.iloc[i].values\n",
    "        shannon_idx = skbio.diversity.alpha.shannon(x)\n",
    "        \n",
    "        SHANNON_IDX.append(shannon_idx)\n",
    "        \n",
    "    shannon_df = pd.DataFrame(SHANNON_IDX, columns = ['shannon_idx'])\n",
    "    shannon_df['timestep'] = df.index\n",
    "    shannon_df['data'] = data\n",
    "    \n",
    "    return shannon_df"
   ]
  },
  {
   "cell_type": "code",
   "execution_count": 10,
   "id": "a004cbd6-68b3-4d12-bf70-7c670a3071dd",
   "metadata": {},
   "outputs": [],
   "source": [
    "shannon_last_block_df = calculate_shannon(train_last_block, 'train').append(calculate_shannon(test_last_block, 'test'))\n",
    "shannon_shuffled_df = calculate_shannon(train_shuffled, 'train').append(calculate_shannon(test_shuffled, 'test'))"
   ]
  },
  {
   "cell_type": "code",
   "execution_count": null,
   "id": "94625277-3c4b-4d26-89a6-33d09321ea6c",
   "metadata": {},
   "outputs": [],
   "source": [
    "fig, [ax1, ax2] = plt.subplots(nrows=1, ncols=2, figsize=(10, 5))\n",
    "\n",
    "sns.boxplot(data = shannon_last_block_df, y = 'shannon_idx', x = 'data', color = 'white', linewidth = .7, width = .7, ax=ax1)\n",
    "sns.swarmplot(data = shannon_last_block_df, y = 'shannon_idx', x = 'data', s=2, ax=ax1)\n",
    "\n",
    "sns.boxplot(data = shannon_shuffled_df, y = 'shannon_idx', x = 'data', color = 'white', linewidth = .7, width = .7, ax=ax2)\n",
    "sns.swarmplot(data = shannon_shuffled_df, y = 'shannon_idx', x = 'data', s=2, ax=ax2)\n",
    "\n",
    "ax1.title.set_text('Last Block Split')\n",
    "ax2.title.set_text('Shuffled Split')\n",
    "\n",
    "train_patch = mpatches.Patch(color='black', label='train')\n",
    "test_patch = mpatches.Patch(color='orange', label='test')\n",
    "\n",
    "ax1.legend(handles=[train_patch, test_patch])\n",
    "ax2.legend(handles=[train_patch, test_patch])\n",
    "\n",
    "plt.tight_layout()\n",
    "plt.savefig('TrainTestSplitAnalysis/{}_shannon_boxplot.png'.format(donor))"
   ]
  },
  {
   "cell_type": "code",
   "execution_count": null,
   "id": "fc32ab0c-99e0-4aa9-b187-d31ce198c9cf",
   "metadata": {},
   "outputs": [],
   "source": [
    "fig, [ax1, ax2] = plt.subplots(nrows=1, ncols=2, figsize=(10, 5))\n",
    "\n",
    "sns.distplot(shannon_last_block_df[shannon_last_block_df['data'] == 'train']['shannon_idx'], hist = False, color = 'black', ax=ax1)\n",
    "sns.distplot(shannon_last_block_df[shannon_last_block_df['data'] == 'test']['shannon_idx'], hist = False, color = 'orange', ax=ax1)\n",
    "\n",
    "sns.distplot(shannon_shuffled_df[shannon_shuffled_df['data'] == 'train']['shannon_idx'], hist = False, color = 'black', ax=ax2)\n",
    "sns.distplot(shannon_shuffled_df[shannon_shuffled_df['data'] == 'test']['shannon_idx'], hist = False, color = 'orange', ax=ax2)\n",
    "\n",
    "ax1.title.set_text('Last Block Split')\n",
    "ax2.title.set_text('Shuffled Split')\n",
    "\n",
    "train_patch = mpatches.Patch(color='black', label='train')\n",
    "test_patch = mpatches.Patch(color='orange', label='test')\n",
    "\n",
    "ax1.legend(handles=[train_patch, test_patch])\n",
    "ax2.legend(handles=[train_patch, test_patch])\n",
    "\n",
    "\n",
    "plt.tight_layout()\n",
    "plt.savefig('TrainTestSplitAnalysis/{}_shannon_dist.png'.format(donor))"
   ]
  },
  {
   "cell_type": "markdown",
   "id": "238247f4-1f75-4fd0-a0bd-524201e4e5fe",
   "metadata": {},
   "source": [
    "#### 6. CALCULATE BETA DIVERSITY BETWEEN AND INSIDE TRAIN AND TEST\n",
    "##### A. BRAY CURTIS\n"
   ]
  },
  {
   "cell_type": "code",
   "execution_count": null,
   "id": "e6216ed8-761c-4372-a4c0-9243c51527ab",
   "metadata": {},
   "outputs": [],
   "source": [
    "split = MicrobiomeTraintestSplit()\n",
    "\n",
    "train_last_block, test_last_block = split.last_block_split(df_filtered_clr)\n",
    "train_shuffled, test_shuffled= split.blocked_split(df_filtered_clr)"
   ]
  },
  {
   "cell_type": "code",
   "execution_count": 11,
   "id": "7410509c-bf0e-4a8c-98f1-38dcd6347514",
   "metadata": {},
   "outputs": [],
   "source": [
    "def calculate_bc(df1, df2, data):\n",
    "    \n",
    "    var1=[]\n",
    "    var2=[]\n",
    "    bc_dist = []\n",
    "    for i in range(len(df1.index)):\n",
    "        for j in range(len(df2.index)):\n",
    "            dist = distance.braycurtis(df1.iloc[i], df2.iloc[j])\n",
    "            bc_dist.append(dist)\n",
    "            var1.append(i)\n",
    "            var2.append(j)\n",
    "            \n",
    "    bc_df = pd.DataFrame(list(zip(var1, var2, bc_dist)), columns = ['idx1', 'idx2', 'bc_dist'])\n",
    "    bc_df['data'] = data\n",
    "    \n",
    "    return bc_df"
   ]
  },
  {
   "cell_type": "code",
   "execution_count": 12,
   "id": "0592bb31-0e05-4276-9c53-e69af7474856",
   "metadata": {},
   "outputs": [],
   "source": [
    "# last block\n",
    "bc_last_block_train_train = calculate_bc(train_last_block, train_last_block, 'train_train')\n",
    "bc_last_block_train_test = calculate_bc(train_last_block, test_last_block, 'train_test')\n",
    "bc_last_block_test_test = calculate_bc(test_last_block, test_last_block, 'test_test')\n",
    "\n",
    "bc_last_block_df = bc_last_block_train_train.append(bc_last_block_train_test).append(bc_last_block_test_test)\n",
    "bc_last_block_df['split'] = 'last block'"
   ]
  },
  {
   "cell_type": "code",
   "execution_count": 13,
   "id": "973bf9c8-9f1d-4efc-8099-91568a141d27",
   "metadata": {},
   "outputs": [],
   "source": [
    "# shuffled block\n",
    "bc_shuffled_train_train = calculate_bc(train_shuffled, train_shuffled, 'train_train')\n",
    "bc_shuffled_train_test = calculate_bc(train_shuffled, test_shuffled, 'train_test')\n",
    "bc_shuffled_test_test = calculate_bc(test_shuffled, test_shuffled, 'test_test')\n",
    "\n",
    "bc_shuffled_df = bc_shuffled_train_train.append(bc_shuffled_train_test).append(bc_shuffled_test_test)\n",
    "bc_shuffled_df['split'] = 'shuffled'"
   ]
  },
  {
   "cell_type": "code",
   "execution_count": 14,
   "id": "4cd61c92-6185-4322-b6c3-ed84683d5468",
   "metadata": {},
   "outputs": [],
   "source": [
    "bc_df = bc_last_block_df.append(bc_shuffled_df)"
   ]
  },
  {
   "cell_type": "code",
   "execution_count": 15,
   "id": "c07a9c8c-b797-4972-b52a-d577ded4d85c",
   "metadata": {},
   "outputs": [
    {
     "data": {
      "image/png": "[encoded data removed]",
      "text/plain": [
       "<Figure size 720x360 with 1 Axes>"
      ]
     },
     "metadata": {
      "needs_background": "light"
     },
     "output_type": "display_data"
    }
   ],
   "source": [
    "plt.figure(figsize=(10, 5))\n",
    "\n",
    "ax=sns.boxplot(data=bc_df,\n",
    "               y = 'bc_dist',\n",
    "               x = 'data',\n",
    "               hue = 'split',\n",
    "              linewidth = .8,\n",
    "              width = .8)\n",
    "\n",
    "ax.legend(bbox_to_anchor=(1.2, 1.05))\n",
    "plt.tight_layout()\n",
    "plt.savefig('TrainTestSplitAnalysis/{}_bc_boxplot.png'.format(donor))"
   ]
  }
 ],
 "metadata": {
  "kernelspec": {
   "display_name": "basic_env",
   "language": "python",
   "name": "basic_env"
  },
  "language_info": {
   "codemirror_mode": {
    "name": "ipython",
    "version": 3
   },
   "file_extension": ".py",
   "mimetype": "text/x-python",
   "name": "python",
   "nbconvert_exporter": "python",
   "pygments_lexer": "ipython3",
   "version": "3.6.2"
  }
 },
 "nbformat": 4,
 "nbformat_minor": 5
}
