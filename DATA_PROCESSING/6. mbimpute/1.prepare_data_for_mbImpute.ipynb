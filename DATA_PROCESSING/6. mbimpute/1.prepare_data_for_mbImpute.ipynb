{
 "cells": [
  {
   "cell_type": "code",
   "execution_count": 8,
   "id": "29a72e11-404d-49ac-9faf-90181dfcf707",
   "metadata": {},
   "outputs": [],
   "source": [
    "#basic packages\n",
    "import pandas as pd\n",
    "import numpy as np\n",
    "import warnings\n",
    "import matplotlib.pyplot as plt\n",
    "import seaborn as sns\n",
    "#interpolation\n",
    "from scipy import interpolate \n",
    "\n",
    "#qiime\n",
    "import qiime2"
   ]
  },
  {
   "cell_type": "markdown",
   "id": "d55ec578-670d-4735-bd24-2903cab2ff57",
   "metadata": {},
   "source": [
    "## 1. read data"
   ]
  },
  {
   "cell_type": "code",
   "execution_count": 25,
   "id": "8d45f0fc-1457-4ea8-a07f-ec5a8a471063",
   "metadata": {},
   "outputs": [],
   "source": [
    "metadata = pd.read_csv('input_data/550_metadata.txt', sep='\\t')\n",
    "feature_table = pd.read_csv('input_data/550_male_feces.tsv', sep = '\\t', index_col = [0])"
   ]
  },
  {
   "cell_type": "code",
   "execution_count": 26,
   "id": "d59b2886-850c-46d5-9d88-9a44ea0cfff1",
   "metadata": {},
   "outputs": [],
   "source": [
    "timestep_dictionary = dict(zip(metadata['sample_name'],\n",
    "                      metadata['days_since_experiment_start']))"
   ]
  },
  {
   "cell_type": "code",
   "execution_count": 27,
   "id": "61070791-f97c-469c-9b06-4895f53edc12",
   "metadata": {},
   "outputs": [],
   "source": [
    "df = feature_table.T\n",
    "\n",
    "#map samples to timepoints\n",
    "df.index = df.index.to_series().map(timestep_dictionary)\n",
    "df = df.loc[:, (df != 0).any(axis=0)]\n",
    "\n",
    "df.index = df.index.astype(int)\n",
    "df = df[df.index.isin(range(113, 393))] # best timepoints\n",
    "df = df.sort_index()"
   ]
  },
  {
   "cell_type": "code",
   "execution_count": 28,
   "id": "14ec8566-21d0-430b-b7d3-516a72cc52bf",
   "metadata": {},
   "outputs": [
    {
     "data": {
      "text/plain": [
       "(227, 1399)"
      ]
     },
     "execution_count": 28,
     "metadata": {},
     "output_type": "execute_result"
    }
   ],
   "source": [
    "df.shape"
   ]
  },
  {
   "cell_type": "markdown",
   "id": "98230e66-e2b2-4696-8c82-dc928a998cf9",
   "metadata": {},
   "source": [
    "## 2. first interpolate"
   ]
  },
  {
   "cell_type": "code",
   "execution_count": null,
   "id": "f9d80972-89d2-4092-a9f4-4cb6f2f52db2",
   "metadata": {},
   "outputs": [],
   "source": [
    "full_df = list(range(df.index[0], df.index[-1]))\n",
    "missing_tpoints = list(set(full_df) - set(df.index.astype(int)))\n",
    "\n",
    "#add missing rows to out dataframe\n",
    "df_with_missing_tpoints = df.reindex(df.index.union(missing_tpoints))\n",
    "\n",
    "#dataframe with only missing timepoints\n",
    "masked_df = df_with_missing_tpoints.loc[missing_tpoints]"
   ]
  },
  {
   "cell_type": "code",
   "execution_count": 30,
   "id": "2c8c5149-7b33-4160-9cc6-3613fe5d5e41",
   "metadata": {},
   "outputs": [],
   "source": [
    "def nearest_interp(col, masked_df):\n",
    "    \n",
    "    df_interpolated = pd.DataFrame(index = masked_df.index)\n",
    "\n",
    "    tmp = masked_df[col]\n",
    "    base_nodes =  tmp.dropna().index #nodes\n",
    "    interpolated_nodes = tmp[tmp.isna()].index #this is being interpolated\n",
    "    \n",
    "    f = interpolate.interp1d(base_nodes,\n",
    "                             tmp.dropna().values,\n",
    "                             kind='nearest')\n",
    "    new_y = f(interpolated_nodes)\n",
    "\n",
    "    name = str(col)\n",
    "    df_interpolated.loc[base_nodes, name] = tmp.dropna().values\n",
    "    df_interpolated.loc[interpolated_nodes, name] = new_y\n",
    "    \n",
    "    return df_interpolated"
   ]
  },
  {
   "cell_type": "code",
   "execution_count": null,
   "id": "074f249e-9c4f-4df8-8aca-11b1abe54b07",
   "metadata": {},
   "outputs": [],
   "source": [
    "interpolated_timepoints = []\n",
    "for col in df_with_missing_tpoints.columns:\n",
    "    y = nearest_interp(col, df_with_missing_tpoints)\n",
    "    interpolated_timepoints.append(y)\n",
    "    \n",
    "nearest_df = pd.concat(interpolated_timepoints, axis=1)"
   ]
  },
  {
   "cell_type": "markdown",
   "id": "c75f00c8-074d-4f61-878b-32ed08cfb060",
   "metadata": {},
   "source": [
    "## 3. remove rare bacteria"
   ]
  },
  {
   "cell_type": "code",
   "execution_count": 36,
   "id": "312ba358-b406-4ddc-a33a-44d91fda496e",
   "metadata": {},
   "outputs": [],
   "source": [
    "#remove very rare bacteria\n",
    "rare_bacteria_df = pd.DataFrame((nearest_df == 0).astype(int).sum(axis = 0))\n",
    "rare_bacteria_col = rare_bacteria_df[rare_bacteria_df[0] > 250].index\n",
    "df_filtered = nearest_df.drop(rare_bacteria_col, axis = 1)"
   ]
  },
  {
   "cell_type": "code",
   "execution_count": 37,
   "id": "9d451a70-6d3c-409c-94e1-634e80017137",
   "metadata": {},
   "outputs": [
    {
     "data": {
      "text/plain": [
       "(279, 364)"
      ]
     },
     "execution_count": 37,
     "metadata": {},
     "output_type": "execute_result"
    }
   ],
   "source": [
    "df_filtered.shape"
   ]
  },
  {
   "cell_type": "code",
   "execution_count": 38,
   "id": "c23b5be0-066e-4a26-a549-4c86343a1e80",
   "metadata": {},
   "outputs": [],
   "source": [
    "df_filtered.index = ['s'+ str(i) for i in df_filtered.index]"
   ]
  },
  {
   "cell_type": "code",
   "execution_count": 40,
   "id": "d6d29747-44fd-4972-a72d-4371bf96a749",
   "metadata": {},
   "outputs": [],
   "source": [
    "#save feature table for mbImpute \n",
    "df_filtered.to_csv('mbimpute_input_data/feature_table.csv', sep = '\\t')"
   ]
  },
  {
   "cell_type": "code",
   "execution_count": null,
   "id": "a10cd03c-fd59-4971-8328-efa97af40f72",
   "metadata": {},
   "outputs": [],
   "source": [
    "# save feature table for distance matrix calculation\n",
    "df_filtered.T.to_csv('mbimpute_input_data/filtered_interpolated_feces_male.tsv',\n",
    "                     sep = '\\t')"
   ]
  },
  {
   "cell_type": "markdown",
   "id": "46f563fa-912d-4359-b7dc-153921e45412",
   "metadata": {},
   "source": [
    "## 4. phylogenetic distance matrix\n",
    "### filter sequences and create phylogenetic tree"
   ]
  },
  {
   "cell_type": "code",
   "execution_count": null,
   "id": "352bc374-8ece-49c5-b6b5-61bc50236aa5",
   "metadata": {},
   "outputs": [],
   "source": [
    "!biom convert -i filtered_interpolated_feces_male.tsv -o featrue_table.biom --table-type=\"OTU table\" --to-hdf5"
   ]
  },
  {
   "cell_type": "code",
   "execution_count": 9,
   "id": "dba9db34-f6fe-4d0f-9129-1630a116db0b",
   "metadata": {},
   "outputs": [],
   "source": [
    "#READ FEATURE TABLE AND SEQUENCES\n",
    "feature_table = qiime2.Artifact.import_data('FeatureTable[Frequency]', 'featrue_table.biom')\n",
    "sequences = qiime2.Artifact.import_data('FeatureData[Sequence]', 'sequences.fa')"
   ]
  },
  {
   "cell_type": "code",
   "execution_count": 18,
   "id": "7e60d9ab-4982-4e11-9a76-8e2647da7c66",
   "metadata": {},
   "outputs": [
    {
     "data": {
      "text/plain": [
       "'filtered_sequences.qza'"
      ]
     },
     "execution_count": 18,
     "metadata": {},
     "output_type": "execute_result"
    }
   ],
   "source": [
    "#FILTER  REP SEQUENCES\n",
    "filtered_sequences = qiime2.plugins.feature_table.methods.filter_seqs(sequences, feature_table)\n",
    "filtered_sequences.filtered_data.save('filtered_sequences.qza')"
   ]
  },
  {
   "cell_type": "code",
   "execution_count": null,
   "id": "7b09fef4-8165-4424-8b7a-36d42d2913ec",
   "metadata": {},
   "outputs": [],
   "source": [
    "#CREATE TREE\n",
    "qiime phylogeny align-to-tree-mafft-fasttree \\\n",
    "  --i-sequences filtered_sequences.qza \\\n",
    "  --o-alignment aligned-rep-seqs.qza \\\n",
    "  --o-masked-alignment masked-aligned-rep-seqs.qza \\\n",
    "  --o-tree unrooted-tree.qza \\\n",
    "  --o-rooted-tree rooted-tree.qza "
   ]
  },
  {
   "cell_type": "code",
   "execution_count": 19,
   "id": "9826fcdb-e819-4956-879e-176af613f1b2",
   "metadata": {},
   "outputs": [],
   "source": [
    "# TRANSFORM TREE INTO DISTANCE MATRIX\n",
    "from skbio import TreeNode\n",
    "\n",
    "tree = Artifact.load('rooted-tree.qza').view(TreeNode)\n",
    "dist = tree.tip_tip_distances()\n",
    "distance_matrix_df = dist.to_data_frame()\n",
    "#SAVE\n",
    "distance_matrix_df.to_csv('mbimpute_input_data/phylogenetic_distance_matrix.tsv', sep = '\\t')"
   ]
  },
  {
   "cell_type": "code",
   "execution_count": 20,
   "id": "929c5af3-f469-4e90-9353-f5c9a90a01d7",
   "metadata": {},
   "outputs": [],
   "source": [
    "#distance_matrix_df = pd.read_csv('phylogenetic_distance_matrix.tsv', sep = '\\t', index_col = [0])"
   ]
  },
  {
   "cell_type": "markdown",
   "id": "b4507e01-249b-4fea-b22d-602409fbaad3",
   "metadata": {},
   "source": [
    "## 5. mbImpute - mbImpute.ipynb"
   ]
  },
  {
   "cell_type": "code",
   "execution_count": 3,
   "id": "6dc23d71-78bb-499e-907e-f4666d1587be",
   "metadata": {},
   "outputs": [],
   "source": [
    "imputed_df = pd.read_csv('mbimpute_output/imputed_feature_table.csv', index_col = [0])"
   ]
  },
  {
   "cell_type": "code",
   "execution_count": 4,
   "id": "1e776bf6-da53-4baf-8d72-0ecf65b1cf8c",
   "metadata": {},
   "outputs": [],
   "source": [
    "imputed_df.T.to_csv('mbimpute_output/imputed_feature_table_t.csv', sep='\\t')"
   ]
  },
  {
   "cell_type": "markdown",
   "id": "2ae84386-7aaf-4053-b80c-f83a30655e2a",
   "metadata": {},
   "source": [
    "## 6. rarefaction after mbImpute"
   ]
  },
  {
   "cell_type": "code",
   "execution_count": null,
   "id": "2063e204-9755-482b-af60-e1ca4fcd97e4",
   "metadata": {},
   "outputs": [],
   "source": [
    "#IMPORT TO BIOM\n",
    "biom convert -i imputed_feature_table_t.csv -o imputed_feature_table.biom --table-type=\"OTU table\" --to-hdf5"
   ]
  },
  {
   "cell_type": "code",
   "execution_count": 12,
   "id": "9837dbe4-7700-4101-bb3a-99a9bcea9b8b",
   "metadata": {},
   "outputs": [],
   "source": [
    "#RAREFY IMPUTED FEATURE TABLE\n",
    "imputed_feature_table = Artifact.import_data('FeatureTable[Frequency]', 'imputed_feature_table.biom')\n",
    "rarefied_imputed_feature_table = qiime2.plugins.feature_table.methods.rarefy(imputed_feature_table, sampling_depth = 16000)"
   ]
  },
  {
   "cell_type": "code",
   "execution_count": 15,
   "id": "61df4d33-4cdc-4e32-bfc0-8a6d756049ce",
   "metadata": {},
   "outputs": [],
   "source": [
    "#CONVERT TO DATAFRAME\n",
    "rarefied_imputed_feature_table_df = rarefied_imputed_feature_table.rarefied_table.view(pd.DataFrame) "
   ]
  },
  {
   "cell_type": "markdown",
   "id": "0a07c997-b106-4d8a-b4bc-e78d800b1431",
   "metadata": {},
   "source": [
    "## 7. second interpolation"
   ]
  },
  {
   "cell_type": "code",
   "execution_count": 27,
   "id": "7e652877-b9e1-4f02-adf7-a76019181e75",
   "metadata": {},
   "outputs": [],
   "source": [
    "#CHANGE INDEX TO INT\n",
    "rarefied_imputed_feature_table_df.index = rarefied_imputed_feature_table_df.index.astype(int)\n",
    "#DEFINE MISSING TIMEPOINTS\n",
    "missing_timepoints = list(set([i for i in range(191, 391)]) - set(rarefied_imputed_feature_table_df.index))\n",
    "#ADD THESE POINTS TO THE DATAFRAME\n",
    "table_with_missing_tpoints = rarefied_imputed_feature_table_df.reindex(rarefied_imputed_feature_table_df.index.union(missing_timepoints))"
   ]
  },
  {
   "cell_type": "code",
   "execution_count": 31,
   "id": "d6677a55-c9a8-4959-9c2f-38843b00924e",
   "metadata": {},
   "outputs": [],
   "source": [
    "#INTERPOLATE USING NEAREST INTERPOLATION METHOD\n",
    "interpolated_timepoints = []\n",
    "for col in table_with_missing_tpoints.columns:\n",
    "    y = nearest_interp(col, table_with_missing_tpoints)\n",
    "    interpolated_timepoints.append(y)\n",
    "\n",
    "impute_rarefied_interpolated_twice_df = pd.concat(interpolated_timepoints, axis=1)"
   ]
  },
  {
   "cell_type": "code",
   "execution_count": 32,
   "id": "569ad90c-1b51-411c-845f-9c12c794d5ee",
   "metadata": {},
   "outputs": [],
   "source": [
    "impute_rarefied_interpolated_twice_df.to_csv('mbimpute_output/impute_rarefied_interpolated_twice_df.csv')"
   ]
  },
  {
   "cell_type": "markdown",
   "id": "4352ad53-74eb-462e-be14-d146a0ec0fbf",
   "metadata": {},
   "source": [
    "### sVAR model"
   ]
  },
  {
   "cell_type": "markdown",
   "id": "dabf803a-2704-474d-94a7-e77f0a297841",
   "metadata": {},
   "source": [
    "### check prediction"
   ]
  },
  {
   "cell_type": "code",
   "execution_count": null,
   "id": "c3336b2e-33c2-406a-a12b-5999c4f209cf",
   "metadata": {},
   "outputs": [],
   "source": [
    "history = data.loc[371:391]\n",
    "\n",
    "mbimpute_pred = pd.read_csv('sVAR2_interpolated_df.csv')\n",
    "mbimpute_pred.columns = history.columns\n",
    "rarefied_pred = pd.read_csv('sVAR2_rarefied_df.csv')\n",
    "rarefied_pred.columns = history.columns\n",
    "\n",
    "mbimpute = impute_rarefied_interpolated_twice_df.loc[371:391]"
   ]
  },
  {
   "cell_type": "code",
   "execution_count": null,
   "id": "763acd6f-fc10-4a93-adc8-ea0059279889",
   "metadata": {},
   "outputs": [],
   "source": [
    "mbimpute.to_csv('mbimpute_history.csv')\n",
    "history.to_csv('rarefied_history.csv')"
   ]
  },
  {
   "cell_type": "code",
   "execution_count": null,
   "id": "0a7f89e9-3546-4f95-bc79-b90a2ad056e1",
   "metadata": {},
   "outputs": [],
   "source": [
    "rarefied_pred[rarefied_pred<0]=0 \n",
    "mbimpute_pred[mbimpute_pred<0]=0 "
   ]
  },
  {
   "cell_type": "code",
   "execution_count": null,
   "id": "30094b97-3813-4664-9606-a704cce799a5",
   "metadata": {},
   "outputs": [],
   "source": [
    "mbimpute_pred.index = mbimpute.index\n",
    "rarefied_pred.index = history.index"
   ]
  },
  {
   "cell_type": "markdown",
   "id": "13228753-c13e-4512-a8bf-626c26a47a01",
   "metadata": {},
   "source": [
    "## verify prediction"
   ]
  },
  {
   "cell_type": "code",
   "execution_count": null,
   "id": "458146b0-d3bd-48cd-aa65-b7d663b5c33d",
   "metadata": {},
   "outputs": [],
   "source": [
    "from scipy import stats"
   ]
  },
  {
   "cell_type": "code",
   "execution_count": null,
   "id": "ebdd7070-447b-4321-a886-5339d9b04e15",
   "metadata": {},
   "outputs": [],
   "source": [
    "RHO = []\n",
    "PVAL = []\n",
    "\n",
    "for col in history.columns:\n",
    "    x = history[col]\n",
    "    y = rarefied_pred[col]\n",
    "\n",
    "    rho, pval = stats.spearmanr(x, y)\n",
    "    RHO.append(rho)"
   ]
  },
  {
   "cell_type": "code",
   "execution_count": null,
   "id": "0e4f2fe5-a49b-447e-9a2b-6c7530ae8c6f",
   "metadata": {},
   "outputs": [],
   "source": [
    "RHO_imputed = []\n",
    "PVAL = []\n",
    "\n",
    "for col in history.columns:\n",
    "    x = mbimpute[col]\n",
    "    y = mbimpute_pred[col]\n",
    "\n",
    "    rho, pval = stats.spearmanr(x, y)\n",
    "    RHO_imputed.append(rho)"
   ]
  },
  {
   "cell_type": "code",
   "execution_count": null,
   "id": "a0dbfa05-3954-4971-918a-e7e4ad73d8b6",
   "metadata": {},
   "outputs": [],
   "source": [
    "rho = pd.DataFrame(RHO_imputed, columns = ['rho'])\n",
    "rho['type'] = 'imputed'\n",
    "rho['bacteria'] = history.columns\n",
    "\n",
    "rho_r = pd.DataFrame(RHO, columns = ['rho'])\n",
    "rho_r['type'] = 'not_imputed'\n",
    "rho_r['bacteria'] = history.columns\n",
    "\n",
    "RHO_DF = rho.append(rho_r)"
   ]
  },
  {
   "cell_type": "code",
   "execution_count": null,
   "id": "3f2a5205-3d87-41ac-8ca9-62bc9a6ab787",
   "metadata": {},
   "outputs": [],
   "source": [
    "RHO_DF = RHO_DF.dropna()"
   ]
  },
  {
   "cell_type": "code",
   "execution_count": null,
   "id": "5bfa0a9a-9c39-4bf7-b578-7dd96e599f41",
   "metadata": {},
   "outputs": [],
   "source": [
    "rho_r[rho_r['rho'] <0]['beacteria'].tolist()"
   ]
  },
  {
   "cell_type": "code",
   "execution_count": null,
   "id": "89c5bd18-5e12-47c2-bb8c-21ab959a39ab",
   "metadata": {},
   "outputs": [],
   "source": [
    "rho[rho['bacteria'] == 'TACGTAGGGGGCAAGCGTTATCCGGATTTACTGGGTGTAAAGGGAGCGTAGACGGAAGAGCAAGTCTGATGTGAAAGGCTGGGGCTTAACCCCAGGACTG']"
   ]
  },
  {
   "cell_type": "code",
   "execution_count": null,
   "id": "8b48bb8c-3587-4e19-aee5-bab9bcd53b28",
   "metadata": {},
   "outputs": [],
   "source": [
    "sns.boxplot(y = RHO_DF['rho'], x = RHO_DF['type'], color = 'White', linewidth = .8, width = .4)\n",
    "sns.swarmplot(y = RHO_DF['rho'], x = RHO_DF['type'], palette = 'Set1', s = 7, alpha = .4)\n",
    "plt.savefig('spearman_rho_imputed_svar2.png')"
   ]
  },
  {
   "cell_type": "code",
   "execution_count": null,
   "id": "c14b9af9-05b6-4c5d-ab97-95bb3a74a443",
   "metadata": {},
   "outputs": [],
   "source": [
    "rarest_bacteria = pd.DataFrame(mbimpute.describe().loc['mean']).sort_values(by=['mean']).head(20).index"
   ]
  }
 ],
 "metadata": {
  "kernelspec": {
   "display_name": "qiime2_env",
   "language": "python",
   "name": "qiime2_env"
  },
  "language_info": {
   "codemirror_mode": {
    "name": "ipython",
    "version": 3
   },
   "file_extension": ".py",
   "mimetype": "text/x-python",
   "name": "python",
   "nbconvert_exporter": "python",
   "pygments_lexer": "ipython3",
   "version": "3.8.12"
  }
 },
 "nbformat": 4,
 "nbformat_minor": 5
}
