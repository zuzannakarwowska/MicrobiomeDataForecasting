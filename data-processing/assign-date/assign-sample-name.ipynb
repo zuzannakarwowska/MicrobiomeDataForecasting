{
 "cells": [
  {
   "cell_type": "code",
   "execution_count": 1,
   "id": "bdbdd010-4ed0-4c49-bf62-a53ee54b7fea",
   "metadata": {},
   "outputs": [],
   "source": [
    "import pandas as pd"
   ]
  },
  {
   "cell_type": "markdown",
   "id": "5e438aaf-a932-4dcb-84c0-6cc45025fcb1",
   "metadata": {},
   "source": [
    "# DATASET QIITA 550"
   ]
  },
  {
   "cell_type": "code",
   "execution_count": 2,
   "id": "b77eb259-ac0d-4ef7-a40c-82d605c62e15",
   "metadata": {},
   "outputs": [
    {
     "name": "stdout",
     "output_type": "stream",
     "text": [
      "/storage/zkarwowska/microbiome-interactions/datasets/processed\n"
     ]
    }
   ],
   "source": [
    "%cd /storage/zkarwowska/microbiome-interactions/datasets/processed/"
   ]
  },
  {
   "cell_type": "code",
   "execution_count": 3,
   "id": "396f7c98-6cf2-4a77-826e-a45faabe8066",
   "metadata": {},
   "outputs": [],
   "source": [
    "# read feature table\n",
    "#DF = pd.read_csv('raw_data/550_reference.tsv', skiprows=[0], sep = '\\t', index_col=[0])\n",
    "\n",
    "FILE = 'taxonomy/550_class.csv'\n",
    "DF = pd.read_csv(FILE, index_col = [0]).T\n",
    "\n",
    "# read metadata\n",
    "METADATA = pd.read_csv('qiita_550/raw_data/550_metadata.txt', sep='\\t')\n",
    "METADATA = METADATA[METADATA['sample_name'].isin(DF.columns)]"
   ]
  },
  {
   "cell_type": "code",
   "execution_count": 4,
   "id": "3129a999-b38a-44f2-bfa2-c311fe735620",
   "metadata": {},
   "outputs": [],
   "source": [
    "# filter samples where body_site=UBERON:feces & mislabeled=False \n",
    "# split dataset to male and female sub-datasets\n",
    "\n",
    "FEMALE_GUT_SAMPLES = METADATA[(METADATA['body_site']=='UBERON:feces')&(METADATA['mislabeled']==False)&(METADATA['sex']=='female')]['sample_name']\n",
    "MALE_GUT_SAMPLES = METADATA[(METADATA['body_site']=='UBERON:feces')&(METADATA['mislabeled']==False)&(METADATA['sex']=='male')]['sample_name']\n",
    "\n",
    "FEMALE_GUT_DF = DF[FEMALE_GUT_SAMPLES]\n",
    "MALE_GUT_DF = DF[MALE_GUT_SAMPLES]"
   ]
  },
  {
   "cell_type": "code",
   "execution_count": 5,
   "id": "38e62978-8264-47ed-926f-729db451f7b6",
   "metadata": {},
   "outputs": [],
   "source": [
    "# change sample name to time step for each subject seperately\n",
    "FEMALE_METADATA = METADATA[METADATA['sample_name'].isin(FEMALE_GUT_SAMPLES)]\n",
    "MALE_METADATA = METADATA[METADATA['sample_name'].isin(MALE_GUT_SAMPLES)]\n",
    "\n",
    "MALE_DICT = dict(zip(MALE_METADATA['sample_name'], MALE_METADATA['days_since_experiment_start']))\n",
    "FEMALE_DICT = dict(zip(FEMALE_METADATA['sample_name'], FEMALE_METADATA['days_since_experiment_start']))\n",
    "\n",
    "FEMALE_GUT_TIMESTEP = FEMALE_GUT_DF.rename(columns=FEMALE_DICT).T\n",
    "MALE_GUT_TIMESTEP = MALE_GUT_DF.rename(columns=MALE_DICT).T"
   ]
  },
  {
   "cell_type": "code",
   "execution_count": 6,
   "id": "aa6884d8-b6a4-40b3-af41-8c7fa8289bf7",
   "metadata": {},
   "outputs": [],
   "source": [
    "FEMALE_GUT_TIMESTEP = FEMALE_GUT_TIMESTEP.sort_index()\n",
    "MALE_GUT_TIMESTEP = MALE_GUT_TIMESTEP.sort_index()"
   ]
  },
  {
   "cell_type": "code",
   "execution_count": 7,
   "id": "fde3f5e0-f2a9-4ac1-9e1c-5aed0ddbefdb",
   "metadata": {},
   "outputs": [],
   "source": [
    "# drop columns with all zeros\n",
    "MALE_GUT_TIMESTEP = MALE_GUT_TIMESTEP.loc[:, (MALE_GUT_TIMESTEP != 0).any(axis=0)]\n",
    "FEMALE_GUT_TIMESTEP = FEMALE_GUT_TIMESTEP.loc[:, (FEMALE_GUT_TIMESTEP != 0).any(axis=0)]"
   ]
  },
  {
   "cell_type": "code",
   "execution_count": 8,
   "id": "4256472e-81cb-4db5-8bd4-52b1827287ab",
   "metadata": {},
   "outputs": [],
   "source": [
    "MALE_GUT_TIMESTEP.index.name='timestep'\n",
    "FEMALE_GUT_TIMESTEP.index.name='timestep'"
   ]
  },
  {
   "cell_type": "code",
   "execution_count": 9,
   "id": "6ad7f49e-ee54-4075-be88-013c93ff1b62",
   "metadata": {},
   "outputs": [],
   "source": [
    "# save files to csv\n",
    "# saved dataframe will have OTUs as columns and timesteps as rows\n",
    "PATH = 'ready_datasets_assigned_taxonomy/'\n",
    "MALE_GUT_TIMESTEP.to_csv(PATH + 'male_class.csv')\n",
    "FEMALE_GUT_TIMESTEP.to_csv(PATH + 'female_class.csv')"
   ]
  },
  {
   "cell_type": "markdown",
   "id": "2ff29ef4-b37c-4cc2-9292-6ddd58df58b7",
   "metadata": {},
   "source": [
    "# DATASET QIITA 2202"
   ]
  },
  {
   "cell_type": "code",
   "execution_count": null,
   "id": "51d38fb6-6aad-436b-9a54-0bad470f5080",
   "metadata": {},
   "outputs": [],
   "source": [
    "%cd qiita_2202/"
   ]
  },
  {
   "cell_type": "code",
   "execution_count": null,
   "id": "6e133ab0-5ef0-47a6-9e70-49594042b3bb",
   "metadata": {},
   "outputs": [],
   "source": [
    "# read feature table\n",
    "DF = pd.read_csv('2202_feature_table.tsv', skiprows=[0], sep = '\\t', index_col=[0])\n",
    "\n",
    "# read metadata\n",
    "METADATA = pd.read_csv('2202_metadata.tsv', sep='\\t')\n",
    "METADATA = METADATA[METADATA['sample_id'].isin(DF.columns)]"
   ]
  },
  {
   "cell_type": "code",
   "execution_count": null,
   "id": "21abcc15-42ce-4430-a678-07702201bc47",
   "metadata": {},
   "outputs": [],
   "source": [
    "# filter samples where body_site=UBERON:feces & mislabeled=False \n",
    "# split dataset to DONOR A and DONOR B sub-datasets\n",
    "\n",
    "DONORA_GUT_SAMPLES = METADATA[(METADATA['body_site']=='UBERON:feces')&(METADATA['host_subject_id']=='DonorA')]['sample_id']\n",
    "DONORB_GUT_SAMPLES = METADATA[(METADATA['body_site']=='UBERON:feces')&(METADATA['host_subject_id']=='DonorB')]['sample_id']\n",
    "\n",
    "DONORA_GUT_DF = DF[DONORA_GUT_SAMPLES]\n",
    "DONORB_GUT_DF = DF[DONORB_GUT_SAMPLES]\n",
    "\n",
    "# change sample name to time step for each subject seperately\n",
    "DONORA_METADATA = METADATA[METADATA['sample_id'].isin(DONORA_GUT_SAMPLES)]\n",
    "DONORB_METADATA = METADATA[METADATA['sample_id'].isin(DONORB_GUT_SAMPLES)]\n",
    "\n",
    "DONORA_DICT = dict(zip(DONORA_METADATA['sample_id'], DONORA_METADATA['collection_day']))\n",
    "DONORB_DICT = dict(zip(DONORB_METADATA['sample_id'], DONORB_METADATA['collection_day']))\n",
    "\n",
    "DONORA_GUT_TIMESTEP = DONORA_GUT_DF.rename(columns=DONORA_DICT).T\n",
    "DONORB_GUT_TIMESTEP = DONORB_GUT_DF.rename(columns=DONORB_DICT).T\n",
    "\n",
    "#sort index\n",
    "DONORA_GUT_TIMESTEP = DONORA_GUT_TIMESTEP.sort_index()\n",
    "DONORB_GUT_TIMESTEP = DONORB_GUT_TIMESTEP.sort_index()\n",
    "\n",
    "# drop columns with all zeros\n",
    "DONORA_GUT_TIMESTEP = DONORA_GUT_TIMESTEP.loc[:, (DONORA_GUT_TIMESTEP != 0).any(axis=0)]\n",
    "DONORB_GUT_TIMESTEP = DONORB_GUT_TIMESTEP.loc[:, (DONORB_GUT_TIMESTEP != 0).any(axis=0)]\n",
    "\n",
    "DONORA_GUT_TIMESTEP.index.name='timestep'\n",
    "DONORB_GUT_TIMESTEP.index.name='timestep'"
   ]
  },
  {
   "cell_type": "code",
   "execution_count": null,
   "id": "e5ddc364-8f47-4d94-a56c-54848047afc7",
   "metadata": {},
   "outputs": [],
   "source": [
    "!mkdir assigned_sample_names_data"
   ]
  },
  {
   "cell_type": "code",
   "execution_count": null,
   "id": "07cd2db1-6ad7-478d-b36e-8bb3f3ba7ef2",
   "metadata": {},
   "outputs": [],
   "source": [
    "# save files to csv\n",
    "# saved dataframe will have OTUs as columns and timesteps as rows\n",
    "\n",
    "PATH = 'assigned_sample_names_data/'\n",
    "DONORA_GUT_TIMESTEP.to_csv(PATH + 'donorA_assigned_sample_names.csv')\n",
    "DONORB_GUT_TIMESTEP.to_csv(PATH + 'donorB_assigned_sample_names.csv')"
   ]
  }
 ],
 "metadata": {
  "kernelspec": {
   "display_name": "basic_env",
   "language": "python",
   "name": "basic_env"
  },
  "language_info": {
   "codemirror_mode": {
    "name": "ipython",
    "version": 3
   },
   "file_extension": ".py",
   "mimetype": "text/x-python",
   "name": "python",
   "nbconvert_exporter": "python",
   "pygments_lexer": "ipython3",
   "version": "3.6.2"
  }
 },
 "nbformat": 4,
 "nbformat_minor": 5
}
