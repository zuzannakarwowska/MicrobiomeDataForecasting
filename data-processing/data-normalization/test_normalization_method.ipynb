{
 "cells": [
  {
   "cell_type": "code",
   "execution_count": null,
   "id": "1a1dcbef-770c-4c52-9e40-4ea9bd1ba398",
   "metadata": {},
   "outputs": [],
   "source": [
    "import pandas as pd\n",
    "\n",
    "#qiime2\n",
    "import qiime2\n",
    "from qiime2 import Artifact, Metadata\n",
    "from qiime2.plugins.feature_table.methods import rarefy\n",
    "from qiime2.plugins.feature_table.visualizers import summarize\n",
    "\n",
    "#CLR transformation\n",
    "from skbio.stats.composition import clr\n",
    "from scipy.stats import gmean\n",
    "\n",
    "import warnings"
   ]
  },
  {
   "cell_type": "code",
   "execution_count": null,
   "id": "6801dbfc-ec79-434e-a3ea-691e4ef2f79d",
   "metadata": {},
   "outputs": [],
   "source": [
    "warnings.filterwarnings('ignore')"
   ]
  },
  {
   "cell_type": "code",
   "execution_count": null,
   "id": "d16be612-4d5b-4ca6-a133-cd0cd68bec7b",
   "metadata": {},
   "outputs": [],
   "source": [
    "#read data - male\n",
    "raw_data = pd.read_csv('raw_male_feces.csv')"
   ]
  },
  {
   "cell_type": "markdown",
   "id": "2a91fb14-591b-4a6e-8d94-a1b3c32c936f",
   "metadata": {},
   "source": [
    "### rarefaction"
   ]
  },
  {
   "cell_type": "code",
   "execution_count": null,
   "id": "bcc4d41c-9ac5-4bde-9a7b-ed88ebe3f87e",
   "metadata": {},
   "outputs": [],
   "source": [
    "#transform data ti biom to use it in qiime2\n",
    "!biom convert -i raw_male_feces.csv -o raw_male_feces.biom --table-type=\"OTU table\" --to-hdf5\n",
    "#import to qiime2 format\n",
    "unrarefied_table = Artifact.import_data(\"FeatureTable[Frequency]\", 'raw_male_feces.biom')"
   ]
  },
  {
   "cell_type": "code",
   "execution_count": null,
   "id": "ae423f12-4b7c-4173-bf1c-83f77beed941",
   "metadata": {},
   "outputs": [],
   "source": [
    "#visualize table to select suitable cutoff\n",
    "SUMMARY = summarize(unrarefied_table)\n",
    "SUMMARY.visualization"
   ]
  },
  {
   "cell_type": "code",
   "execution_count": null,
   "id": "3a89105e-7b32-4ec5-9f4c-92431d252982",
   "metadata": {},
   "outputs": [],
   "source": [
    "#rarefy table\n",
    "rarefy_result = rarefy(table=unrarefied_table, sampling_depth=26500) #16000\n",
    "rarefied_table = rarefy_result.rarefied_table\n",
    "#convert to csv\n",
    "rarefied_table_df = rarefied_table.view(pd.DataFrame)"
   ]
  },
  {
   "cell_type": "code",
   "execution_count": null,
   "id": "7a586941-f33a-4437-9bc2-9cdf1e6e9bbe",
   "metadata": {},
   "outputs": [],
   "source": [
    "rarefied_table_df.to_csv('male_rarefied_df.csv', sep = '\\t')"
   ]
  },
  {
   "cell_type": "markdown",
   "id": "d71b1206-5999-4998-bde0-88d5731a01d5",
   "metadata": {},
   "source": [
    "### clr transformation"
   ]
  },
  {
   "cell_type": "code",
   "execution_count": null,
   "id": "dee2f1a8-a114-41ef-b852-2c6ec85f42b8",
   "metadata": {},
   "outputs": [],
   "source": [
    "raw_data = unrarefied_table.view(pd.DataFrame)"
   ]
  },
  {
   "cell_type": "code",
   "execution_count": null,
   "id": "a187a546-c0e3-4a10-a09b-9df2cbd10141",
   "metadata": {},
   "outputs": [],
   "source": [
    "df_pseudocount = raw_data + 1e-5\n",
    "clr_df = df_pseudocount.apply(clr)\n",
    "clr_df[clr_df < 0] = 0"
   ]
  },
  {
   "cell_type": "code",
   "execution_count": null,
   "id": "f0e9cc48-77ba-4966-a2c6-43fc19ad951f",
   "metadata": {},
   "outputs": [],
   "source": [
    "clr_df.to_csv('male_clr_df.csv', sep = '\\t')"
   ]
  },
  {
   "cell_type": "markdown",
   "id": "f1fb5daa-a0ea-44b5-b16c-c8c79c903961",
   "metadata": {},
   "source": [
    "### rclr transformation"
   ]
  },
  {
   "cell_type": "code",
   "execution_count": null,
   "id": "b4b81ae0-4328-4a41-934c-14ed33a396f2",
   "metadata": {},
   "outputs": [],
   "source": [
    "def rclr(x):\n",
    "    \n",
    "    dropna_x = [i for i in x if i != 0]\n",
    "    g = gmean(dropna_x)\n",
    "    \n",
    "    return np.log(x/g)\n",
    "\n",
    "rclr_df = raw_data.apply(rclr, axis = 1)\n",
    "rclr_df[rclr_df < 0] = 0"
   ]
  },
  {
   "cell_type": "code",
   "execution_count": null,
   "id": "908a72b7-1262-42f4-8833-1fdaf4cb9389",
   "metadata": {},
   "outputs": [],
   "source": [
    "rclr_df.to_csv('male_rclr_df.csv', sep = '\\t')"
   ]
  }
 ],
 "metadata": {
  "kernelspec": {
   "display_name": "qiime2_env",
   "language": "python",
   "name": "qiime2_env"
  },
  "language_info": {
   "codemirror_mode": {
    "name": "ipython",
    "version": 3
   },
   "file_extension": ".py",
   "mimetype": "text/x-python",
   "name": "python",
   "nbconvert_exporter": "python",
   "pygments_lexer": "ipython3",
   "version": "3.6.11"
  }
 },
 "nbformat": 4,
 "nbformat_minor": 5
}
