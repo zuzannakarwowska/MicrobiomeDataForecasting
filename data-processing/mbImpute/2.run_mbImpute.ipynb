{
 "cells": [
  {
   "cell_type": "code",
   "execution_count": 2,
   "id": "c64749bf-4d1c-42c6-bdb6-3bf182bd4acb",
   "metadata": {},
   "outputs": [],
   "source": [
    "library(mbImpute)\n",
    "library(glmnet)\n",
    "library(Matrix)\n",
    "library(dplyr)"
   ]
  },
  {
   "cell_type": "code",
   "execution_count": 16,
   "id": "e635197c-8f9b-462d-a82d-14eaa3ee51a6",
   "metadata": {},
   "outputs": [],
   "source": [
    "#READ FEATURE TABLE AND PHYLOGENETIC DISTANCE MATRIX\n",
    "df <- read.table('mbimpute_data/feature_table.csv', header= TRUE)\n",
    "d <- read.table('mbimpute_data/phylogenetic_distance_matrix.tsv')\n",
    "\n",
    "#CHANGE INDEX NAME TO INT\n",
    "names <- seq(113, 391, by=1)\n",
    "rownames(df) <- names\n",
    "\n",
    "#MBIMPUTE\n",
    "imputed_count_mat_list <- mbImpute(otu_tab = df,  D = d)\n",
    "\n",
    "#GET IMPUED DATA ON THE ORIGINAL SCALE\n",
    "imputed_df <- imputed_count_mat_list$imp_count_mat_origlibsize\n",
    "\n",
    "#SAVE OUTPUT\n",
    "write.csv(imputed_df, 'imputed_feature_table.csv')"
   ]
  }
 ],
 "metadata": {
  "kernelspec": {
   "display_name": "R",
   "language": "R",
   "name": "ir"
  },
  "language_info": {
   "codemirror_mode": "r",
   "file_extension": ".r",
   "mimetype": "text/x-r-source",
   "name": "R",
   "pygments_lexer": "r",
   "version": "3.6.1"
  }
 },
 "nbformat": 4,
 "nbformat_minor": 5
}
