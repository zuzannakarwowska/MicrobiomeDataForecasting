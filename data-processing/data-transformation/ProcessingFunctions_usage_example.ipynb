{
 "cells": [
  {
   "cell_type": "markdown",
   "id": "7c66dbaa-b2d4-4e26-a1cd-c28335582596",
   "metadata": {},
   "source": [
    "## MICROBIOME DATA PROCESSING PIPELINE\n",
    "#### THIS CODE SHOWS HOW TO USE CLASSES IN ProcessingFunctions.py to prepare microbiome data for further use in regression models\n",
    "#"
   ]
  },
  {
   "cell_type": "markdown",
   "id": "d97f6996-1ede-45de-a6df-a194ad55efb2",
   "metadata": {},
   "source": [
    "#### STEPS\n",
    "##### 1. filtering rare bacteria using MicrobiomeDataPreprocessing.filter_rare_features()\n",
    "##### 2. transform data using Centered Log Ration transform using MicrobiomeDataPreprocessing.CLRTransformer()\n",
    "##### 3. change dataframe into a sueprvised problem using MicrobiomeDataPreprocessing.make_supervised()\n",
    "##### 4. split data into train and test using MicrobiomeTraintestSplit.last_block_split() or MicrobiomeTraintestSplit.blocked_split()\n"
   ]
  },
  {
   "cell_type": "markdown",
   "id": "bd95254e-f7ba-4c51-9393-1fbfc14ba1a2",
   "metadata": {},
   "source": [
    "#"
   ]
  },
  {
   "cell_type": "code",
   "execution_count": null,
   "id": "af7c16a4-6d7c-45fc-a05f-524975e8fc5d",
   "metadata": {},
   "outputs": [],
   "source": [
    "import pandas as pd\n",
    "import random\n",
    "import numpy as np\n",
    "\n",
    "import statsmodels.api as sm\n",
    "\n",
    "import os\n",
    "import sys"
   ]
  },
  {
   "cell_type": "code",
   "execution_count": 2,
   "id": "95ac719f-a2ad-4e59-aa12-377e5f3c0cdc",
   "metadata": {},
   "outputs": [],
   "source": [
    "MODULE_PATH = os.path.abspath('.') \n",
    "if MODULE_PATH not in sys.path:\n",
    "    sys.path.append(MODULE_PATH)\n",
    "\n",
    "from ProcessingFunctions import MicrobiomeDataPreprocessing, CLRTransformer, MicrobiomeTraintestSplit"
   ]
  },
  {
   "cell_type": "code",
   "execution_count": 3,
   "id": "f3dc5cd4-b1e6-41fb-b9ec-6741edfd8772",
   "metadata": {},
   "outputs": [],
   "source": [
    "names = ['asv1',\n",
    "         'asv2',\n",
    "         'asv3']\n",
    "\n",
    "\n",
    "counts = np.array([[ 0.,  10.,  12.],\n",
    "                   [19.,  20.,  10.],\n",
    "                   [ 0.,  22.,  3.],\n",
    "                   [26.,  35.,  3.],\n",
    "                   [ 8.,  18.,  55.],\n",
    "                   [ 0.,  0.,  60.],\n",
    "                   [13.,  0.,  65.],\n",
    "                   [ 0.,  0.,  60.],\n",
    "                   [13.,  0.,  65.],\n",
    "                   [ 0.,  0.,  60.],\n",
    "                   [13.,  0.,  65.],\n",
    "                   [ 4.,  3.,  70.],\n",
    "                   [ 0.,  0.,  30.],\n",
    "                   [ 0.,  12.,  25.]])\n",
    "\n",
    "df = pd.DataFrame(counts, columns = names)"
   ]
  },
  {
   "cell_type": "code",
   "execution_count": 4,
   "id": "780e77d4-def7-4505-b00c-44a7b9994cea",
   "metadata": {},
   "outputs": [
    {
     "data": {
      "text/html": [
       "<div>\n",
       "<style scoped>\n",
       "    .dataframe tbody tr th:only-of-type {\n",
       "        vertical-align: middle;\n",
       "    }\n",
       "\n",
       "    .dataframe tbody tr th {\n",
       "        vertical-align: top;\n",
       "    }\n",
       "\n",
       "    .dataframe thead th {\n",
       "        text-align: right;\n",
       "    }\n",
       "</style>\n",
       "<table border=\"1\" class=\"dataframe\">\n",
       "  <thead>\n",
       "    <tr style=\"text-align: right;\">\n",
       "      <th></th>\n",
       "      <th>asv1</th>\n",
       "      <th>asv2</th>\n",
       "      <th>asv3</th>\n",
       "    </tr>\n",
       "  </thead>\n",
       "  <tbody>\n",
       "    <tr>\n",
       "      <th>0</th>\n",
       "      <td>0.0</td>\n",
       "      <td>10.0</td>\n",
       "      <td>12.0</td>\n",
       "    </tr>\n",
       "    <tr>\n",
       "      <th>1</th>\n",
       "      <td>19.0</td>\n",
       "      <td>20.0</td>\n",
       "      <td>10.0</td>\n",
       "    </tr>\n",
       "  </tbody>\n",
       "</table>\n",
       "</div>"
      ],
      "text/plain": [
       "   asv1  asv2  asv3\n",
       "0   0.0  10.0  12.0\n",
       "1  19.0  20.0  10.0"
      ]
     },
     "execution_count": 4,
     "metadata": {},
     "output_type": "execute_result"
    }
   ],
   "source": [
    "df.head(2)"
   ]
  },
  {
   "cell_type": "code",
   "execution_count": 5,
   "id": "db82f27c-b6a7-4b43-8fa0-5c29937ac1b9",
   "metadata": {},
   "outputs": [],
   "source": [
    "processing= MicrobiomeDataPreprocessing()"
   ]
  },
  {
   "cell_type": "markdown",
   "id": "c7f9a08c-466e-4545-af5d-d972c4940c5a",
   "metadata": {},
   "source": [
    "#### 1. FILTER RARE BACTERIA"
   ]
  },
  {
   "cell_type": "code",
   "execution_count": 6,
   "id": "68e78eb0-182b-4383-992e-711db3861fe9",
   "metadata": {},
   "outputs": [],
   "source": [
    "filtered_df = processing.filter_rare_features(df)"
   ]
  },
  {
   "cell_type": "markdown",
   "id": "84955d5b-eb4b-4bb0-bd17-62b7b16466f6",
   "metadata": {},
   "source": [
    "#### 2. CLR TRANSFORM"
   ]
  },
  {
   "cell_type": "code",
   "execution_count": 7,
   "id": "70869094-6fb8-4452-8b78-a6c7621cc8a8",
   "metadata": {},
   "outputs": [],
   "source": [
    "transformer = CLRTransformer(is_pseudo_global=True, axis=1)\n",
    "transformer.fit(filtered_df)\n",
    "\n",
    "df_transformed = transformer.transform(filtered_df)"
   ]
  },
  {
   "cell_type": "code",
   "execution_count": 8,
   "id": "fbfdf249-4dec-4dcd-a97e-6630f0b8d1a9",
   "metadata": {},
   "outputs": [
    {
     "data": {
      "text/html": [
       "<div>\n",
       "<style scoped>\n",
       "    .dataframe tbody tr th:only-of-type {\n",
       "        vertical-align: middle;\n",
       "    }\n",
       "\n",
       "    .dataframe tbody tr th {\n",
       "        vertical-align: top;\n",
       "    }\n",
       "\n",
       "    .dataframe thead th {\n",
       "        text-align: right;\n",
       "    }\n",
       "</style>\n",
       "<table border=\"1\" class=\"dataframe\">\n",
       "  <thead>\n",
       "    <tr style=\"text-align: right;\">\n",
       "      <th></th>\n",
       "      <th>asv1</th>\n",
       "      <th>asv2</th>\n",
       "      <th>asv3</th>\n",
       "    </tr>\n",
       "  </thead>\n",
       "  <tbody>\n",
       "    <tr>\n",
       "      <th>0</th>\n",
       "      <td>-3.933536</td>\n",
       "      <td>1.875607</td>\n",
       "      <td>2.057929</td>\n",
       "    </tr>\n",
       "    <tr>\n",
       "      <th>1</th>\n",
       "      <td>0.196854</td>\n",
       "      <td>0.248147</td>\n",
       "      <td>-0.445000</td>\n",
       "    </tr>\n",
       "  </tbody>\n",
       "</table>\n",
       "</div>"
      ],
      "text/plain": [
       "       asv1      asv2      asv3\n",
       "0 -3.933536  1.875607  2.057929\n",
       "1  0.196854  0.248147 -0.445000"
      ]
     },
     "execution_count": 8,
     "metadata": {},
     "output_type": "execute_result"
    }
   ],
   "source": [
    "df_transformed.head(2)"
   ]
  },
  {
   "cell_type": "markdown",
   "id": "f3595967-892d-45a7-a7a1-277ec6693cc8",
   "metadata": {},
   "source": [
    "#### 3. CONVERT DATAFRAME TO SUPERVISED PROBLEM\n",
    "#### _a. with transformed target variable_"
   ]
  },
  {
   "cell_type": "code",
   "execution_count": 9,
   "id": "c8dc1bad-2c16-4afd-95e8-7d6c0d42123d",
   "metadata": {},
   "outputs": [],
   "source": [
    "lag = 3\n",
    "df_clr_supervised = processing.make_supervised(df_transformed, lag)"
   ]
  },
  {
   "cell_type": "code",
   "execution_count": 10,
   "id": "ac166341-1bd5-494c-9035-314680210393",
   "metadata": {},
   "outputs": [
    {
     "data": {
      "text/html": [
       "<div>\n",
       "<style scoped>\n",
       "    .dataframe tbody tr th:only-of-type {\n",
       "        vertical-align: middle;\n",
       "    }\n",
       "\n",
       "    .dataframe tbody tr th {\n",
       "        vertical-align: top;\n",
       "    }\n",
       "\n",
       "    .dataframe thead th {\n",
       "        text-align: right;\n",
       "    }\n",
       "</style>\n",
       "<table border=\"1\" class=\"dataframe\">\n",
       "  <thead>\n",
       "    <tr style=\"text-align: right;\">\n",
       "      <th></th>\n",
       "      <th>asv1_lag0</th>\n",
       "      <th>asv2_lag0</th>\n",
       "      <th>asv3_lag0</th>\n",
       "      <th>asv1_lag1</th>\n",
       "      <th>asv2_lag1</th>\n",
       "      <th>asv3_lag1</th>\n",
       "      <th>asv1_lag2</th>\n",
       "      <th>asv2_lag2</th>\n",
       "      <th>asv3_lag2</th>\n",
       "      <th>asv1_lag3</th>\n",
       "      <th>asv2_lag3</th>\n",
       "      <th>asv3_lag3</th>\n",
       "    </tr>\n",
       "  </thead>\n",
       "  <tbody>\n",
       "    <tr>\n",
       "      <th>3</th>\n",
       "      <td>0.620744</td>\n",
       "      <td>0.917996</td>\n",
       "      <td>-1.538740</td>\n",
       "      <td>-3.734257</td>\n",
       "      <td>2.863344</td>\n",
       "      <td>0.870913</td>\n",
       "      <td>0.196854</td>\n",
       "      <td>0.248147</td>\n",
       "      <td>-0.445000</td>\n",
       "      <td>-3.933536</td>\n",
       "      <td>1.875607</td>\n",
       "      <td>2.057929</td>\n",
       "    </tr>\n",
       "    <tr>\n",
       "      <th>4</th>\n",
       "      <td>-0.912941</td>\n",
       "      <td>-0.102010</td>\n",
       "      <td>1.014951</td>\n",
       "      <td>0.620744</td>\n",
       "      <td>0.917996</td>\n",
       "      <td>-1.538740</td>\n",
       "      <td>-3.734257</td>\n",
       "      <td>2.863344</td>\n",
       "      <td>0.870913</td>\n",
       "      <td>0.196854</td>\n",
       "      <td>0.248147</td>\n",
       "      <td>-0.445000</td>\n",
       "    </tr>\n",
       "  </tbody>\n",
       "</table>\n",
       "</div>"
      ],
      "text/plain": [
       "   asv1_lag0  asv2_lag0  asv3_lag0  asv1_lag1  asv2_lag1  asv3_lag1  \\\n",
       "3   0.620744   0.917996  -1.538740  -3.734257   2.863344   0.870913   \n",
       "4  -0.912941  -0.102010   1.014951   0.620744   0.917996  -1.538740   \n",
       "\n",
       "   asv1_lag2  asv2_lag2  asv3_lag2  asv1_lag3  asv2_lag3  asv3_lag3  \n",
       "3   0.196854   0.248147  -0.445000  -3.933536   1.875607   2.057929  \n",
       "4  -3.734257   2.863344   0.870913   0.196854   0.248147  -0.445000  "
      ]
     },
     "execution_count": 10,
     "metadata": {},
     "output_type": "execute_result"
    }
   ],
   "source": [
    "df_clr_supervised.head(2)"
   ]
  },
  {
   "cell_type": "markdown",
   "id": "83e16934-4fdb-44d6-884b-b77596fd347c",
   "metadata": {},
   "source": [
    "#### _b. target variable on original scale_"
   ]
  },
  {
   "cell_type": "code",
   "execution_count": 11,
   "id": "38433931-cc51-4164-a6a3-f51f3929f50a",
   "metadata": {},
   "outputs": [],
   "source": [
    "y = filtered_df.iloc[3:]\n",
    "df_clr_supervised.iloc[:, :3] = y.values"
   ]
  },
  {
   "cell_type": "code",
   "execution_count": 12,
   "id": "056676f4-eeab-4ac5-9b1c-bef07b73d749",
   "metadata": {},
   "outputs": [
    {
     "data": {
      "text/html": [
       "<div>\n",
       "<style scoped>\n",
       "    .dataframe tbody tr th:only-of-type {\n",
       "        vertical-align: middle;\n",
       "    }\n",
       "\n",
       "    .dataframe tbody tr th {\n",
       "        vertical-align: top;\n",
       "    }\n",
       "\n",
       "    .dataframe thead th {\n",
       "        text-align: right;\n",
       "    }\n",
       "</style>\n",
       "<table border=\"1\" class=\"dataframe\">\n",
       "  <thead>\n",
       "    <tr style=\"text-align: right;\">\n",
       "      <th></th>\n",
       "      <th>asv1_lag0</th>\n",
       "      <th>asv2_lag0</th>\n",
       "      <th>asv3_lag0</th>\n",
       "      <th>asv1_lag1</th>\n",
       "      <th>asv2_lag1</th>\n",
       "      <th>asv3_lag1</th>\n",
       "      <th>asv1_lag2</th>\n",
       "      <th>asv2_lag2</th>\n",
       "      <th>asv3_lag2</th>\n",
       "      <th>asv1_lag3</th>\n",
       "      <th>asv2_lag3</th>\n",
       "      <th>asv3_lag3</th>\n",
       "    </tr>\n",
       "  </thead>\n",
       "  <tbody>\n",
       "    <tr>\n",
       "      <th>3</th>\n",
       "      <td>26.0</td>\n",
       "      <td>35.0</td>\n",
       "      <td>3.0</td>\n",
       "      <td>-3.734257</td>\n",
       "      <td>2.863344</td>\n",
       "      <td>0.870913</td>\n",
       "      <td>0.196854</td>\n",
       "      <td>0.248147</td>\n",
       "      <td>-0.445000</td>\n",
       "      <td>-3.933536</td>\n",
       "      <td>1.875607</td>\n",
       "      <td>2.057929</td>\n",
       "    </tr>\n",
       "    <tr>\n",
       "      <th>4</th>\n",
       "      <td>8.0</td>\n",
       "      <td>18.0</td>\n",
       "      <td>55.0</td>\n",
       "      <td>0.620744</td>\n",
       "      <td>0.917996</td>\n",
       "      <td>-1.538740</td>\n",
       "      <td>-3.734257</td>\n",
       "      <td>2.863344</td>\n",
       "      <td>0.870913</td>\n",
       "      <td>0.196854</td>\n",
       "      <td>0.248147</td>\n",
       "      <td>-0.445000</td>\n",
       "    </tr>\n",
       "  </tbody>\n",
       "</table>\n",
       "</div>"
      ],
      "text/plain": [
       "   asv1_lag0  asv2_lag0  asv3_lag0  asv1_lag1  asv2_lag1  asv3_lag1  \\\n",
       "3       26.0       35.0        3.0  -3.734257   2.863344   0.870913   \n",
       "4        8.0       18.0       55.0   0.620744   0.917996  -1.538740   \n",
       "\n",
       "   asv1_lag2  asv2_lag2  asv3_lag2  asv1_lag3  asv2_lag3  asv3_lag3  \n",
       "3   0.196854   0.248147  -0.445000  -3.933536   1.875607   2.057929  \n",
       "4  -3.734257   2.863344   0.870913   0.196854   0.248147  -0.445000  "
      ]
     },
     "execution_count": 12,
     "metadata": {},
     "output_type": "execute_result"
    }
   ],
   "source": [
    "df_clr_supervised.head(2)"
   ]
  },
  {
   "cell_type": "markdown",
   "id": "1bbdae02-274b-41a4-8e15-3c55fc4210ea",
   "metadata": {},
   "source": [
    "#### 4. SPLIT TO TRAN AND TEST"
   ]
  },
  {
   "cell_type": "code",
   "execution_count": 13,
   "id": "5de83a0f-660b-4e8d-a858-d6499517e149",
   "metadata": {},
   "outputs": [],
   "source": [
    "splitter = MicrobiomeTraintestSplit(prc_split=0.1)"
   ]
  },
  {
   "cell_type": "markdown",
   "id": "9541b193-b9c4-44cb-bac1-7fc1ecad78b0",
   "metadata": {},
   "source": [
    "#### _a. use last timesteps as test_"
   ]
  },
  {
   "cell_type": "code",
   "execution_count": 29,
   "id": "b79313c3-0c48-4b15-a7c9-42cbabb8133e",
   "metadata": {},
   "outputs": [],
   "source": [
    "train, test = splitter.last_block_split(df_clr_supervised)"
   ]
  },
  {
   "cell_type": "code",
   "execution_count": 30,
   "id": "6363801c-b8f8-4621-8aeb-b6a79e92cde3",
   "metadata": {},
   "outputs": [
    {
     "data": {
      "text/plain": [
       "((10, 12), (1, 12))"
      ]
     },
     "execution_count": 30,
     "metadata": {},
     "output_type": "execute_result"
    }
   ],
   "source": [
    "train.shape, test.shape"
   ]
  },
  {
   "cell_type": "code",
   "execution_count": 31,
   "id": "9ca653c2-fa00-4bd5-a269-39814d2e6c59",
   "metadata": {},
   "outputs": [
    {
     "data": {
      "text/html": [
       "<div>\n",
       "<style scoped>\n",
       "    .dataframe tbody tr th:only-of-type {\n",
       "        vertical-align: middle;\n",
       "    }\n",
       "\n",
       "    .dataframe tbody tr th {\n",
       "        vertical-align: top;\n",
       "    }\n",
       "\n",
       "    .dataframe thead th {\n",
       "        text-align: right;\n",
       "    }\n",
       "</style>\n",
       "<table border=\"1\" class=\"dataframe\">\n",
       "  <thead>\n",
       "    <tr style=\"text-align: right;\">\n",
       "      <th></th>\n",
       "      <th>asv1_lag0</th>\n",
       "      <th>asv2_lag0</th>\n",
       "      <th>asv3_lag0</th>\n",
       "      <th>asv1_lag1</th>\n",
       "      <th>asv2_lag1</th>\n",
       "      <th>asv3_lag1</th>\n",
       "      <th>asv1_lag2</th>\n",
       "      <th>asv2_lag2</th>\n",
       "      <th>asv3_lag2</th>\n",
       "      <th>asv1_lag3</th>\n",
       "      <th>asv2_lag3</th>\n",
       "      <th>asv3_lag3</th>\n",
       "    </tr>\n",
       "  </thead>\n",
       "  <tbody>\n",
       "    <tr>\n",
       "      <th>3</th>\n",
       "      <td>26.0</td>\n",
       "      <td>35.0</td>\n",
       "      <td>3.0</td>\n",
       "      <td>-3.734257</td>\n",
       "      <td>2.863344</td>\n",
       "      <td>0.870913</td>\n",
       "      <td>0.196854</td>\n",
       "      <td>0.248147</td>\n",
       "      <td>-0.445000</td>\n",
       "      <td>-3.933536</td>\n",
       "      <td>1.875607</td>\n",
       "      <td>2.057929</td>\n",
       "    </tr>\n",
       "    <tr>\n",
       "      <th>4</th>\n",
       "      <td>8.0</td>\n",
       "      <td>18.0</td>\n",
       "      <td>55.0</td>\n",
       "      <td>0.620744</td>\n",
       "      <td>0.917996</td>\n",
       "      <td>-1.538740</td>\n",
       "      <td>-3.734257</td>\n",
       "      <td>2.863344</td>\n",
       "      <td>0.870913</td>\n",
       "      <td>0.196854</td>\n",
       "      <td>0.248147</td>\n",
       "      <td>-0.445000</td>\n",
       "    </tr>\n",
       "  </tbody>\n",
       "</table>\n",
       "</div>"
      ],
      "text/plain": [
       "   asv1_lag0  asv2_lag0  asv3_lag0  asv1_lag1  asv2_lag1  asv3_lag1  \\\n",
       "3       26.0       35.0        3.0  -3.734257   2.863344   0.870913   \n",
       "4        8.0       18.0       55.0   0.620744   0.917996  -1.538740   \n",
       "\n",
       "   asv1_lag2  asv2_lag2  asv3_lag2  asv1_lag3  asv2_lag3  asv3_lag3  \n",
       "3   0.196854   0.248147  -0.445000  -3.933536   1.875607   2.057929  \n",
       "4  -3.734257   2.863344   0.870913   0.196854   0.248147  -0.445000  "
      ]
     },
     "execution_count": 31,
     "metadata": {},
     "output_type": "execute_result"
    }
   ],
   "source": [
    "train.head(2)"
   ]
  },
  {
   "cell_type": "code",
   "execution_count": 32,
   "id": "cf6095a7-f7ca-4f81-a11c-a26bf7c847ee",
   "metadata": {},
   "outputs": [
    {
     "data": {
      "text/html": [
       "<div>\n",
       "<style scoped>\n",
       "    .dataframe tbody tr th:only-of-type {\n",
       "        vertical-align: middle;\n",
       "    }\n",
       "\n",
       "    .dataframe tbody tr th {\n",
       "        vertical-align: top;\n",
       "    }\n",
       "\n",
       "    .dataframe thead th {\n",
       "        text-align: right;\n",
       "    }\n",
       "</style>\n",
       "<table border=\"1\" class=\"dataframe\">\n",
       "  <thead>\n",
       "    <tr style=\"text-align: right;\">\n",
       "      <th></th>\n",
       "      <th>asv1_lag0</th>\n",
       "      <th>asv2_lag0</th>\n",
       "      <th>asv3_lag0</th>\n",
       "      <th>asv1_lag1</th>\n",
       "      <th>asv2_lag1</th>\n",
       "      <th>asv3_lag1</th>\n",
       "      <th>asv1_lag2</th>\n",
       "      <th>asv2_lag2</th>\n",
       "      <th>asv3_lag2</th>\n",
       "      <th>asv1_lag3</th>\n",
       "      <th>asv2_lag3</th>\n",
       "      <th>asv3_lag3</th>\n",
       "    </tr>\n",
       "  </thead>\n",
       "  <tbody>\n",
       "    <tr>\n",
       "      <th>13</th>\n",
       "      <td>0.0</td>\n",
       "      <td>12.0</td>\n",
       "      <td>25.0</td>\n",
       "      <td>-2.302585</td>\n",
       "      <td>-2.302585</td>\n",
       "      <td>4.60517</td>\n",
       "      <td>-0.858173</td>\n",
       "      <td>-1.145855</td>\n",
       "      <td>2.004028</td>\n",
       "      <td>1.487356</td>\n",
       "      <td>-4.584151</td>\n",
       "      <td>3.096794</td>\n",
       "    </tr>\n",
       "  </tbody>\n",
       "</table>\n",
       "</div>"
      ],
      "text/plain": [
       "    asv1_lag0  asv2_lag0  asv3_lag0  asv1_lag1  asv2_lag1  asv3_lag1  \\\n",
       "13        0.0       12.0       25.0  -2.302585  -2.302585    4.60517   \n",
       "\n",
       "    asv1_lag2  asv2_lag2  asv3_lag2  asv1_lag3  asv2_lag3  asv3_lag3  \n",
       "13  -0.858173  -1.145855   2.004028   1.487356  -4.584151   3.096794  "
      ]
     },
     "execution_count": 32,
     "metadata": {},
     "output_type": "execute_result"
    }
   ],
   "source": [
    "test.head()"
   ]
  },
  {
   "cell_type": "markdown",
   "id": "b4637a43-5286-46aa-9f18-43e6f331206d",
   "metadata": {},
   "source": [
    "#### _b. use timesteps from different parts from series as test_"
   ]
  },
  {
   "cell_type": "code",
   "execution_count": 22,
   "id": "ecdddfce-265d-4fd4-9032-7d08b1a6f8ac",
   "metadata": {},
   "outputs": [],
   "source": [
    "train, test = splitter.blocked_split(df_clr_supervised)"
   ]
  },
  {
   "cell_type": "code",
   "execution_count": 23,
   "id": "9a7a6bc7-4105-4067-b991-c95374a94996",
   "metadata": {},
   "outputs": [
    {
     "data": {
      "text/plain": [
       "((10, 12), (1, 12))"
      ]
     },
     "execution_count": 23,
     "metadata": {},
     "output_type": "execute_result"
    }
   ],
   "source": [
    "train.shape, test.shape"
   ]
  },
  {
   "cell_type": "code",
   "execution_count": 24,
   "id": "ebdf7b81-3739-45d6-839d-8838dcce2566",
   "metadata": {},
   "outputs": [
    {
     "data": {
      "text/html": [
       "<div>\n",
       "<style scoped>\n",
       "    .dataframe tbody tr th:only-of-type {\n",
       "        vertical-align: middle;\n",
       "    }\n",
       "\n",
       "    .dataframe tbody tr th {\n",
       "        vertical-align: top;\n",
       "    }\n",
       "\n",
       "    .dataframe thead th {\n",
       "        text-align: right;\n",
       "    }\n",
       "</style>\n",
       "<table border=\"1\" class=\"dataframe\">\n",
       "  <thead>\n",
       "    <tr style=\"text-align: right;\">\n",
       "      <th></th>\n",
       "      <th>asv1_lag0</th>\n",
       "      <th>asv2_lag0</th>\n",
       "      <th>asv3_lag0</th>\n",
       "      <th>asv1_lag1</th>\n",
       "      <th>asv2_lag1</th>\n",
       "      <th>asv3_lag1</th>\n",
       "      <th>asv1_lag2</th>\n",
       "      <th>asv2_lag2</th>\n",
       "      <th>asv3_lag2</th>\n",
       "      <th>asv1_lag3</th>\n",
       "      <th>asv2_lag3</th>\n",
       "      <th>asv3_lag3</th>\n",
       "    </tr>\n",
       "  </thead>\n",
       "  <tbody>\n",
       "    <tr>\n",
       "      <th>3</th>\n",
       "      <td>26.0</td>\n",
       "      <td>35.0</td>\n",
       "      <td>3.0</td>\n",
       "      <td>-3.734257</td>\n",
       "      <td>2.863344</td>\n",
       "      <td>0.870913</td>\n",
       "      <td>0.196854</td>\n",
       "      <td>0.248147</td>\n",
       "      <td>-0.445000</td>\n",
       "      <td>-3.933536</td>\n",
       "      <td>1.875607</td>\n",
       "      <td>2.057929</td>\n",
       "    </tr>\n",
       "    <tr>\n",
       "      <th>4</th>\n",
       "      <td>8.0</td>\n",
       "      <td>18.0</td>\n",
       "      <td>55.0</td>\n",
       "      <td>0.620744</td>\n",
       "      <td>0.917996</td>\n",
       "      <td>-1.538740</td>\n",
       "      <td>-3.734257</td>\n",
       "      <td>2.863344</td>\n",
       "      <td>0.870913</td>\n",
       "      <td>0.196854</td>\n",
       "      <td>0.248147</td>\n",
       "      <td>-0.445000</td>\n",
       "    </tr>\n",
       "  </tbody>\n",
       "</table>\n",
       "</div>"
      ],
      "text/plain": [
       "   asv1_lag0  asv2_lag0  asv3_lag0  asv1_lag1  asv2_lag1  asv3_lag1  \\\n",
       "3       26.0       35.0        3.0  -3.734257   2.863344   0.870913   \n",
       "4        8.0       18.0       55.0   0.620744   0.917996  -1.538740   \n",
       "\n",
       "   asv1_lag2  asv2_lag2  asv3_lag2  asv1_lag3  asv2_lag3  asv3_lag3  \n",
       "3   0.196854   0.248147  -0.445000  -3.933536   1.875607   2.057929  \n",
       "4  -3.734257   2.863344   0.870913   0.196854   0.248147  -0.445000  "
      ]
     },
     "execution_count": 24,
     "metadata": {},
     "output_type": "execute_result"
    }
   ],
   "source": [
    "train.head(2)"
   ]
  },
  {
   "cell_type": "code",
   "execution_count": 26,
   "id": "be403a8b-3e02-405e-8c6e-30473213684b",
   "metadata": {},
   "outputs": [
    {
     "data": {
      "text/html": [
       "<div>\n",
       "<style scoped>\n",
       "    .dataframe tbody tr th:only-of-type {\n",
       "        vertical-align: middle;\n",
       "    }\n",
       "\n",
       "    .dataframe tbody tr th {\n",
       "        vertical-align: top;\n",
       "    }\n",
       "\n",
       "    .dataframe thead th {\n",
       "        text-align: right;\n",
       "    }\n",
       "</style>\n",
       "<table border=\"1\" class=\"dataframe\">\n",
       "  <thead>\n",
       "    <tr style=\"text-align: right;\">\n",
       "      <th></th>\n",
       "      <th>asv1_lag0</th>\n",
       "      <th>asv2_lag0</th>\n",
       "      <th>asv3_lag0</th>\n",
       "      <th>asv1_lag1</th>\n",
       "      <th>asv2_lag1</th>\n",
       "      <th>asv3_lag1</th>\n",
       "      <th>asv1_lag2</th>\n",
       "      <th>asv2_lag2</th>\n",
       "      <th>asv3_lag2</th>\n",
       "      <th>asv1_lag3</th>\n",
       "      <th>asv2_lag3</th>\n",
       "      <th>asv3_lag3</th>\n",
       "    </tr>\n",
       "  </thead>\n",
       "  <tbody>\n",
       "    <tr>\n",
       "      <th>11</th>\n",
       "      <td>4.0</td>\n",
       "      <td>3.0</td>\n",
       "      <td>70.0</td>\n",
       "      <td>1.487356</td>\n",
       "      <td>-4.584151</td>\n",
       "      <td>3.096794</td>\n",
       "      <td>-2.533634</td>\n",
       "      <td>-2.533634</td>\n",
       "      <td>5.067268</td>\n",
       "      <td>1.487356</td>\n",
       "      <td>-4.584151</td>\n",
       "      <td>3.096794</td>\n",
       "    </tr>\n",
       "  </tbody>\n",
       "</table>\n",
       "</div>"
      ],
      "text/plain": [
       "    asv1_lag0  asv2_lag0  asv3_lag0  asv1_lag1  asv2_lag1  asv3_lag1  \\\n",
       "11        4.0        3.0       70.0   1.487356  -4.584151   3.096794   \n",
       "\n",
       "    asv1_lag2  asv2_lag2  asv3_lag2  asv1_lag3  asv2_lag3  asv3_lag3  \n",
       "11  -2.533634  -2.533634   5.067268   1.487356  -4.584151   3.096794  "
      ]
     },
     "execution_count": 26,
     "metadata": {},
     "output_type": "execute_result"
    }
   ],
   "source": [
    "test.head()"
   ]
  }
 ],
 "metadata": {
  "kernelspec": {
   "display_name": "basic_env",
   "language": "python",
   "name": "basic_env"
  },
  "language_info": {
   "codemirror_mode": {
    "name": "ipython",
    "version": 3
   },
   "file_extension": ".py",
   "mimetype": "text/x-python",
   "name": "python",
   "nbconvert_exporter": "python",
   "pygments_lexer": "ipython3",
   "version": "3.6.2"
  }
 },
 "nbformat": 4,
 "nbformat_minor": 5
}
