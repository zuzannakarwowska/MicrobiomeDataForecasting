{
 "cells": [
  {
   "cell_type": "markdown",
   "metadata": {},
   "source": [
    "#### This script: \n",
    "     - creates a dictionary that will translate OTU to taxonomy\n",
    "     - compares distribution of taxa on each taxonomic level for male and female subject\n",
    "     - visualises distribution of taxa on each taxonomic level separately for male and female subject through \n",
    "     time\n",
    "     - saves the feature table collapsed to each of taxonomic levels"
   ]
  },
  {
   "cell_type": "code",
   "execution_count": 1,
   "metadata": {},
   "outputs": [],
   "source": [
    "import pandas as pd\n",
    "from collections import Counter, defaultdict\n",
    "import matplotlib.pyplot as plt\n",
    "import seaborn as sns\n",
    "\n",
    "sns.set(style=\"ticks\", context=\"talk\")\n",
    "plt.style.use(\"dark_background\")"
   ]
  },
  {
   "cell_type": "code",
   "execution_count": 2,
   "metadata": {},
   "outputs": [
    {
     "name": "stdout",
     "output_type": "stream",
     "text": [
      "/klaster/scratch/zuzannakarwowska/SONATA_DATASETS/550_dataset/QIITA_analysis\n"
     ]
    }
   ],
   "source": [
    "%cd /klaster/scratch/zuzannakarwowska/SONATA_DATASETS/550_dataset/QIITA_analysis"
   ]
  },
  {
   "cell_type": "code",
   "execution_count": 3,
   "metadata": {},
   "outputs": [],
   "source": [
    "taxonomy_file = 'taxonomy/taxonomy.tsv'\n",
    "rarefied_file = 'data/feces_rarefied.tsv'\n",
    "metadata_file = 'data/feces_metadata.tsv'\n",
    "\n",
    "#read taxonomy file\n",
    "taxonomy_df = pd.read_csv(taxonomy_file, sep = '\\t')\n",
    "\n",
    "#read rarefied feature table\n",
    "rarefied_df = pd.read_csv(rarefied_file, sep = '\\t', skiprows = [0])\n",
    "rarefied_df = rarefied_df.rename(columns = {'#OTU ID': 'OTU'})\n",
    "#rarefied_df = rarefied_df.set_index(['OTU'])\n",
    "\n",
    "#read metadata file\n",
    "metadata = pd.read_csv(metadata_file, sep = '\\t')\n",
    "metadata = metadata[(metadata['sample_type'] == 'feces') & (metadata['mislabeled'] == False)]"
   ]
  },
  {
   "cell_type": "code",
   "execution_count": 4,
   "metadata": {},
   "outputs": [],
   "source": [
    "#dict  OTU:taxonomy\n",
    "dictionary = dict(zip(taxonomy_df['Feature ID'].tolist(), taxonomy_df['Taxon'].tolist()))"
   ]
  },
  {
   "cell_type": "code",
   "execution_count": 5,
   "metadata": {},
   "outputs": [],
   "source": [
    "#dict sample_id:sex_timepoint\n",
    "metadata['timepoint'] = metadata['sex'] + '_' + metadata[\"days_since_experiment_start\"].astype(str)\n",
    "\n",
    "keys = metadata['sample_name'].tolist()\n",
    "values = metadata[\"timepoint\"] \n",
    "\n",
    "tp_dict = dict(zip(keys, values))"
   ]
  },
  {
   "cell_type": "code",
   "execution_count": 6,
   "metadata": {},
   "outputs": [],
   "source": [
    "#translate feature table sample_id to sex_timestep, so it is easier to use in the future\n",
    "rarefied_df = rarefied_df.T.reset_index().replace({'index': tp_dict}).T\n",
    "rarefied_df.columns = rarefied_df.iloc[0]\n",
    "rarefied_df = rarefied_df.drop(rarefied_df.index[0])"
   ]
  },
  {
   "cell_type": "code",
   "execution_count": 7,
   "metadata": {},
   "outputs": [],
   "source": [
    "#add column with taxonomy to the feature table\n",
    "rarefied_df['taxonomy'] = rarefied_df.OTU.map(dictionary)\n",
    "taxonomy = rarefied_df['taxonomy'].str.split(expand=True)\n",
    "taxonomy.columns = ['k', 'p', 'c', 'o', 'f', 'g', 's']"
   ]
  },
  {
   "cell_type": "code",
   "execution_count": 8,
   "metadata": {},
   "outputs": [],
   "source": [
    "def translate_taxonomy(taxo_df):\n",
    "\n",
    "    taxo_df['taxonomy'] = taxo_df.OTU.map(dictionary)\n",
    "    taxonomy = taxo_df['taxonomy'].str.split(expand=True)\n",
    "    try:\n",
    "        \n",
    "        taxonomy = taxonomy.drop([7, 8, 9, 10], axis = 1)\n",
    "    except:\n",
    "        pass\n",
    "    \n",
    "    taxonomy.columns = ['k', 'p', 'c', 'o', 'f', 'g', 's']\n",
    "\n",
    "    taxo_df = taxo_df.drop(['taxonomy'], axis = 1)\n",
    "\n",
    "    merged_taxonomy = taxonomy.join(taxo_df)\n",
    "    mrg_tax = merged_taxonomy.drop(['OTU'], axis=1)\n",
    "    mrg_tax = mrg_tax.replace({';':''}, regex=True)\n",
    "\n",
    "    mrg_tax = mrg_tax.replace({'k__':''}, regex=True)\n",
    "    mrg_tax = mrg_tax.replace({'p__':''}, regex=True)\n",
    "    mrg_tax = mrg_tax.replace({'c__':''}, regex=True)\n",
    "    mrg_tax = mrg_tax.replace({'o__':''}, regex=True)\n",
    "    mrg_tax = mrg_tax.replace({'f__':''}, regex=True)\n",
    "    mrg_tax = mrg_tax.replace({'g__':''}, regex=True)\n",
    "    mrg_tax = mrg_tax.replace({'s__':''}, regex=True)\n",
    "    \n",
    "    \n",
    "    return mrg_tax"
   ]
  },
  {
   "cell_type": "code",
   "execution_count": 9,
   "metadata": {},
   "outputs": [],
   "source": [
    "tax_df = translate_taxonomy(rarefied_df)"
   ]
  },
  {
   "cell_type": "code",
   "execution_count": 13,
   "metadata": {},
   "outputs": [],
   "source": [
    "tax_df.to_csv('/klaster/scratch/zuzannakarwowska/SONATA_DATASETS/550_dataset/QIITA_analysis/taxonomyfeces_rarefied_taxonomy.tsv', index = False)"
   ]
  },
  {
   "cell_type": "markdown",
   "metadata": {},
   "source": [
    "# compare and visualize taxonomy"
   ]
  },
  {
   "cell_type": "code",
   "execution_count": null,
   "metadata": {},
   "outputs": [],
   "source": [
    "#change column names to make plotting easier\n",
    "tax_df.columns = [i.replace('female', 'f') for i in tax_df.columns]\n",
    "tax_df.columns = [i.replace('male', 'm') for i in tax_df.columns]\n",
    "tax_df = tax_df.rename(columns = {'f': 'family'})\n",
    "\n",
    "#common timesteps to compare taxonomy\n",
    "f_cols = [i.replace('f_', '') for i in tax_df.filter(like = 'f_').columns]\n",
    "m_cols = [i.replace('m_', '') for i in tax_df.filter(like = 'm_').columns]\n",
    "\n",
    "\n",
    "common_col = list(set(m_cols).intersection(f_cols))\n",
    "\n",
    "m_common = ['m_' + i for i in common_col]\n",
    "f_common = ['f_' + i for i in common_col]\n",
    "\n",
    "common_cols = m_common+f_common\n",
    "\n",
    "filtered_df = tax_df.filter(regex = 'f_|m_')[common_cols]\n",
    "\n",
    "mrg_tax = tax_df[['k', 'p', 'c', 'o', 'family', 'g', 's']].join(filtered_df)"
   ]
  },
  {
   "cell_type": "markdown",
   "metadata": {},
   "source": [
    "## Boxplots"
   ]
  },
  {
   "cell_type": "code",
   "execution_count": null,
   "metadata": {},
   "outputs": [],
   "source": [
    "def label_race (row):\n",
    "    \n",
    "    if 'f' in row['index']:\n",
    "        return 'f'\n",
    "    if 'm' in row['index']:\n",
    "        return 'm'\n",
    "    \n",
    "def plot_taxonomy(df, var, title):\n",
    "    \n",
    "    #group bacteria by phylum\n",
    "\n",
    "    phylum_df = df.filter(regex = 'f_|m|{}'.format(var)) #choose taxonomy level\n",
    "    phylum_df = phylum_df.groupby(var).agg('sum')\n",
    "    \n",
    "    a = phylum_df.T.reset_index()\n",
    "\n",
    "    a['subject'] = a.apply(lambda row: label_race(row), axis=1)    \n",
    "    a = a.set_index(['index'])\n",
    "    a = a.stack().reset_index()\n",
    "    a['subject'] = a.apply(lambda row: label_race(row), axis=1)\n",
    "    a.columns = ['index', var, 'value', 'subject']\n",
    "    a = a[a[var] != 'subject']\n",
    "    a.astype({'value': 'int32'}).dtypes\n",
    "    \n",
    "    plt.figure(figsize=(35, 15))\n",
    "\n",
    "    sns.boxplot(y = 'value', x = var, hue = 'subject', data = a)\n",
    "    plt.title('{} distribution among to subjects - common timesteps'.format(title), fontsize = 24)\n",
    "    plt.xticks(rotation=90, fontsize = 20)\n",
    "\n",
    "    plt.show()"
   ]
  },
  {
   "cell_type": "code",
   "execution_count": null,
   "metadata": {},
   "outputs": [],
   "source": [
    "taxa = ['k', 'p', 'c', 'o', 'family', 'g', 's']\n",
    "names = ['Kingdom', 'Phylum', 'Class', 'Order', 'Family', 'Genus', 'Strain']\n",
    "\n",
    "for t, n in zip(taxa, names):\n",
    "    plot_taxonomy(mrg_tax, t, n)"
   ]
  },
  {
   "cell_type": "markdown",
   "metadata": {},
   "source": [
    "## Lineplots"
   ]
  },
  {
   "cell_type": "code",
   "execution_count": null,
   "metadata": {},
   "outputs": [],
   "source": [
    "#lineplot of every taxon through time for female subject\n",
    "def lineplot_f_taxonomy(df, var, title):\n",
    "    \n",
    "    f_tax = df.filter(regex = ('f_|{}'.format(var))) #choose taxonomy level\n",
    "    phylum_df = f_tax.groupby(var).agg('sum') #summ all features within taxonomy level\n",
    "    \n",
    "    phylum_df.columns = [i.replace('f_', '') for i in phylum_df.columns] #remove f_ in colnames\n",
    "    phylum_df.columns = [int(i) for i in phylum_df.columns] \n",
    "\n",
    "    linedf = phylum_df.T.sort_index(axis = 0)#transpose so timesteps will be the index\n",
    "    \n",
    "\n",
    "    plt.figure(figsize=(35, 20))\n",
    "\n",
    "    ax = sns.lineplot(data = linedf)\n",
    "    plt.xticks(rotation=90, fontsize = 20)\n",
    "    plt.legend(loc='center left', bbox_to_anchor=(1.0, 0.5), fontsize=14)\n",
    "\n",
    "    plt.title('{} lineplot on female data'.format(title), fontsize = 20)\n",
    "    plt.show()\n",
    "    \n",
    "    phylum_df.columns = ['female_' + str(i) for i in phylum_df.columns]\n",
    "    \n",
    "    return phylum_df\n"
   ]
  },
  {
   "cell_type": "code",
   "execution_count": null,
   "metadata": {},
   "outputs": [],
   "source": [
    "#lineplot of every taxon through time for male subject\n",
    "def lineplot_m_taxonomy(df, var, title):\n",
    "    \n",
    "    m_tax = df.filter(regex = ('m_|{}'.format(var))) #choose taxonomy level\n",
    "    phylum_df = m_tax.groupby(var).agg('sum') #summ all features within taxonomy level\n",
    "    \n",
    "    phylum_df.columns = [i.replace('m_', '') for i in phylum_df.columns] #remove f_ in colnames\n",
    "    phylum_df.columns = [int(i) for i in phylum_df.columns] \n",
    "\n",
    "    linedf = phylum_df.T.sort_index(axis = 0)#transpose so timesteps will be the index\n",
    "\n",
    "\n",
    "    plt.figure(figsize=(35, 20))\n",
    "\n",
    "    ax = sns.lineplot(data = linedf)\n",
    "    plt.xticks(rotation=90, fontsize = 20)\n",
    "    plt.legend(loc='center left', bbox_to_anchor=(1.0, 0.5), fontsize=14)\n",
    "\n",
    "    plt.title('{} lineplot on male data'.format(title), fontsize = 20)\n",
    "    plt.show()\n",
    "    \n",
    "    phylum_df.columns = ['f_' + str(i) for i in phylum_df.columns]\n",
    "    \n",
    "    return phylum_df\n"
   ]
  },
  {
   "cell_type": "code",
   "execution_count": null,
   "metadata": {},
   "outputs": [],
   "source": [
    "for t, n in zip(taxa, names):\n",
    "    df = lineplot_m_taxonomy(tax_df, t, n)\n",
    "    "
   ]
  },
  {
   "cell_type": "markdown",
   "metadata": {},
   "source": [
    "## save taxonomy"
   ]
  },
  {
   "cell_type": "code",
   "execution_count": null,
   "metadata": {},
   "outputs": [],
   "source": [
    "taxa = ['p', 'c', 'o', 'family', 'g', 's']\n",
    "names = ['Phylum', 'Class', 'Order', 'Family', 'Genus', 'Strain']"
   ]
  },
  {
   "cell_type": "code",
   "execution_count": null,
   "metadata": {},
   "outputs": [],
   "source": [
    "#save for each taxonomic level\n",
    "for t, n in zip(taxa, names):\n",
    "    \n",
    "    name = 'f_' + n\n",
    "    \n",
    "    phylum_df = tax_df.filter(regex = 'f_|{}'.format(t))\n",
    "    phylum_df = phylum_df.groupby(t).agg('sum')\n",
    "    phylum_df = phylum_df[phylum_df.astype('bool').mean(axis=1)>=0.25]\n",
    "\n",
    "    phylum_df.iloc[1:]\n",
    "    \n",
    "    phylum_df.to_csv('{}.csv'.format(name), sep = '\\t')\n"
   ]
  }
 ],
 "metadata": {
  "kernelspec": {
   "display_name": "tape",
   "language": "python",
   "name": "tape"
  },
  "language_info": {
   "codemirror_mode": {
    "name": "ipython",
    "version": 3
   },
   "file_extension": ".py",
   "mimetype": "text/x-python",
   "name": "python",
   "nbconvert_exporter": "python",
   "pygments_lexer": "ipython3",
   "version": "3.7.9"
  }
 },
 "nbformat": 4,
 "nbformat_minor": 4
}
