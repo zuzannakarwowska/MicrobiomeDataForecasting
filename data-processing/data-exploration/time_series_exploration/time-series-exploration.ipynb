{
 "cells": [
  {
   "cell_type": "markdown",
   "id": "eaab1594-32ac-4375-ab70-8b12f5916c44",
   "metadata": {},
   "source": [
    "## MICROBIOME DATA EXPLORATION PIPELINE\n",
    "#### THIS CODE SHOWS HOW TO USE CLASSES IN ExploreTS.py to analyse microbiome data for further use"
   ]
  },
  {
   "cell_type": "markdown",
   "id": "967ef432-7fda-4112-929f-8d2499a2ab63",
   "metadata": {},
   "source": [
    "#### STEPS\n",
    "##### 1. series visualization using X \n",
    "##### 2. testing for stationarity with TestStationarity()\n",
    "##### 3. making data stationarity with MakeSeriesStationary()\n",
    "##### 4. testing for autocorrelation with AutoCorrelation()\n",
    "##### 5. testing for Granger causality with GrengerCausality"
   ]
  },
  {
   "cell_type": "code",
   "execution_count": 1,
   "id": "fde16e03-e725-4b5b-881f-6138305208dc",
   "metadata": {},
   "outputs": [],
   "source": [
    "import pandas as pd\n",
    "import matplotlib.pyplot as plt\n",
    "import warnings\n",
    "import numpy as np\n",
    "import seaborn as sns\n",
    "\n",
    "import os\n",
    "import sys\n",
    "\n",
    "import statsmodels.api as sm\n",
    "from statsmodels.tsa.stattools import acf, pacf"
   ]
  },
  {
   "cell_type": "code",
   "execution_count": 2,
   "id": "dcc6ef60-0cee-417c-b172-797ff86999f5",
   "metadata": {},
   "outputs": [],
   "source": [
    "MODULE_PATH = os.path.abspath('/storage/zkarwowska/clean_code/data_preparation/') \n",
    "if MODULE_PATH not in sys.path:\n",
    "    sys.path.append(MODULE_PATH)\n",
    "\n",
    "from ProcessingFunctions import CLRTransformer\n",
    "\n",
    "MODULE_PATH = os.path.abspath('/storage/zkarwowska/clean_code/data_exploration//') \n",
    "if MODULE_PATH not in sys.path:\n",
    "    sys.path.append(MODULE_PATH)\n",
    "\n",
    "from ExploreTS import TestStationarity, AutoCorrelation, GrengerCausality, MakeSeriesStationary"
   ]
  },
  {
   "cell_type": "code",
   "execution_count": 3,
   "id": "b1c65465-473c-4c91-8980-eb9496e0fd35",
   "metadata": {},
   "outputs": [],
   "source": [
    "names = ['asv1',\n",
    "         'asv2',\n",
    "         'asv3']\n",
    "\n",
    "\n",
    "counts = np.array([[ 0.,  10.,  12.],\n",
    "                   [19.,  20.,  10.],\n",
    "                   [ 0.,  22.,  3.],\n",
    "                   [26.,  35.,  3.],\n",
    "                   [ 8.,  18.,  55.],\n",
    "                   [ 0.,  0.,  60.],\n",
    "                   [13.,  0.,  65.],\n",
    "                   [ 0.,  0.,  60.],\n",
    "                   [13.,  0.,  65.],\n",
    "                   [ 0.,  0.,  60.],\n",
    "                   [13.,  0.,  65.],\n",
    "                   [ 4.,  3.,  70.],\n",
    "                   [ 0.,  0.,  30.],\n",
    "                   [ 0.,  12.,  25.]])\n",
    "\n",
    "df = pd.DataFrame(counts, columns = names)"
   ]
  },
  {
   "cell_type": "markdown",
   "id": "1ce6eba2-17cd-4654-9032-3cab6585cb12",
   "metadata": {},
   "source": [
    "#### 0. TRANSFORM DATA WITH CLR TO GET RID OF COMPOSITIONALITY"
   ]
  },
  {
   "cell_type": "code",
   "execution_count": 4,
   "id": "79d371ab-292d-4db3-a596-1e80c4e20b97",
   "metadata": {},
   "outputs": [],
   "source": [
    "clr_transformer = CLRTransformer(is_pseudo_global=True, axis=1)\n",
    "df_clr = clr_transformer.fit_transform(df)"
   ]
  },
  {
   "cell_type": "markdown",
   "id": "466be2d0-8525-45db-ac2b-f753b3e0e634",
   "metadata": {},
   "source": [
    "#### 1. TIME SERIES VISUALIZATION"
   ]
  },
  {
   "cell_type": "code",
   "execution_count": 5,
   "id": "f6fa9619-0173-4e99-9a12-27eaed36d9b5",
   "metadata": {},
   "outputs": [
    {
     "data": {
      "text/plain": [
       "<AxesSubplot:>"
      ]
     },
     "execution_count": 5,
     "metadata": {},
     "output_type": "execute_result"
    },
    {
     "data": {
      "image/png": "[encoded data removed]",
      "text/plain": [
       "<Figure size 1224x216 with 1 Axes>"
      ]
     },
     "metadata": {
      "needs_background": "light"
     },
     "output_type": "display_data"
    }
   ],
   "source": [
    "window = 2\n",
    "rol_mean = df_clr.rolling(window = window).median().median(axis=1)\n",
    "rol_std_p = (df_clr.rolling(window = window).median() + df.rolling(window = window).std()).median(axis=1)\n",
    "rol_std_n = (df_clr.rolling(window = window).median() - df.rolling(window = window).std()).median(axis=1)\n",
    "\n",
    "mean_true = df_clr.median(axis=1)\n",
    "\n",
    "plt.figure(figsize = [17, 3])\n",
    "\n",
    "sns.lineplot(x=mean_true.index, y=mean_true.values, color = 'black')\n",
    "sns.scatterplot(x=mean_true.index, y=mean_true.values, color = 'black')\n",
    "\n",
    "sns.lineplot(x=rol_mean.index, y=rol_mean.values, color = 'red', linewidth = 2, linestyle ='--')\n",
    "sns.lineplot(x=rol_std_p.index, y=rol_std_p.values, color = 'blue', linewidth = 1, linestyle = '-.')\n",
    "sns.lineplot(x=rol_std_n.index, y=rol_std_n.values, color = 'blue', linewidth = 1, linestyle = '-.')"
   ]
  },
  {
   "cell_type": "markdown",
   "id": "7935b2cd-8b49-4377-bd14-a4767a18253a",
   "metadata": {},
   "source": [
    "#### 2. TEST IF TIME SERIES IS STATIONARY\n",
    "\n",
    "verify whether series is stationary (has stable mean and variance over time) using Augmented Dickey–Fuller (unit root) test and KPSS test (deterministic trend)"
   ]
  },
  {
   "cell_type": "code",
   "execution_count": 6,
   "id": "5fc0d15f-1676-462d-b3e3-20bf2934ebde",
   "metadata": {},
   "outputs": [
    {
     "data": {
      "text/html": [
       "<div>\n",
       "<style scoped>\n",
       "    .dataframe tbody tr th:only-of-type {\n",
       "        vertical-align: middle;\n",
       "    }\n",
       "\n",
       "    .dataframe tbody tr th {\n",
       "        vertical-align: top;\n",
       "    }\n",
       "\n",
       "    .dataframe thead th {\n",
       "        text-align: right;\n",
       "    }\n",
       "</style>\n",
       "<table border=\"1\" class=\"dataframe\">\n",
       "  <thead>\n",
       "    <tr style=\"text-align: right;\">\n",
       "      <th></th>\n",
       "      <th>adf_pval</th>\n",
       "      <th>feature</th>\n",
       "      <th>adf_stationarity</th>\n",
       "    </tr>\n",
       "  </thead>\n",
       "  <tbody>\n",
       "    <tr>\n",
       "      <th>0</th>\n",
       "      <td>0.994648</td>\n",
       "      <td>asv1</td>\n",
       "      <td>non-stationary</td>\n",
       "    </tr>\n",
       "    <tr>\n",
       "      <th>1</th>\n",
       "      <td>0.160490</td>\n",
       "      <td>asv2</td>\n",
       "      <td>non-stationary</td>\n",
       "    </tr>\n",
       "    <tr>\n",
       "      <th>2</th>\n",
       "      <td>0.000113</td>\n",
       "      <td>asv3</td>\n",
       "      <td>stationary</td>\n",
       "    </tr>\n",
       "  </tbody>\n",
       "</table>\n",
       "</div>"
      ],
      "text/plain": [
       "   adf_pval feature adf_stationarity\n",
       "0  0.994648    asv1   non-stationary\n",
       "1  0.160490    asv2   non-stationary\n",
       "2  0.000113    asv3       stationary"
      ]
     },
     "execution_count": 6,
     "metadata": {},
     "output_type": "execute_result"
    }
   ],
   "source": [
    "test_stat = TestStationarity()\n",
    "\n",
    "# adf test\n",
    "adf_results = test_stat.calculate_adf(df_clr)\n",
    "adf_results"
   ]
  },
  {
   "cell_type": "code",
   "execution_count": 7,
   "id": "62259d18-9e54-4ffd-94d6-650025649130",
   "metadata": {},
   "outputs": [
    {
     "name": "stderr",
     "output_type": "stream",
     "text": [
      "/home/MCB/zkarwowska/anaconda3/envs/var_env/lib/python3.8/site-packages/statsmodels/tsa/stattools.py:2018: InterpolationWarning: The test statistic is outside of the range of p-values available in the\n",
      "look-up table. The actual p-value is smaller than the p-value returned.\n",
      "\n",
      "  warnings.warn(\n"
     ]
    },
    {
     "data": {
      "text/html": [
       "<div>\n",
       "<style scoped>\n",
       "    .dataframe tbody tr th:only-of-type {\n",
       "        vertical-align: middle;\n",
       "    }\n",
       "\n",
       "    .dataframe tbody tr th {\n",
       "        vertical-align: top;\n",
       "    }\n",
       "\n",
       "    .dataframe thead th {\n",
       "        text-align: right;\n",
       "    }\n",
       "</style>\n",
       "<table border=\"1\" class=\"dataframe\">\n",
       "  <thead>\n",
       "    <tr style=\"text-align: right;\">\n",
       "      <th></th>\n",
       "      <th>kpss_pval</th>\n",
       "      <th>feature</th>\n",
       "      <th>kpss_stationarity</th>\n",
       "    </tr>\n",
       "  </thead>\n",
       "  <tbody>\n",
       "    <tr>\n",
       "      <th>0</th>\n",
       "      <td>0.010000</td>\n",
       "      <td>asv1</td>\n",
       "      <td>non-stationary</td>\n",
       "    </tr>\n",
       "    <tr>\n",
       "      <th>1</th>\n",
       "      <td>0.022103</td>\n",
       "      <td>asv2</td>\n",
       "      <td>non-stationary</td>\n",
       "    </tr>\n",
       "    <tr>\n",
       "      <th>2</th>\n",
       "      <td>0.079691</td>\n",
       "      <td>asv3</td>\n",
       "      <td>stationary</td>\n",
       "    </tr>\n",
       "  </tbody>\n",
       "</table>\n",
       "</div>"
      ],
      "text/plain": [
       "   kpss_pval feature kpss_stationarity\n",
       "0   0.010000    asv1    non-stationary\n",
       "1   0.022103    asv2    non-stationary\n",
       "2   0.079691    asv3        stationary"
      ]
     },
     "execution_count": 7,
     "metadata": {},
     "output_type": "execute_result"
    }
   ],
   "source": [
    "# kpss test\n",
    "kpss_results = test_stat.calculate_kpss(df_clr)\n",
    "kpss_results"
   ]
  },
  {
   "cell_type": "markdown",
   "id": "3e2d157b-2b7a-4f0f-bbfe-0fe77919991b",
   "metadata": {},
   "source": [
    "#### 3. MAKE SERIES STATIONARY\n",
    "make series stationary by differencing or detrending"
   ]
  },
  {
   "cell_type": "code",
   "execution_count": 8,
   "id": "450aae8c-a7b8-49ad-99cb-9a3fd2fc3e95",
   "metadata": {},
   "outputs": [],
   "source": [
    "make_stat = MakeSeriesStationary()\n",
    "df_diff = make_stat.difference(df_clr)\n",
    "df_detrend = make_stat.remove_trend(df_clr)"
   ]
  },
  {
   "cell_type": "code",
   "execution_count": 9,
   "id": "3a924feb-d6db-4b55-ad2e-b79a9a461960",
   "metadata": {},
   "outputs": [
    {
     "name": "stderr",
     "output_type": "stream",
     "text": [
      "/home/MCB/zkarwowska/anaconda3/envs/var_env/lib/python3.8/site-packages/seaborn/distributions.py:2619: FutureWarning: `distplot` is a deprecated function and will be removed in a future version. Please adapt your code to use either `displot` (a figure-level function with similar flexibility) or `kdeplot` (an axes-level function for kernel density plots).\n",
      "  warnings.warn(msg, FutureWarning)\n",
      "/home/MCB/zkarwowska/anaconda3/envs/var_env/lib/python3.8/site-packages/seaborn/distributions.py:2619: FutureWarning: `distplot` is a deprecated function and will be removed in a future version. Please adapt your code to use either `displot` (a figure-level function with similar flexibility) or `kdeplot` (an axes-level function for kernel density plots).\n",
      "  warnings.warn(msg, FutureWarning)\n"
     ]
    },
    {
     "data": {
      "text/plain": [
       "Text(0.5, 1.0, 'DIFFERENCED TIME SERIES')"
      ]
     },
     "execution_count": 9,
     "metadata": {},
     "output_type": "execute_result"
    },
    {
     "data": {
      "image/png": "[encoded data removed]",
      "text/plain": [
       "<Figure size 432x288 with 1 Axes>"
      ]
     },
     "metadata": {
      "needs_background": "light"
     },
     "output_type": "display_data"
    }
   ],
   "source": [
    "sns.distplot(df_clr, hist=False, color = 'black')\n",
    "sns.distplot(df_diff, hist=False, color = 'red')\n",
    "plt.title('DIFFERENCED TIME SERIES')"
   ]
  },
  {
   "cell_type": "code",
   "execution_count": 10,
   "id": "ae6dfe37-3a96-40c4-a64a-f850f6153684",
   "metadata": {},
   "outputs": [
    {
     "name": "stderr",
     "output_type": "stream",
     "text": [
      "/home/MCB/zkarwowska/anaconda3/envs/var_env/lib/python3.8/site-packages/seaborn/distributions.py:2619: FutureWarning: `distplot` is a deprecated function and will be removed in a future version. Please adapt your code to use either `displot` (a figure-level function with similar flexibility) or `kdeplot` (an axes-level function for kernel density plots).\n",
      "  warnings.warn(msg, FutureWarning)\n",
      "/home/MCB/zkarwowska/anaconda3/envs/var_env/lib/python3.8/site-packages/seaborn/distributions.py:2619: FutureWarning: `distplot` is a deprecated function and will be removed in a future version. Please adapt your code to use either `displot` (a figure-level function with similar flexibility) or `kdeplot` (an axes-level function for kernel density plots).\n",
      "  warnings.warn(msg, FutureWarning)\n"
     ]
    },
    {
     "data": {
      "text/plain": [
       "Text(0.5, 1.0, 'DETRENDED TIME SERIES')"
      ]
     },
     "execution_count": 10,
     "metadata": {},
     "output_type": "execute_result"
    },
    {
     "data": {
      "image/png": "[encoded data removed]",
      "text/plain": [
       "<Figure size 432x288 with 1 Axes>"
      ]
     },
     "metadata": {
      "needs_background": "light"
     },
     "output_type": "display_data"
    }
   ],
   "source": [
    "sns.distplot(df_clr, hist=False, color = 'black')\n",
    "sns.distplot(df_detrend, hist=False, color = 'red')\n",
    "plt.title('DETRENDED TIME SERIES')"
   ]
  },
  {
   "cell_type": "markdown",
   "id": "e974c46c-fc3e-4599-b712-5f2b8342d560",
   "metadata": {},
   "source": [
    "#### 4. TEST AUTOCORRELATION\n",
    "\n",
    "test if variable is autocorrelated in time"
   ]
  },
  {
   "cell_type": "code",
   "execution_count": 11,
   "id": "156e5a8d-7647-4fff-a12f-c2469052e6ef",
   "metadata": {},
   "outputs": [
    {
     "data": {
      "text/html": [
       "<div>\n",
       "<style scoped>\n",
       "    .dataframe tbody tr th:only-of-type {\n",
       "        vertical-align: middle;\n",
       "    }\n",
       "\n",
       "    .dataframe tbody tr th {\n",
       "        vertical-align: top;\n",
       "    }\n",
       "\n",
       "    .dataframe thead th {\n",
       "        text-align: right;\n",
       "    }\n",
       "</style>\n",
       "<table border=\"1\" class=\"dataframe\">\n",
       "  <thead>\n",
       "    <tr style=\"text-align: right;\">\n",
       "      <th></th>\n",
       "      <th>coeff</th>\n",
       "      <th>pvalues</th>\n",
       "      <th>lag</th>\n",
       "      <th>feature</th>\n",
       "    </tr>\n",
       "  </thead>\n",
       "  <tbody>\n",
       "    <tr>\n",
       "      <th>0</th>\n",
       "      <td>-0.483099</td>\n",
       "      <td>0.044926</td>\n",
       "      <td>1</td>\n",
       "      <td>asv1</td>\n",
       "    </tr>\n",
       "    <tr>\n",
       "      <th>1</th>\n",
       "      <td>0.433154</td>\n",
       "      <td>0.023241</td>\n",
       "      <td>2</td>\n",
       "      <td>asv1</td>\n",
       "    </tr>\n",
       "    <tr>\n",
       "      <th>2</th>\n",
       "      <td>-0.282813</td>\n",
       "      <td>0.027331</td>\n",
       "      <td>3</td>\n",
       "      <td>asv1</td>\n",
       "    </tr>\n",
       "    <tr>\n",
       "      <th>0</th>\n",
       "      <td>0.499443</td>\n",
       "      <td>0.038155</td>\n",
       "      <td>1</td>\n",
       "      <td>asv2</td>\n",
       "    </tr>\n",
       "    <tr>\n",
       "      <th>1</th>\n",
       "      <td>0.609367</td>\n",
       "      <td>0.003644</td>\n",
       "      <td>2</td>\n",
       "      <td>asv2</td>\n",
       "    </tr>\n",
       "    <tr>\n",
       "      <th>2</th>\n",
       "      <td>-0.022337</td>\n",
       "      <td>0.010498</td>\n",
       "      <td>3</td>\n",
       "      <td>asv2</td>\n",
       "    </tr>\n",
       "    <tr>\n",
       "      <th>0</th>\n",
       "      <td>0.409454</td>\n",
       "      <td>0.089198</td>\n",
       "      <td>1</td>\n",
       "      <td>asv3</td>\n",
       "    </tr>\n",
       "    <tr>\n",
       "      <th>1</th>\n",
       "      <td>0.369460</td>\n",
       "      <td>0.065980</td>\n",
       "      <td>2</td>\n",
       "      <td>asv3</td>\n",
       "    </tr>\n",
       "    <tr>\n",
       "      <th>2</th>\n",
       "      <td>0.121247</td>\n",
       "      <td>0.125176</td>\n",
       "      <td>3</td>\n",
       "      <td>asv3</td>\n",
       "    </tr>\n",
       "  </tbody>\n",
       "</table>\n",
       "</div>"
      ],
      "text/plain": [
       "      coeff   pvalues  lag feature\n",
       "0 -0.483099  0.044926    1    asv1\n",
       "1  0.433154  0.023241    2    asv1\n",
       "2 -0.282813  0.027331    3    asv1\n",
       "0  0.499443  0.038155    1    asv2\n",
       "1  0.609367  0.003644    2    asv2\n",
       "2 -0.022337  0.010498    3    asv2\n",
       "0  0.409454  0.089198    1    asv3\n",
       "1  0.369460  0.065980    2    asv3\n",
       "2  0.121247  0.125176    3    asv3"
      ]
     },
     "execution_count": 11,
     "metadata": {},
     "output_type": "execute_result"
    }
   ],
   "source": [
    "autocorr = AutoCorrelation(lags = 3)\n",
    "\n",
    "## acf\n",
    "autocorr.calculate_acf(df_clr)"
   ]
  },
  {
   "cell_type": "code",
   "execution_count": 12,
   "id": "d6cd0bdc-e173-4ba8-807b-d843d14705b6",
   "metadata": {},
   "outputs": [
    {
     "data": {
      "text/html": [
       "<div>\n",
       "<style scoped>\n",
       "    .dataframe tbody tr th:only-of-type {\n",
       "        vertical-align: middle;\n",
       "    }\n",
       "\n",
       "    .dataframe tbody tr th {\n",
       "        vertical-align: top;\n",
       "    }\n",
       "\n",
       "    .dataframe thead th {\n",
       "        text-align: right;\n",
       "    }\n",
       "</style>\n",
       "<table border=\"1\" class=\"dataframe\">\n",
       "  <thead>\n",
       "    <tr style=\"text-align: right;\">\n",
       "      <th></th>\n",
       "      <th>coeff</th>\n",
       "      <th>lags</th>\n",
       "      <th>feature</th>\n",
       "    </tr>\n",
       "  </thead>\n",
       "  <tbody>\n",
       "    <tr>\n",
       "      <th>1</th>\n",
       "      <td>-0.548696</td>\n",
       "      <td>1</td>\n",
       "      <td>asv1</td>\n",
       "    </tr>\n",
       "    <tr>\n",
       "      <th>2</th>\n",
       "      <td>0.156993</td>\n",
       "      <td>2</td>\n",
       "      <td>asv1</td>\n",
       "    </tr>\n",
       "    <tr>\n",
       "      <th>3</th>\n",
       "      <td>-0.188270</td>\n",
       "      <td>3</td>\n",
       "      <td>asv1</td>\n",
       "    </tr>\n",
       "    <tr>\n",
       "      <th>1</th>\n",
       "      <td>0.514389</td>\n",
       "      <td>1</td>\n",
       "      <td>asv2</td>\n",
       "    </tr>\n",
       "    <tr>\n",
       "      <th>2</th>\n",
       "      <td>0.474435</td>\n",
       "      <td>2</td>\n",
       "      <td>asv2</td>\n",
       "    </tr>\n",
       "    <tr>\n",
       "      <th>3</th>\n",
       "      <td>-0.685446</td>\n",
       "      <td>3</td>\n",
       "      <td>asv2</td>\n",
       "    </tr>\n",
       "    <tr>\n",
       "      <th>1</th>\n",
       "      <td>0.380193</td>\n",
       "      <td>1</td>\n",
       "      <td>asv3</td>\n",
       "    </tr>\n",
       "    <tr>\n",
       "      <th>2</th>\n",
       "      <td>0.249133</td>\n",
       "      <td>2</td>\n",
       "      <td>asv3</td>\n",
       "    </tr>\n",
       "    <tr>\n",
       "      <th>3</th>\n",
       "      <td>-0.080830</td>\n",
       "      <td>3</td>\n",
       "      <td>asv3</td>\n",
       "    </tr>\n",
       "  </tbody>\n",
       "</table>\n",
       "</div>"
      ],
      "text/plain": [
       "      coeff  lags feature\n",
       "1 -0.548696     1    asv1\n",
       "2  0.156993     2    asv1\n",
       "3 -0.188270     3    asv1\n",
       "1  0.514389     1    asv2\n",
       "2  0.474435     2    asv2\n",
       "3 -0.685446     3    asv2\n",
       "1  0.380193     1    asv3\n",
       "2  0.249133     2    asv3\n",
       "3 -0.080830     3    asv3"
      ]
     },
     "execution_count": 12,
     "metadata": {},
     "output_type": "execute_result"
    }
   ],
   "source": [
    "## pacf\n",
    "autocorr.calculate_pacf(df_clr)"
   ]
  },
  {
   "cell_type": "markdown",
   "id": "821d4ea6-e1ed-4377-a12b-d3cdae47ba16",
   "metadata": {},
   "source": [
    "### 5. GRANGER CAUSALITY ANALYSIS\n",
    "analyse if variables Granger cause each other"
   ]
  },
  {
   "cell_type": "code",
   "execution_count": 13,
   "id": "a69c66f6-ba62-44c8-81c2-be69d822a5dc",
   "metadata": {},
   "outputs": [
    {
     "data": {
      "text/html": [
       "<div>\n",
       "<style scoped>\n",
       "    .dataframe tbody tr th:only-of-type {\n",
       "        vertical-align: middle;\n",
       "    }\n",
       "\n",
       "    .dataframe tbody tr th {\n",
       "        vertical-align: top;\n",
       "    }\n",
       "\n",
       "    .dataframe thead th {\n",
       "        text-align: right;\n",
       "    }\n",
       "</style>\n",
       "<table border=\"1\" class=\"dataframe\">\n",
       "  <thead>\n",
       "    <tr style=\"text-align: right;\">\n",
       "      <th></th>\n",
       "      <th>effect_size</th>\n",
       "      <th>pvalues</th>\n",
       "      <th>asv1</th>\n",
       "      <th>asv2</th>\n",
       "      <th>lag</th>\n",
       "    </tr>\n",
       "  </thead>\n",
       "  <tbody>\n",
       "    <tr>\n",
       "      <th>0</th>\n",
       "      <td>0.0000</td>\n",
       "      <td>1.0000</td>\n",
       "      <td>asv1</td>\n",
       "      <td>asv1</td>\n",
       "      <td>1</td>\n",
       "    </tr>\n",
       "    <tr>\n",
       "      <th>1</th>\n",
       "      <td>0.0000</td>\n",
       "      <td>1.0000</td>\n",
       "      <td>asv1</td>\n",
       "      <td>asv1</td>\n",
       "      <td>2</td>\n",
       "    </tr>\n",
       "    <tr>\n",
       "      <th>0</th>\n",
       "      <td>0.7899</td>\n",
       "      <td>0.3741</td>\n",
       "      <td>asv1</td>\n",
       "      <td>asv2</td>\n",
       "      <td>1</td>\n",
       "    </tr>\n",
       "    <tr>\n",
       "      <th>1</th>\n",
       "      <td>0.7338</td>\n",
       "      <td>0.6929</td>\n",
       "      <td>asv1</td>\n",
       "      <td>asv2</td>\n",
       "      <td>2</td>\n",
       "    </tr>\n",
       "    <tr>\n",
       "      <th>0</th>\n",
       "      <td>0.7899</td>\n",
       "      <td>0.3741</td>\n",
       "      <td>asv1</td>\n",
       "      <td>asv3</td>\n",
       "      <td>1</td>\n",
       "    </tr>\n",
       "  </tbody>\n",
       "</table>\n",
       "</div>"
      ],
      "text/plain": [
       "   effect_size  pvalues  asv1  asv2  lag\n",
       "0       0.0000   1.0000  asv1  asv1    1\n",
       "1       0.0000   1.0000  asv1  asv1    2\n",
       "0       0.7899   0.3741  asv1  asv2    1\n",
       "1       0.7338   0.6929  asv1  asv2    2\n",
       "0       0.7899   0.3741  asv1  asv3    1"
      ]
     },
     "execution_count": 13,
     "metadata": {},
     "output_type": "execute_result"
    }
   ],
   "source": [
    "granger = GrengerCausality()\n",
    "#caluclate granger statistics\n",
    "granger_df = granger.test_granger(df_clr)\n",
    "granger_df.head()"
   ]
  },
  {
   "cell_type": "code",
   "execution_count": 16,
   "id": "fc21aa4c-af1f-4398-93d7-a1f504343c6b",
   "metadata": {},
   "outputs": [
    {
     "data": {
      "image/png": "[encoded data removed]",
      "text/plain": [
       "<Figure size 360x360 with 4 Axes>"
      ]
     },
     "metadata": {
      "needs_background": "light"
     },
     "output_type": "display_data"
    }
   ],
   "source": [
    "#change results into a matrix\n",
    "ganger_matrix = granger.to_matrix(granger_df)\n",
    "#plot using clustermap\n",
    "granger.plot_clustermap(ganger_matrix)"
   ]
  }
 ],
 "metadata": {
  "kernelspec": {
   "display_name": "var_env",
   "language": "python",
   "name": "var_env"
  },
  "language_info": {
   "codemirror_mode": {
    "name": "ipython",
    "version": 3
   },
   "file_extension": ".py",
   "mimetype": "text/x-python",
   "name": "python",
   "nbconvert_exporter": "python",
   "pygments_lexer": "ipython3",
   "version": "3.8.13"
  }
 },
 "nbformat": 4,
 "nbformat_minor": 5
}
